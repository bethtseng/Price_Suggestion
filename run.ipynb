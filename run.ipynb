{
 "cells": [
  {
   "cell_type": "markdown",
   "metadata": {},
   "source": [
    "# Mercari Price Suggestion Challenge\n",
    "* url: https://www.kaggle.com/c/mercari-price-suggestion-challenge\n",
    "\n",
    "* tensorflow ref: https://github.com/tensorflow/tensorflow/blob/r1.4/tensorflow/examples/learn/wide_n_deep_tutorial.py"
   ]
  },
  {
   "cell_type": "markdown",
   "metadata": {},
   "source": [
    "### import module"
   ]
  },
  {
   "cell_type": "code",
   "execution_count": 1,
   "metadata": {},
   "outputs": [
    {
     "data": {
      "text/html": [
       "<script>requirejs.config({paths: { 'plotly': ['https://cdn.plot.ly/plotly-latest.min']},});if(!window.Plotly) {{require(['plotly'],function(plotly) {window.Plotly=plotly;});}}</script>"
      ],
      "text/vnd.plotly.v1+html": [
       "<script>requirejs.config({paths: { 'plotly': ['https://cdn.plot.ly/plotly-latest.min']},});if(!window.Plotly) {{require(['plotly'],function(plotly) {window.Plotly=plotly;});}}</script>"
      ]
     },
     "metadata": {},
     "output_type": "display_data"
    }
   ],
   "source": [
    "import pandas as pd\n",
    "import numpy as np\n",
    "from pandas import DataFrame, Series\n",
    "from collections import Counter, defaultdict\n",
    "import tensorflow as tf\n",
    "from sklearn.model_selection import train_test_split, cross_val_score\n",
    "from sklearn.feature_extraction.text import CountVectorizer, TfidfVectorizer\n",
    "from sklearn.preprocessing import LabelBinarizer\n",
    "import scipy\n",
    "from itertools import chain\n",
    "\n",
    "\n",
    "import gc\n",
    "\n",
    "import matplotlib\n",
    "%matplotlib inline\n",
    "import matplotlib.pyplot as plt\n",
    "matplotlib.style.use('ggplot')\n",
    "import seaborn as sns\n",
    "\n",
    "import plotly.graph_objs as go\n",
    "from plotly.offline import init_notebook_mode, iplot\n",
    "init_notebook_mode(connected=True)\n",
    "\n",
    "import helper_function as helper"
   ]
  },
  {
   "cell_type": "code",
   "execution_count": 2,
   "metadata": {
    "collapsed": true
   },
   "outputs": [],
   "source": [
    "train = pd.read_csv('sample_data/train.tsv', sep='\\t')\n",
    "test = pd.read_csv('sample_data/test.tsv', sep='\\t')\n",
    "submission = pd.read_csv('sample_data/sample_submission.csv', sep=',')"
   ]
  },
  {
   "cell_type": "code",
   "execution_count": 3,
   "metadata": {},
   "outputs": [],
   "source": [
    "# train = pd.read_csv('data/train.tsv', sep='\\t')\n",
    "# test = pd.read_csv('data/test.tsv', sep='\\t')"
   ]
  },
  {
   "cell_type": "markdown",
   "metadata": {},
   "source": [
    "### Data Preprocessing"
   ]
  },
  {
   "cell_type": "code",
   "execution_count": 4,
   "metadata": {
    "collapsed": true
   },
   "outputs": [],
   "source": [
    "BrandMinNum = 2\n",
    "NUM_BRANDS = 250"
   ]
  },
  {
   "cell_type": "code",
   "execution_count": 5,
   "metadata": {},
   "outputs": [
    {
     "name": "stdout",
     "output_type": "stream",
     "text": [
      "Index                 15984\n",
      "brand_name           103607\n",
      "category_name        174313\n",
      "item_condition_id     15984\n",
      "item_description     459804\n",
      "name                 167342\n",
      "price                 15984\n",
      "shipping              15984\n",
      "test_id               15984\n",
      "train_id              15984\n",
      "dtype: int64\n"
     ]
    }
   ],
   "source": [
    "df = pd.concat([train, test], 0)\n",
    "nrow_train = train.shape[0]\n",
    "Y_train = np.log1p(train[\"price\"])\n",
    "\n",
    "del train\n",
    "gc.collect() # release usage memory (df_train)\n",
    "\n",
    "print(df.memory_usage(deep = True))"
   ]
  },
  {
   "cell_type": "code",
   "execution_count": 6,
   "metadata": {},
   "outputs": [
    {
     "name": "stdout",
     "output_type": "stream",
     "text": [
      "Index                 15984\n",
      "brand_name           135849\n",
      "category_name        174691\n",
      "item_condition_id     15984\n",
      "item_description     459804\n",
      "name                 167342\n",
      "price                 15984\n",
      "shipping              15984\n",
      "test_id               15984\n",
      "train_id              15984\n",
      "dtype: int64\n"
     ]
    }
   ],
   "source": [
    "df[\"category_name\"] = df[\"category_name\"].fillna(\"Other\")#.astype(\"category\")\n",
    "df[\"brand_name\"] = df[\"brand_name\"].fillna(\"unknown\")\n",
    "\n",
    "# pop_brands = df[\"brand_name\"].value_counts().index[:NUM_BRANDS]\n",
    "brand_count = df[\"brand_name\"].value_counts()\n",
    "pop_brands = brand_count[brand_count > BrandMinNum].index\n",
    "df.loc[~df[\"brand_name\"].isin(pop_brands), \"brand_name\"] = \"Other\"\n",
    "\n",
    "df[\"item_description\"] = df[\"item_description\"].fillna(\"None\")\n",
    "df[\"item_condition_id\"] = df[\"item_condition_id\"]#.astype(\"category\")\n",
    "df[\"brand_name\"] = df[\"brand_name\"]#.astype(\"category\")\n",
    "\n",
    "print(df.memory_usage(deep = True))"
   ]
  },
  {
   "cell_type": "code",
   "execution_count": 7,
   "metadata": {},
   "outputs": [
    {
     "data": {
      "text/html": [
       "<div>\n",
       "<style>\n",
       "    .dataframe thead tr:only-child th {\n",
       "        text-align: right;\n",
       "    }\n",
       "\n",
       "    .dataframe thead th {\n",
       "        text-align: left;\n",
       "    }\n",
       "\n",
       "    .dataframe tbody tr th {\n",
       "        vertical-align: top;\n",
       "    }\n",
       "</style>\n",
       "<table border=\"1\" class=\"dataframe\">\n",
       "  <thead>\n",
       "    <tr style=\"text-align: right;\">\n",
       "      <th></th>\n",
       "      <th>brand_name</th>\n",
       "      <th>category_name</th>\n",
       "      <th>item_condition_id</th>\n",
       "      <th>item_description</th>\n",
       "      <th>name</th>\n",
       "      <th>price</th>\n",
       "      <th>shipping</th>\n",
       "      <th>test_id</th>\n",
       "      <th>train_id</th>\n",
       "    </tr>\n",
       "  </thead>\n",
       "  <tbody>\n",
       "    <tr>\n",
       "      <th>0</th>\n",
       "      <td>unknown</td>\n",
       "      <td>Men/Tops/T-shirts</td>\n",
       "      <td>3</td>\n",
       "      <td>No description yet</td>\n",
       "      <td>MLB Cincinnati Reds T Shirt Size XL</td>\n",
       "      <td>10.0</td>\n",
       "      <td>1</td>\n",
       "      <td>NaN</td>\n",
       "      <td>0.0</td>\n",
       "    </tr>\n",
       "    <tr>\n",
       "      <th>1</th>\n",
       "      <td>Other</td>\n",
       "      <td>Electronics/Computers &amp; Tablets/Components &amp; P...</td>\n",
       "      <td>3</td>\n",
       "      <td>This keyboard is in great condition and works ...</td>\n",
       "      <td>Razer BlackWidow Chroma Keyboard</td>\n",
       "      <td>52.0</td>\n",
       "      <td>0</td>\n",
       "      <td>NaN</td>\n",
       "      <td>1.0</td>\n",
       "    </tr>\n",
       "    <tr>\n",
       "      <th>2</th>\n",
       "      <td>Target</td>\n",
       "      <td>Women/Tops &amp; Blouses/Blouse</td>\n",
       "      <td>1</td>\n",
       "      <td>Adorable top with a hint of lace and a key hol...</td>\n",
       "      <td>AVA-VIV Blouse</td>\n",
       "      <td>10.0</td>\n",
       "      <td>1</td>\n",
       "      <td>NaN</td>\n",
       "      <td>2.0</td>\n",
       "    </tr>\n",
       "  </tbody>\n",
       "</table>\n",
       "</div>"
      ],
      "text/plain": [
       "  brand_name                                      category_name  \\\n",
       "0    unknown                                  Men/Tops/T-shirts   \n",
       "1      Other  Electronics/Computers & Tablets/Components & P...   \n",
       "2     Target                        Women/Tops & Blouses/Blouse   \n",
       "\n",
       "   item_condition_id                                   item_description  \\\n",
       "0                  3                                 No description yet   \n",
       "1                  3  This keyboard is in great condition and works ...   \n",
       "2                  1  Adorable top with a hint of lace and a key hol...   \n",
       "\n",
       "                                  name  price  shipping  test_id  train_id  \n",
       "0  MLB Cincinnati Reds T Shirt Size XL   10.0         1      NaN       0.0  \n",
       "1     Razer BlackWidow Chroma Keyboard   52.0         0      NaN       1.0  \n",
       "2                       AVA-VIV Blouse   10.0         1      NaN       2.0  "
      ]
     },
     "execution_count": 7,
     "metadata": {},
     "output_type": "execute_result"
    }
   ],
   "source": [
    "df.head(3)"
   ]
  },
  {
   "cell_type": "markdown",
   "metadata": {},
   "source": [
    "### Tensorflow"
   ]
  },
  {
   "cell_type": "code",
   "execution_count": 8,
   "metadata": {
    "collapsed": true
   },
   "outputs": [],
   "source": [
    "def split_cat(l):\n",
    "    for text in l:\n",
    "        yield text.split(\"/\")"
   ]
  },
  {
   "cell_type": "code",
   "execution_count": 9,
   "metadata": {},
   "outputs": [],
   "source": [
    "categories = list(split_cat(df['category_name']))\n",
    "df_categories = DataFrame(categories)\n",
    "df['general_cat'], df['subcat_1'], df['subcat_2'] = \\\n",
    "df_categories[0].fillna(\"No Label\"), df_categories[1].fillna(\"No Label\"), df_categories[2].fillna(\"No Label\")\n"
   ]
  },
  {
   "cell_type": "code",
   "execution_count": 10,
   "metadata": {},
   "outputs": [
    {
     "data": {
      "text/html": [
       "<div>\n",
       "<style>\n",
       "    .dataframe thead tr:only-child th {\n",
       "        text-align: right;\n",
       "    }\n",
       "\n",
       "    .dataframe thead th {\n",
       "        text-align: left;\n",
       "    }\n",
       "\n",
       "    .dataframe tbody tr th {\n",
       "        vertical-align: top;\n",
       "    }\n",
       "</style>\n",
       "<table border=\"1\" class=\"dataframe\">\n",
       "  <thead>\n",
       "    <tr style=\"text-align: right;\">\n",
       "      <th></th>\n",
       "      <th>brand_name</th>\n",
       "      <th>category_name</th>\n",
       "      <th>item_condition_id</th>\n",
       "      <th>item_description</th>\n",
       "      <th>name</th>\n",
       "      <th>price</th>\n",
       "      <th>shipping</th>\n",
       "      <th>test_id</th>\n",
       "      <th>train_id</th>\n",
       "      <th>general_cat</th>\n",
       "      <th>subcat_1</th>\n",
       "      <th>subcat_2</th>\n",
       "    </tr>\n",
       "  </thead>\n",
       "  <tbody>\n",
       "    <tr>\n",
       "      <th>0</th>\n",
       "      <td>unknown</td>\n",
       "      <td>Men/Tops/T-shirts</td>\n",
       "      <td>3</td>\n",
       "      <td>No description yet</td>\n",
       "      <td>MLB Cincinnati Reds T Shirt Size XL</td>\n",
       "      <td>10.0</td>\n",
       "      <td>1</td>\n",
       "      <td>NaN</td>\n",
       "      <td>0.0</td>\n",
       "      <td>Men</td>\n",
       "      <td>Tops</td>\n",
       "      <td>T-shirts</td>\n",
       "    </tr>\n",
       "    <tr>\n",
       "      <th>1</th>\n",
       "      <td>Other</td>\n",
       "      <td>Electronics/Computers &amp; Tablets/Components &amp; P...</td>\n",
       "      <td>3</td>\n",
       "      <td>This keyboard is in great condition and works ...</td>\n",
       "      <td>Razer BlackWidow Chroma Keyboard</td>\n",
       "      <td>52.0</td>\n",
       "      <td>0</td>\n",
       "      <td>NaN</td>\n",
       "      <td>1.0</td>\n",
       "      <td>Electronics</td>\n",
       "      <td>Computers &amp; Tablets</td>\n",
       "      <td>Components &amp; Parts</td>\n",
       "    </tr>\n",
       "    <tr>\n",
       "      <th>2</th>\n",
       "      <td>Target</td>\n",
       "      <td>Women/Tops &amp; Blouses/Blouse</td>\n",
       "      <td>1</td>\n",
       "      <td>Adorable top with a hint of lace and a key hol...</td>\n",
       "      <td>AVA-VIV Blouse</td>\n",
       "      <td>10.0</td>\n",
       "      <td>1</td>\n",
       "      <td>NaN</td>\n",
       "      <td>2.0</td>\n",
       "      <td>Women</td>\n",
       "      <td>Tops &amp; Blouses</td>\n",
       "      <td>Blouse</td>\n",
       "    </tr>\n",
       "  </tbody>\n",
       "</table>\n",
       "</div>"
      ],
      "text/plain": [
       "  brand_name                                      category_name  \\\n",
       "0    unknown                                  Men/Tops/T-shirts   \n",
       "1      Other  Electronics/Computers & Tablets/Components & P...   \n",
       "2     Target                        Women/Tops & Blouses/Blouse   \n",
       "\n",
       "   item_condition_id                                   item_description  \\\n",
       "0                  3                                 No description yet   \n",
       "1                  3  This keyboard is in great condition and works ...   \n",
       "2                  1  Adorable top with a hint of lace and a key hol...   \n",
       "\n",
       "                                  name  price  shipping  test_id  train_id  \\\n",
       "0  MLB Cincinnati Reds T Shirt Size XL   10.0         1      NaN       0.0   \n",
       "1     Razer BlackWidow Chroma Keyboard   52.0         0      NaN       1.0   \n",
       "2                       AVA-VIV Blouse   10.0         1      NaN       2.0   \n",
       "\n",
       "   general_cat             subcat_1            subcat_2  \n",
       "0          Men                 Tops            T-shirts  \n",
       "1  Electronics  Computers & Tablets  Components & Parts  \n",
       "2        Women       Tops & Blouses              Blouse  "
      ]
     },
     "execution_count": 10,
     "metadata": {},
     "output_type": "execute_result"
    }
   ],
   "source": [
    "df.head(3)"
   ]
  },
  {
   "cell_type": "code",
   "execution_count": 11,
   "metadata": {},
   "outputs": [],
   "source": [
    "X_train = df[:nrow_train]\n",
    "X_test = df[nrow_train:]\n",
    "\n",
    "X_train, X_eval, y_train, y_eval = train_test_split(\n",
    "    X_train, Y_train, test_size=0.1, random_state=42)"
   ]
  },
  {
   "cell_type": "code",
   "execution_count": 12,
   "metadata": {},
   "outputs": [
    {
     "data": {
      "text/html": [
       "<div>\n",
       "<style>\n",
       "    .dataframe thead tr:only-child th {\n",
       "        text-align: right;\n",
       "    }\n",
       "\n",
       "    .dataframe thead th {\n",
       "        text-align: left;\n",
       "    }\n",
       "\n",
       "    .dataframe tbody tr th {\n",
       "        vertical-align: top;\n",
       "    }\n",
       "</style>\n",
       "<table border=\"1\" class=\"dataframe\">\n",
       "  <thead>\n",
       "    <tr style=\"text-align: right;\">\n",
       "      <th></th>\n",
       "      <th>brand_name</th>\n",
       "      <th>category_name</th>\n",
       "      <th>item_condition_id</th>\n",
       "      <th>item_description</th>\n",
       "      <th>name</th>\n",
       "      <th>price</th>\n",
       "      <th>shipping</th>\n",
       "      <th>test_id</th>\n",
       "      <th>train_id</th>\n",
       "      <th>general_cat</th>\n",
       "      <th>subcat_1</th>\n",
       "      <th>subcat_2</th>\n",
       "    </tr>\n",
       "  </thead>\n",
       "  <tbody>\n",
       "    <tr>\n",
       "      <th>599</th>\n",
       "      <td>unknown</td>\n",
       "      <td>Women/Dresses/Full-Length</td>\n",
       "      <td>2</td>\n",
       "      <td>Super cute its long and sexy got online but by...</td>\n",
       "      <td>Striped Sexy Dress</td>\n",
       "      <td>6.0</td>\n",
       "      <td>1</td>\n",
       "      <td>NaN</td>\n",
       "      <td>599.0</td>\n",
       "      <td>Women</td>\n",
       "      <td>Dresses</td>\n",
       "      <td>Full-Length</td>\n",
       "    </tr>\n",
       "    <tr>\n",
       "      <th>432</th>\n",
       "      <td>unknown</td>\n",
       "      <td>Men/Tops/T-shirts</td>\n",
       "      <td>3</td>\n",
       "      <td>A black tee with white screen print g and garb...</td>\n",
       "      <td>'Garbage\" tee</td>\n",
       "      <td>7.0</td>\n",
       "      <td>1</td>\n",
       "      <td>NaN</td>\n",
       "      <td>432.0</td>\n",
       "      <td>Men</td>\n",
       "      <td>Tops</td>\n",
       "      <td>T-shirts</td>\n",
       "    </tr>\n",
       "    <tr>\n",
       "      <th>221</th>\n",
       "      <td>unknown</td>\n",
       "      <td>Women/Shoes/Sandals</td>\n",
       "      <td>3</td>\n",
       "      <td>Brown faux leather with back zipper. Size 7</td>\n",
       "      <td>Faux leather sandals</td>\n",
       "      <td>12.0</td>\n",
       "      <td>1</td>\n",
       "      <td>NaN</td>\n",
       "      <td>221.0</td>\n",
       "      <td>Women</td>\n",
       "      <td>Shoes</td>\n",
       "      <td>Sandals</td>\n",
       "    </tr>\n",
       "  </tbody>\n",
       "</table>\n",
       "</div>"
      ],
      "text/plain": [
       "    brand_name              category_name  item_condition_id  \\\n",
       "599    unknown  Women/Dresses/Full-Length                  2   \n",
       "432    unknown          Men/Tops/T-shirts                  3   \n",
       "221    unknown        Women/Shoes/Sandals                  3   \n",
       "\n",
       "                                      item_description                  name  \\\n",
       "599  Super cute its long and sexy got online but by...    Striped Sexy Dress   \n",
       "432  A black tee with white screen print g and garb...         'Garbage\" tee   \n",
       "221        Brown faux leather with back zipper. Size 7  Faux leather sandals   \n",
       "\n",
       "     price  shipping  test_id  train_id general_cat subcat_1     subcat_2  \n",
       "599    6.0         1      NaN     599.0       Women  Dresses  Full-Length  \n",
       "432    7.0         1      NaN     432.0         Men     Tops     T-shirts  \n",
       "221   12.0         1      NaN     221.0       Women    Shoes      Sandals  "
      ]
     },
     "execution_count": 12,
     "metadata": {},
     "output_type": "execute_result"
    }
   ],
   "source": [
    "X_train.head(3)"
   ]
  },
  {
   "cell_type": "code",
   "execution_count": 14,
   "metadata": {},
   "outputs": [],
   "source": [
    "unique_categories = pd.Series(\"/\".join(df[\"category_name\"].unique().astype(\"str\")).split(\"/\")).unique()\n",
    "\n",
    "TRAIN_CSV_COLUMNS = [\n",
    "    \"brand_name\", \"item_condition_id\", \n",
    "    #\"item_description\", \"name\", \"category_name\"\n",
    "    #\"price\", \n",
    "    \"general_cat\", \"subcat_1\", \"subcat_2\",\n",
    "    \"shipping\"\n",
    "]\n",
    "\n",
    "brand_name = tf.feature_column.categorical_column_with_vocabulary_list(\n",
    "    \"brand_name\", list(df.brand_name.unique()))\n",
    "item_condition_id = tf.feature_column.categorical_column_with_vocabulary_list(\n",
    "    \"item_condition_id\", list(df.item_condition_id.unique()))\n",
    "shipping = tf.feature_column.categorical_column_with_vocabulary_list(\n",
    "    \"shipping\", list(df.shipping.unique()))\n",
    "category_name = tf.feature_column.categorical_column_with_vocabulary_list(\n",
    "    \"category_name\", unique_categories)\n",
    "\n",
    "general_cat = tf.feature_column.categorical_column_with_vocabulary_list(\n",
    "    \"general_cat\", list(df.general_cat.unique()))\n",
    "subcat_1 = tf.feature_column.categorical_column_with_vocabulary_list(\n",
    "    \"subcat_1\", list(df.subcat_1.unique()))\n",
    "subcat_2 = tf.feature_column.categorical_column_with_vocabulary_list(\n",
    "    \"subcat_2\", list(df.subcat_2.unique()))\n",
    "\n",
    "feature_columns = [\n",
    "    #tf.feature_column.crossed_column(\n",
    "    #    [item_condition_id, shipping], hash_bucket_size=1000),\n",
    "    tf.feature_column.indicator_column(item_condition_id),\n",
    "    tf.feature_column.indicator_column(shipping),\n",
    "    tf.feature_column.embedding_column(brand_name, dimension=50),\n",
    "#     tf.feature_column.crossed_column(\n",
    "#        [general_cat, subcat_1, subcat_2], hash_bucket_size=1000),\n",
    "    tf.feature_column.indicator_column(general_cat),\n",
    "    tf.feature_column.indicator_column(subcat_1),\n",
    "    tf.feature_column.indicator_column(subcat_2),\n",
    "    ]\n",
    "\n",
    "num_hidden_units = [500, 150, 30, 150, 500]\n"
   ]
  },
  {
   "cell_type": "code",
   "execution_count": 15,
   "metadata": {
    "collapsed": true
   },
   "outputs": [],
   "source": [
    "train_input_fn = tf.estimator.inputs.pandas_input_fn(\n",
    "      x=X_train,\n",
    "      y=y_train,\n",
    "      batch_size=128,\n",
    "      num_epochs=None,\n",
    "      shuffle=False,\n",
    "      num_threads=1)\n",
    "\n",
    "eval_input_fn = tf.estimator.inputs.pandas_input_fn(\n",
    "      x=X_eval,\n",
    "      y=y_eval,\n",
    "      num_epochs=1,\n",
    "      shuffle=False,\n",
    "      num_threads=1)\n"
   ]
  },
  {
   "cell_type": "code",
   "execution_count": 16,
   "metadata": {},
   "outputs": [
    {
     "name": "stdout",
     "output_type": "stream",
     "text": [
      "INFO:tensorflow:Using default config.\n",
      "INFO:tensorflow:Using config: {'_session_config': None, '_log_step_count_steps': 100, '_keep_checkpoint_every_n_hours': 10000, '_tf_random_seed': 1, '_save_checkpoints_secs': 600, '_save_summary_steps': 100, '_keep_checkpoint_max': 5, '_save_checkpoints_steps': None, '_model_dir': './checkpoints/'}\n"
     ]
    }
   ],
   "source": [
    "model = tf.estimator.DNNRegressor(feature_columns=feature_columns,\n",
    "                                   hidden_units=num_hidden_units,\n",
    "                                   activation_fn=tf.nn.relu,\n",
    "                                   optimizer=tf.train.ProximalAdagradOptimizer(\n",
    "                                             learning_rate=0.1,\n",
    "                                             l1_regularization_strength=0.001),\n",
    "                                   model_dir=\"./checkpoints/\")"
   ]
  },
  {
   "cell_type": "code",
   "execution_count": 18,
   "metadata": {},
   "outputs": [
    {
     "name": "stdout",
     "output_type": "stream",
     "text": [
      "INFO:tensorflow:Create CheckpointSaverHook.\n",
      "INFO:tensorflow:Saving checkpoints for 1 into ./checkpoints/model.ckpt.\n",
      "INFO:tensorflow:step = 1, loss = 1176.97\n",
      "INFO:tensorflow:global_step/sec: 44.056\n",
      "INFO:tensorflow:step = 101, loss = 36.1813 (2.273 sec)\n",
      "INFO:tensorflow:global_step/sec: 50.145\n",
      "INFO:tensorflow:step = 201, loss = 26.6057 (1.993 sec)\n",
      "INFO:tensorflow:global_step/sec: 51.7663\n",
      "INFO:tensorflow:step = 301, loss = 13.9416 (1.932 sec)\n",
      "INFO:tensorflow:global_step/sec: 51.15\n",
      "INFO:tensorflow:step = 401, loss = 9.59312 (1.954 sec)\n",
      "INFO:tensorflow:global_step/sec: 37.0341\n",
      "INFO:tensorflow:step = 501, loss = 10.0672 (2.701 sec)\n",
      "INFO:tensorflow:global_step/sec: 33.5913\n",
      "INFO:tensorflow:step = 601, loss = 16.8563 (2.977 sec)\n",
      "INFO:tensorflow:global_step/sec: 39.7696\n",
      "INFO:tensorflow:step = 701, loss = 8.37662 (2.514 sec)\n",
      "INFO:tensorflow:global_step/sec: 29.6102\n",
      "INFO:tensorflow:step = 801, loss = 7.46242 (3.382 sec)\n",
      "INFO:tensorflow:global_step/sec: 49.7788\n",
      "INFO:tensorflow:step = 901, loss = 11.7991 (2.004 sec)\n",
      "INFO:tensorflow:global_step/sec: 49.971\n",
      "INFO:tensorflow:step = 1001, loss = 15.6444 (2.003 sec)\n",
      "INFO:tensorflow:global_step/sec: 49.7322\n",
      "INFO:tensorflow:step = 1101, loss = 5.47825 (2.009 sec)\n",
      "INFO:tensorflow:global_step/sec: 48.8698\n",
      "INFO:tensorflow:step = 1201, loss = 10.334 (2.048 sec)\n",
      "INFO:tensorflow:global_step/sec: 43.0071\n",
      "INFO:tensorflow:step = 1301, loss = 9.72477 (2.334 sec)\n",
      "INFO:tensorflow:global_step/sec: 49.2647\n",
      "INFO:tensorflow:step = 1401, loss = 16.7479 (2.019 sec)\n",
      "INFO:tensorflow:global_step/sec: 50.9703\n",
      "INFO:tensorflow:step = 1501, loss = 12.7839 (1.962 sec)\n",
      "INFO:tensorflow:global_step/sec: 51.0055\n",
      "INFO:tensorflow:step = 1601, loss = 8.2832 (1.961 sec)\n",
      "INFO:tensorflow:global_step/sec: 48.904\n",
      "INFO:tensorflow:step = 1701, loss = 8.30608 (2.046 sec)\n",
      "INFO:tensorflow:global_step/sec: 41.9393\n",
      "INFO:tensorflow:step = 1801, loss = 15.1501 (2.393 sec)\n",
      "INFO:tensorflow:global_step/sec: 50.8707\n",
      "INFO:tensorflow:step = 1901, loss = 16.9173 (1.955 sec)\n",
      "INFO:tensorflow:Saving checkpoints for 2000 into ./checkpoints/model.ckpt.\n",
      "INFO:tensorflow:Loss for final step: 5.04029.\n"
     ]
    },
    {
     "data": {
      "text/plain": [
       "<tensorflow.python.estimator.canned.dnn.DNNRegressor at 0x1040d4048>"
      ]
     },
     "execution_count": 18,
     "metadata": {},
     "output_type": "execute_result"
    }
   ],
   "source": [
    "model.train(input_fn=train_input_fn, steps=2000)"
   ]
  },
  {
   "cell_type": "code",
   "execution_count": 19,
   "metadata": {},
   "outputs": [
    {
     "name": "stdout",
     "output_type": "stream",
     "text": [
      "INFO:tensorflow:Starting evaluation at 2017-12-27-11:29:12\n",
      "INFO:tensorflow:Restoring parameters from ./checkpoints/model.ckpt-2000\n",
      "INFO:tensorflow:Finished evaluation at 2017-12-27-11:29:13\n",
      "INFO:tensorflow:Saving dict for global step 2000: average_loss = 0.603985, global_step = 2000, loss = 60.3985\n"
     ]
    }
   ],
   "source": [
    "result = model.evaluate(input_fn=eval_input_fn)"
   ]
  },
  {
   "cell_type": "code",
   "execution_count": 20,
   "metadata": {},
   "outputs": [],
   "source": [
    "some_data = X_eval[:9]\n",
    "\n",
    "predict_input_fn = tf.estimator.inputs.pandas_input_fn(\n",
    "      x=some_data,\n",
    "      num_epochs=1,\n",
    "      shuffle=False,\n",
    "      num_threads=1)"
   ]
  },
  {
   "cell_type": "code",
   "execution_count": 21,
   "metadata": {},
   "outputs": [
    {
     "name": "stdout",
     "output_type": "stream",
     "text": [
      "INFO:tensorflow:Restoring parameters from ./checkpoints/model.ckpt-2000\n",
      "Predict Result: [ 2.22325563  3.67049122  3.03620696  2.70529366  2.72866988  2.43480134\n",
      "  3.42344379  3.23485661  2.27796173]\n",
      "\n",
      "Real: [2.5649493574615367, 2.3978952727983707, 3.1354942159291497, 1.9459101490553132, 2.8903717578961645, 2.3978952727983707, 2.8332133440562162, 3.5553480614894135, 1.9459101490553132]\n"
     ]
    }
   ],
   "source": [
    "predictions = model.predict(input_fn=predict_input_fn)\n",
    "pred = [p['predictions'] for p in predictions]\n",
    "\n",
    "pred = np.array(pred, dtype='float32').squeeze()\n",
    "print(\"Predict Result: {}\\n\".format(pred))\n",
    "print(\"Real: {}\".format(list(y_eval[0:9])))"
   ]
  },
  {
   "cell_type": "markdown",
   "metadata": {},
   "source": [
    "<br>\n",
    "### Test"
   ]
  },
  {
   "cell_type": "code",
   "execution_count": 22,
   "metadata": {},
   "outputs": [],
   "source": [
    "predict_input_fn = tf.estimator.inputs.pandas_input_fn(\n",
    "      x=X_test,\n",
    "      num_epochs=1,\n",
    "      shuffle=False,\n",
    "      num_threads=1)"
   ]
  },
  {
   "cell_type": "code",
   "execution_count": 23,
   "metadata": {},
   "outputs": [
    {
     "name": "stdout",
     "output_type": "stream",
     "text": [
      "INFO:tensorflow:Restoring parameters from ./checkpoints/model.ckpt-2000\n"
     ]
    }
   ],
   "source": [
    "predictions = model.predict(input_fn=predict_input_fn)\n",
    "pred = [p['predictions'] for p in predictions]\n",
    "pred_result = np.array(pred, dtype='float32').squeeze()\n",
    "\n",
    "test[\"price\"] = np.expm1(pred_result)\n",
    "test[[\"test_id\", \"price\"]].to_csv(\"dnn_result.csv\", index = False)"
   ]
  },
  {
   "cell_type": "code",
   "execution_count": 24,
   "metadata": {},
   "outputs": [
    {
     "data": {
      "text/html": [
       "<div>\n",
       "<style>\n",
       "    .dataframe thead tr:only-child th {\n",
       "        text-align: right;\n",
       "    }\n",
       "\n",
       "    .dataframe thead th {\n",
       "        text-align: left;\n",
       "    }\n",
       "\n",
       "    .dataframe tbody tr th {\n",
       "        vertical-align: top;\n",
       "    }\n",
       "</style>\n",
       "<table border=\"1\" class=\"dataframe\">\n",
       "  <thead>\n",
       "    <tr style=\"text-align: right;\">\n",
       "      <th></th>\n",
       "      <th>test_id</th>\n",
       "      <th>price</th>\n",
       "    </tr>\n",
       "  </thead>\n",
       "  <tbody>\n",
       "    <tr>\n",
       "      <th>0</th>\n",
       "      <td>0</td>\n",
       "      <td>13.029753</td>\n",
       "    </tr>\n",
       "    <tr>\n",
       "      <th>1</th>\n",
       "      <td>1</td>\n",
       "      <td>16.992620</td>\n",
       "    </tr>\n",
       "    <tr>\n",
       "      <th>2</th>\n",
       "      <td>2</td>\n",
       "      <td>16.717607</td>\n",
       "    </tr>\n",
       "    <tr>\n",
       "      <th>3</th>\n",
       "      <td>3</td>\n",
       "      <td>12.465987</td>\n",
       "    </tr>\n",
       "    <tr>\n",
       "      <th>4</th>\n",
       "      <td>4</td>\n",
       "      <td>32.506908</td>\n",
       "    </tr>\n",
       "  </tbody>\n",
       "</table>\n",
       "</div>"
      ],
      "text/plain": [
       "   test_id      price\n",
       "0        0  13.029753\n",
       "1        1  16.992620\n",
       "2        2  16.717607\n",
       "3        3  12.465987\n",
       "4        4  32.506908"
      ]
     },
     "execution_count": 24,
     "metadata": {},
     "output_type": "execute_result"
    }
   ],
   "source": [
    "test[[\"test_id\", \"price\"]].head(5)"
   ]
  },
  {
   "cell_type": "code",
   "execution_count": null,
   "metadata": {
    "collapsed": true
   },
   "outputs": [],
   "source": []
  },
  {
   "cell_type": "code",
   "execution_count": null,
   "metadata": {
    "collapsed": true
   },
   "outputs": [],
   "source": []
  }
 ],
 "metadata": {
  "kernelspec": {
   "display_name": "Python 3",
   "language": "python",
   "name": "python3"
  },
  "language_info": {
   "codemirror_mode": {
    "name": "ipython",
    "version": 3
   },
   "file_extension": ".py",
   "mimetype": "text/x-python",
   "name": "python",
   "nbconvert_exporter": "python",
   "pygments_lexer": "ipython3",
   "version": "3.5.2"
  }
 },
 "nbformat": 4,
 "nbformat_minor": 2
}
