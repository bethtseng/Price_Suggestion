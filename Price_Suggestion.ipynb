{
 "cells": [
  {
   "cell_type": "markdown",
   "metadata": {},
   "source": [
    "# Mercari Price Suggestion Challenge\n",
    "* url: https://www.kaggle.com/c/mercari-price-suggestion-challenge"
   ]
  },
  {
   "cell_type": "markdown",
   "metadata": {},
   "source": [
    "### import module"
   ]
  },
  {
   "cell_type": "code",
   "execution_count": 1,
   "metadata": {
    "collapsed": true
   },
   "outputs": [],
   "source": [
    "import pandas as pd\n",
    "import numpy as np\n",
    "from pandas import DataFrame, Series\n",
    "\n",
    "import matplotlib\n",
    "%matplotlib inline\n",
    "import matplotlib.pyplot as plt\n",
    "matplotlib.style.use('ggplot')\n",
    "import seaborn as sns\n",
    "\n",
    "import plotly.plotly as py\n",
    "import plotly.graph_objs as go\n",
    "\n",
    "import math\n",
    "from collections import Counter, defaultdict"
   ]
  },
  {
   "cell_type": "markdown",
   "metadata": {},
   "source": [
    "### data exploration"
   ]
  },
  {
   "cell_type": "code",
   "execution_count": 2,
   "metadata": {
    "collapsed": true
   },
   "outputs": [],
   "source": [
    "train = pd.read_csv('sample_data/train.tsv', sep='\\t')\n",
    "test = pd.read_csv('sample_data/test.tsv', sep='\\t')\n",
    "submission = pd.read_csv('sample_data/sample_submission.csv', sep=',')"
   ]
  },
  {
   "cell_type": "code",
   "execution_count": 3,
   "metadata": {
    "collapsed": true
   },
   "outputs": [],
   "source": [
    "train = pd.read_csv('data/train.tsv', sep='\\t')\n",
    "# test = pd.read_csv('data/test.tsv', sep='\\t')"
   ]
  },
  {
   "cell_type": "code",
   "execution_count": 4,
   "metadata": {},
   "outputs": [
    {
     "data": {
      "text/html": [
       "<div>\n",
       "<style>\n",
       "    .dataframe thead tr:only-child th {\n",
       "        text-align: right;\n",
       "    }\n",
       "\n",
       "    .dataframe thead th {\n",
       "        text-align: left;\n",
       "    }\n",
       "\n",
       "    .dataframe tbody tr th {\n",
       "        vertical-align: top;\n",
       "    }\n",
       "</style>\n",
       "<table border=\"1\" class=\"dataframe\">\n",
       "  <thead>\n",
       "    <tr style=\"text-align: right;\">\n",
       "      <th></th>\n",
       "      <th>train_id</th>\n",
       "      <th>name</th>\n",
       "      <th>item_condition_id</th>\n",
       "      <th>category_name</th>\n",
       "      <th>brand_name</th>\n",
       "      <th>price</th>\n",
       "      <th>shipping</th>\n",
       "      <th>item_description</th>\n",
       "    </tr>\n",
       "  </thead>\n",
       "  <tbody>\n",
       "    <tr>\n",
       "      <th>0</th>\n",
       "      <td>0</td>\n",
       "      <td>MLB Cincinnati Reds T Shirt Size XL</td>\n",
       "      <td>3</td>\n",
       "      <td>Men/Tops/T-shirts</td>\n",
       "      <td>NaN</td>\n",
       "      <td>10.0</td>\n",
       "      <td>1</td>\n",
       "      <td>No description yet</td>\n",
       "    </tr>\n",
       "    <tr>\n",
       "      <th>1</th>\n",
       "      <td>1</td>\n",
       "      <td>Razer BlackWidow Chroma Keyboard</td>\n",
       "      <td>3</td>\n",
       "      <td>Electronics/Computers &amp; Tablets/Components &amp; P...</td>\n",
       "      <td>Razer</td>\n",
       "      <td>52.0</td>\n",
       "      <td>0</td>\n",
       "      <td>This keyboard is in great condition and works ...</td>\n",
       "    </tr>\n",
       "    <tr>\n",
       "      <th>2</th>\n",
       "      <td>2</td>\n",
       "      <td>AVA-VIV Blouse</td>\n",
       "      <td>1</td>\n",
       "      <td>Women/Tops &amp; Blouses/Blouse</td>\n",
       "      <td>Target</td>\n",
       "      <td>10.0</td>\n",
       "      <td>1</td>\n",
       "      <td>Adorable top with a hint of lace and a key hol...</td>\n",
       "    </tr>\n",
       "  </tbody>\n",
       "</table>\n",
       "</div>"
      ],
      "text/plain": [
       "   train_id                                 name  item_condition_id  \\\n",
       "0         0  MLB Cincinnati Reds T Shirt Size XL                  3   \n",
       "1         1     Razer BlackWidow Chroma Keyboard                  3   \n",
       "2         2                       AVA-VIV Blouse                  1   \n",
       "\n",
       "                                       category_name brand_name  price  \\\n",
       "0                                  Men/Tops/T-shirts        NaN   10.0   \n",
       "1  Electronics/Computers & Tablets/Components & P...      Razer   52.0   \n",
       "2                        Women/Tops & Blouses/Blouse     Target   10.0   \n",
       "\n",
       "   shipping                                   item_description  \n",
       "0         1                                 No description yet  \n",
       "1         0  This keyboard is in great condition and works ...  \n",
       "2         1  Adorable top with a hint of lace and a key hol...  "
      ]
     },
     "execution_count": 4,
     "metadata": {},
     "output_type": "execute_result"
    }
   ],
   "source": [
    "train.head(3)"
   ]
  },
  {
   "cell_type": "code",
   "execution_count": 5,
   "metadata": {},
   "outputs": [
    {
     "data": {
      "text/html": [
       "<div>\n",
       "<style>\n",
       "    .dataframe thead tr:only-child th {\n",
       "        text-align: right;\n",
       "    }\n",
       "\n",
       "    .dataframe thead th {\n",
       "        text-align: left;\n",
       "    }\n",
       "\n",
       "    .dataframe tbody tr th {\n",
       "        vertical-align: top;\n",
       "    }\n",
       "</style>\n",
       "<table border=\"1\" class=\"dataframe\">\n",
       "  <thead>\n",
       "    <tr style=\"text-align: right;\">\n",
       "      <th></th>\n",
       "      <th>test_id</th>\n",
       "      <th>price</th>\n",
       "    </tr>\n",
       "  </thead>\n",
       "  <tbody>\n",
       "    <tr>\n",
       "      <th>0</th>\n",
       "      <td>0</td>\n",
       "      <td>26.738</td>\n",
       "    </tr>\n",
       "    <tr>\n",
       "      <th>1</th>\n",
       "      <td>1</td>\n",
       "      <td>26.738</td>\n",
       "    </tr>\n",
       "    <tr>\n",
       "      <th>2</th>\n",
       "      <td>2</td>\n",
       "      <td>26.738</td>\n",
       "    </tr>\n",
       "  </tbody>\n",
       "</table>\n",
       "</div>"
      ],
      "text/plain": [
       "   test_id   price\n",
       "0        0  26.738\n",
       "1        1  26.738\n",
       "2        2  26.738"
      ]
     },
     "execution_count": 5,
     "metadata": {},
     "output_type": "execute_result"
    }
   ],
   "source": [
    "submission.head(3)"
   ]
  },
  {
   "cell_type": "code",
   "execution_count": 6,
   "metadata": {},
   "outputs": [
    {
     "data": {
      "text/plain": [
       "(1482535, 8)"
      ]
     },
     "execution_count": 6,
     "metadata": {},
     "output_type": "execute_result"
    }
   ],
   "source": [
    "train.shape"
   ]
  },
  {
   "cell_type": "code",
   "execution_count": 7,
   "metadata": {},
   "outputs": [
    {
     "data": {
      "text/html": [
       "<div>\n",
       "<style>\n",
       "    .dataframe thead tr:only-child th {\n",
       "        text-align: right;\n",
       "    }\n",
       "\n",
       "    .dataframe thead th {\n",
       "        text-align: left;\n",
       "    }\n",
       "\n",
       "    .dataframe tbody tr th {\n",
       "        vertical-align: top;\n",
       "    }\n",
       "</style>\n",
       "<table border=\"1\" class=\"dataframe\">\n",
       "  <thead>\n",
       "    <tr style=\"text-align: right;\">\n",
       "      <th></th>\n",
       "      <th>train_id</th>\n",
       "      <th>item_condition_id</th>\n",
       "      <th>price</th>\n",
       "      <th>shipping</th>\n",
       "    </tr>\n",
       "  </thead>\n",
       "  <tbody>\n",
       "    <tr>\n",
       "      <th>count</th>\n",
       "      <td>1.482535e+06</td>\n",
       "      <td>1.482535e+06</td>\n",
       "      <td>1.482535e+06</td>\n",
       "      <td>1.482535e+06</td>\n",
       "    </tr>\n",
       "    <tr>\n",
       "      <th>mean</th>\n",
       "      <td>7.412670e+05</td>\n",
       "      <td>1.907380e+00</td>\n",
       "      <td>2.673752e+01</td>\n",
       "      <td>4.472744e-01</td>\n",
       "    </tr>\n",
       "    <tr>\n",
       "      <th>std</th>\n",
       "      <td>4.279711e+05</td>\n",
       "      <td>9.031586e-01</td>\n",
       "      <td>3.858607e+01</td>\n",
       "      <td>4.972124e-01</td>\n",
       "    </tr>\n",
       "    <tr>\n",
       "      <th>min</th>\n",
       "      <td>0.000000e+00</td>\n",
       "      <td>1.000000e+00</td>\n",
       "      <td>0.000000e+00</td>\n",
       "      <td>0.000000e+00</td>\n",
       "    </tr>\n",
       "    <tr>\n",
       "      <th>25%</th>\n",
       "      <td>3.706335e+05</td>\n",
       "      <td>1.000000e+00</td>\n",
       "      <td>1.000000e+01</td>\n",
       "      <td>0.000000e+00</td>\n",
       "    </tr>\n",
       "    <tr>\n",
       "      <th>50%</th>\n",
       "      <td>7.412670e+05</td>\n",
       "      <td>2.000000e+00</td>\n",
       "      <td>1.700000e+01</td>\n",
       "      <td>0.000000e+00</td>\n",
       "    </tr>\n",
       "    <tr>\n",
       "      <th>75%</th>\n",
       "      <td>1.111900e+06</td>\n",
       "      <td>3.000000e+00</td>\n",
       "      <td>2.900000e+01</td>\n",
       "      <td>1.000000e+00</td>\n",
       "    </tr>\n",
       "    <tr>\n",
       "      <th>max</th>\n",
       "      <td>1.482534e+06</td>\n",
       "      <td>5.000000e+00</td>\n",
       "      <td>2.009000e+03</td>\n",
       "      <td>1.000000e+00</td>\n",
       "    </tr>\n",
       "  </tbody>\n",
       "</table>\n",
       "</div>"
      ],
      "text/plain": [
       "           train_id  item_condition_id         price      shipping\n",
       "count  1.482535e+06       1.482535e+06  1.482535e+06  1.482535e+06\n",
       "mean   7.412670e+05       1.907380e+00  2.673752e+01  4.472744e-01\n",
       "std    4.279711e+05       9.031586e-01  3.858607e+01  4.972124e-01\n",
       "min    0.000000e+00       1.000000e+00  0.000000e+00  0.000000e+00\n",
       "25%    3.706335e+05       1.000000e+00  1.000000e+01  0.000000e+00\n",
       "50%    7.412670e+05       2.000000e+00  1.700000e+01  0.000000e+00\n",
       "75%    1.111900e+06       3.000000e+00  2.900000e+01  1.000000e+00\n",
       "max    1.482534e+06       5.000000e+00  2.009000e+03  1.000000e+00"
      ]
     },
     "execution_count": 7,
     "metadata": {},
     "output_type": "execute_result"
    }
   ],
   "source": [
    "train.describe()"
   ]
  },
  {
   "cell_type": "code",
   "execution_count": 8,
   "metadata": {},
   "outputs": [
    {
     "data": {
      "text/plain": [
       "train_id               int64\n",
       "name                  object\n",
       "item_condition_id      int64\n",
       "category_name         object\n",
       "brand_name            object\n",
       "price                float64\n",
       "shipping               int64\n",
       "item_description      object\n",
       "dtype: object"
      ]
     },
     "execution_count": 8,
     "metadata": {},
     "output_type": "execute_result"
    }
   ],
   "source": [
    "train.dtypes"
   ]
  },
  {
   "cell_type": "markdown",
   "metadata": {},
   "source": [
    "### Helper Function"
   ]
  },
  {
   "cell_type": "code",
   "execution_count": 9,
   "metadata": {
    "collapsed": true
   },
   "outputs": [],
   "source": [
    "def log(l, slot=False):\n",
    "    for x in l:\n",
    "        x += 1\n",
    "        if slot: \n",
    "            result = math.ceil(math.log(x, 2))\n",
    "        else: \n",
    "            result = math.log(x, 2)\n",
    "        yield result\n",
    "\n",
    "def price_scale(l, n=500):\n",
    "    for x in l:\n",
    "        if x > n: yield n\n",
    "        else: yield x"
   ]
  },
  {
   "cell_type": "code",
   "execution_count": 10,
   "metadata": {
    "collapsed": true
   },
   "outputs": [],
   "source": [
    "log_price = list(log(train.price))\n",
    "log_price_slot = list(log(train.price, slot=True))\n",
    "train['log_price_slot'] = log_price_slot\n",
    "train['log_price'] = log_price"
   ]
  },
  {
   "cell_type": "code",
   "execution_count": 11,
   "metadata": {},
   "outputs": [
    {
     "data": {
      "text/plain": [
       "4     515105\n",
       "5     490311\n",
       "6     223163\n",
       "3     132218\n",
       "7      74964\n",
       "8      21247\n",
       "2      18703\n",
       "9       4924\n",
       "10       881\n",
       "0        874\n",
       "11       145\n",
       "Name: log_price_slot, dtype: int64"
      ]
     },
     "execution_count": 11,
     "metadata": {},
     "output_type": "execute_result"
    }
   ],
   "source": [
    "train['log_price_slot'].value_counts()"
   ]
  },
  {
   "cell_type": "markdown",
   "metadata": {},
   "source": [
    "### Pricing and Item Condition ID"
   ]
  },
  {
   "cell_type": "code",
   "execution_count": 12,
   "metadata": {},
   "outputs": [
    {
     "data": {
      "image/png": "[encoded data removed]",
      "text/plain": [
       "<matplotlib.figure.Figure at 0x1240f47f0>"
      ]
     },
     "metadata": {},
     "output_type": "display_data"
    }
   ],
   "source": [
    "f,ax=plt.subplots(2,2,figsize=(20,15))\n",
    "\n",
    "ax[0,0].hist(list(price_scale(train.price, n=350)), bins = 30,label = 'price')\n",
    "ax[0,0].set_title(\"Price\")\n",
    "ax[0,0].set_xlabel(\"Price\")\n",
    "ax[0,0].set_ylabel(\"Counts\")\n",
    "\n",
    "ax[0,1].hist('log_price', bins = 30,label='price', data=train)\n",
    "ax[0,1].set_title(\"Log Price (base=2)\")\n",
    "ax[0,1].set_xlabel(\"Log2(Price+1)\")\n",
    "ax[0,1].set_ylabel(\"Counts\")\n",
    "\n",
    "sns.countplot('log_price_slot', hue='item_condition_id', data=train, ax=ax[1,0])\n",
    "ax[1,0].set_title('Item Condition ID vs Log2 Price')\n",
    "sns.countplot('log_price_slot', hue='shipping',data=train,ax=ax[1,1])\n",
    "ax[1,1].set_title('Shipping vs Log2 Price')\n",
    "plt.show()"
   ]
  },
  {
   "cell_type": "code",
   "execution_count": 13,
   "metadata": {},
   "outputs": [
    {
     "data": {
      "image/png": "[encoded data removed]",
      "text/plain": [
       "<matplotlib.figure.Figure at 0x1240f4048>"
      ]
     },
     "metadata": {},
     "output_type": "display_data"
    }
   ],
   "source": [
    "# sns.factorplot(log_price_slot, 'item_condition_id' ,hue='shipping',col='', data=train)\n",
    "sns.factorplot('item_condition_id', 'log_price_slot' ,hue='shipping', data=train)\n",
    "plt.show()"
   ]
  },
  {
   "cell_type": "code",
   "execution_count": 14,
   "metadata": {},
   "outputs": [
    {
     "name": "stdout",
     "output_type": "stream",
     "text": [
      "Item Condition ID vs Shipping\n"
     ]
    },
    {
     "data": {
      "text/html": [
       "<style  type=\"text/css\" >\n",
       "    #T_2efd4db0_e9e4_11e7_8d82_8c2937e74684row0_col0 {\n",
       "            background-color:  #ffff66;\n",
       "        }    #T_2efd4db0_e9e4_11e7_8d82_8c2937e74684row0_col1 {\n",
       "            background-color:  #008066;\n",
       "        }    #T_2efd4db0_e9e4_11e7_8d82_8c2937e74684row0_col2 {\n",
       "            background-color:  #008066;\n",
       "        }    #T_2efd4db0_e9e4_11e7_8d82_8c2937e74684row0_col3 {\n",
       "            background-color:  #008066;\n",
       "        }    #T_2efd4db0_e9e4_11e7_8d82_8c2937e74684row0_col4 {\n",
       "            background-color:  #008066;\n",
       "        }    #T_2efd4db0_e9e4_11e7_8d82_8c2937e74684row1_col0 {\n",
       "            background-color:  #008066;\n",
       "        }    #T_2efd4db0_e9e4_11e7_8d82_8c2937e74684row1_col1 {\n",
       "            background-color:  #ffff66;\n",
       "        }    #T_2efd4db0_e9e4_11e7_8d82_8c2937e74684row1_col2 {\n",
       "            background-color:  #ffff66;\n",
       "        }    #T_2efd4db0_e9e4_11e7_8d82_8c2937e74684row1_col3 {\n",
       "            background-color:  #ffff66;\n",
       "        }    #T_2efd4db0_e9e4_11e7_8d82_8c2937e74684row1_col4 {\n",
       "            background-color:  #ffff66;\n",
       "        }</style>  \n",
       "<table id=\"T_2efd4db0_e9e4_11e7_8d82_8c2937e74684\" > \n",
       "<thead>    <tr> \n",
       "        <th class=\"index_name level0\" >item_condition_id</th> \n",
       "        <th class=\"col_heading level0 col0\" >1</th> \n",
       "        <th class=\"col_heading level0 col1\" >2</th> \n",
       "        <th class=\"col_heading level0 col2\" >3</th> \n",
       "        <th class=\"col_heading level0 col3\" >4</th> \n",
       "        <th class=\"col_heading level0 col4\" >5</th> \n",
       "    </tr>    <tr> \n",
       "        <th class=\"index_name level0\" >shipping</th> \n",
       "        <th class=\"blank\" ></th> \n",
       "        <th class=\"blank\" ></th> \n",
       "        <th class=\"blank\" ></th> \n",
       "        <th class=\"blank\" ></th> \n",
       "        <th class=\"blank\" ></th> \n",
       "    </tr></thead> \n",
       "<tbody>    <tr> \n",
       "        <th id=\"T_2efd4db0_e9e4_11e7_8d82_8c2937e74684level0_row0\" class=\"row_heading level0 row0\" >0</th> \n",
       "        <td id=\"T_2efd4db0_e9e4_11e7_8d82_8c2937e74684row0_col0\" class=\"data row0 col0\" >280107</td> \n",
       "        <td id=\"T_2efd4db0_e9e4_11e7_8d82_8c2937e74684row0_col1\" class=\"data row0 col1\" >232509</td> \n",
       "        <td id=\"T_2efd4db0_e9e4_11e7_8d82_8c2937e74684row0_col2\" class=\"data row0 col2\" >283691</td> \n",
       "        <td id=\"T_2efd4db0_e9e4_11e7_8d82_8c2937e74684row0_col3\" class=\"data row0 col3\" >21603</td> \n",
       "        <td id=\"T_2efd4db0_e9e4_11e7_8d82_8c2937e74684row0_col4\" class=\"data row0 col4\" >1525</td> \n",
       "    </tr>    <tr> \n",
       "        <th id=\"T_2efd4db0_e9e4_11e7_8d82_8c2937e74684level0_row1\" class=\"row_heading level0 row1\" >1</th> \n",
       "        <td id=\"T_2efd4db0_e9e4_11e7_8d82_8c2937e74684row1_col0\" class=\"data row1 col0\" >360442</td> \n",
       "        <td id=\"T_2efd4db0_e9e4_11e7_8d82_8c2937e74684row1_col1\" class=\"data row1 col1\" >142970</td> \n",
       "        <td id=\"T_2efd4db0_e9e4_11e7_8d82_8c2937e74684row1_col2\" class=\"data row1 col2\" >148470</td> \n",
       "        <td id=\"T_2efd4db0_e9e4_11e7_8d82_8c2937e74684row1_col3\" class=\"data row1 col3\" >10359</td> \n",
       "        <td id=\"T_2efd4db0_e9e4_11e7_8d82_8c2937e74684row1_col4\" class=\"data row1 col4\" >859</td> \n",
       "    </tr></tbody> \n",
       "</table> "
      ],
      "text/plain": [
       "<pandas.io.formats.style.Styler at 0x125006908>"
      ]
     },
     "execution_count": 14,
     "metadata": {},
     "output_type": "execute_result"
    }
   ],
   "source": [
    "print(\"Item Condition ID vs Shipping\")\n",
    "pd.crosstab(train.shipping,train.item_condition_id,margins=False).style.background_gradient(cmap='summer_r')"
   ]
  },
  {
   "cell_type": "code",
   "execution_count": 15,
   "metadata": {},
   "outputs": [
    {
     "data": {
      "image/png": "[encoded data removed]",
      "text/plain": [
       "<matplotlib.figure.Figure at 0x124fc1278>"
      ]
     },
     "metadata": {},
     "output_type": "display_data"
    }
   ],
   "source": [
    "f,ax=plt.subplots(figsize=(18,8))\n",
    "sns.violinplot(train.item_condition_id, log_price, hue=train.shipping, split=True)\n",
    "ax.set_title('item_condition_id and shipping vs log2 price')\n",
    "ax.set_xlabel(\"Log2 Price\")\n",
    "ax.set_ylabel(\"Item Condition ID\")\n",
    "plt.show()"
   ]
  },
  {
   "cell_type": "markdown",
   "metadata": {},
   "source": [
    "### Brand Name"
   ]
  },
  {
   "cell_type": "code",
   "execution_count": 20,
   "metadata": {},
   "outputs": [
    {
     "name": "stdout",
     "output_type": "stream",
     "text": [
      "There are 4809 brand in this dataset\n",
      "There are 632682 null in Brand Names\n"
     ]
    },
    {
     "data": {
      "text/plain": [
       "PINK                 54088\n",
       "Nike                 54043\n",
       "Victoria's Secret    48036\n",
       "LuLaRoe              31024\n",
       "Apple                17322\n",
       "Name: brand_name, dtype: int64"
      ]
     },
     "execution_count": 20,
     "metadata": {},
     "output_type": "execute_result"
    }
   ],
   "source": [
    "def brand_None(x):\n",
    "    try: # x is str\n",
    "        len(x)\n",
    "        return x\n",
    "    except: # x is NaN\n",
    "        return \"None\"\n",
    "\n",
    "def avg(l):\n",
    "    return sum(l)/len(l)\n",
    "\n",
    "def median(l):\n",
    "    l = np.array(l)\n",
    "    return np.median(l)\n",
    "\n",
    "def brand_dict2Series(d):\n",
    "    brand, price = list(zip(*d.items()))\n",
    "    result = Series(list(price), index=list(brand))\n",
    "    result = result.sort_values(ascending=False)\n",
    "    return result\n",
    "    \n",
    "brand_num = len(train.brand_name.value_counts())\n",
    "print(\"There are {} brand in this dataset\".format(brand_num))\n",
    "\n",
    "train['brand'] = train.brand_name.apply(brand_None)\n",
    "brand_null_num = (train['brand'] == \"None\").sum()\n",
    "print(\"There are {} null in Brand Names\".format(brand_null_num))\n",
    "\n",
    "train.brand_name.value_counts()[:5]"
   ]
  },
  {
   "cell_type": "markdown",
   "metadata": {},
   "source": [
    "<br>\n",
    "#### brand vs price\n",
    "* there are many outliers\n",
    "    * use <b>median price</b> rather than average price on each brand\n",
    "<br>"
   ]
  },
  {
   "cell_type": "code",
   "execution_count": 17,
   "metadata": {
    "collapsed": true
   },
   "outputs": [],
   "source": [
    "def brand_box_plot(d, show=None):\n",
    "    \"\"\"brand vs price box plot\n",
    "    input:\n",
    "        d = dictionary {brand_name: [price1, price2, .....]}\n",
    "        show = only show N instances in the plot (show all if None)\n",
    "    output:\n",
    "        fig = brand vs price box plot\n",
    "    \"\"\"\n",
    "    data = []\n",
    "    counter = 0\n",
    "    for k, v in brand_price.items():\n",
    "        data.append( go.Box(y=v, name=k) )\n",
    "        counter += 1\n",
    "        if counter == 10: break\n",
    "            \n",
    "    layout= go.Layout(\n",
    "        title= 'Brand vs Price box plot',\n",
    "        hovermode= 'closest',\n",
    "        xaxis= dict(\n",
    "            title= 'Brand Name',\n",
    "            ticklen= 5,\n",
    "            zeroline= False,\n",
    "            gridwidth= 2,\n",
    "        ),\n",
    "        yaxis=dict(\n",
    "            title= 'Price',\n",
    "            ticklen= 5,\n",
    "            gridwidth= 2,\n",
    "        ),\n",
    "        showlegend= False\n",
    "    )\n",
    "    fig= go.Figure(data=data, layout=layout)\n",
    "    return fig"
   ]
  },
  {
   "cell_type": "code",
   "execution_count": 18,
   "metadata": {},
   "outputs": [
    {
     "data": {
      "text/html": [
       "<iframe id=\"igraph\" scrolling=\"no\" style=\"border:none;\" seamless=\"seamless\" src=\"https://plot.ly/~beth_tseng/362.embed\" height=\"525px\" width=\"100%\"></iframe>"
      ],
      "text/plain": [
       "<plotly.tools.PlotlyDisplay object>"
      ]
     },
     "execution_count": 18,
     "metadata": {},
     "output_type": "execute_result"
    }
   ],
   "source": [
    "brand_price = defaultdict(list)\n",
    "for brand, price in zip(train.brand, train.price):\n",
    "    brand_price[brand].append(price)\n",
    "\n",
    "fig = brand_box_plot(brand_price, show=50)\n",
    "py.iplot(fig)"
   ]
  },
  {
   "cell_type": "code",
   "execution_count": 21,
   "metadata": {},
   "outputs": [],
   "source": [
    "brand_price_median_dict = defaultdict(int)\n",
    "for brand, price in brand_price.items():\n",
    "    brand_price_median_dict[brand] = median(price)\n",
    "    \n",
    "brand_price_median = brand_dict2Series(brand_price_median_dict)"
   ]
  },
  {
   "cell_type": "code",
   "execution_count": 22,
   "metadata": {
    "collapsed": true
   },
   "outputs": [],
   "source": [
    "def brand_median_price_plot(S, top_n=None):\n",
    "    \"\"\"brand name versus median price scatter plot\n",
    "    input:\n",
    "        S = Series([brand_median_price], index=brand_name)\n",
    "        top_n = only list most top_n expensive brand (list all brand if None)\n",
    "    output:\n",
    "        fig = brand name versus median price scatter plot\n",
    "    \"\"\"\n",
    "    trace = go.Scatter(\n",
    "        x = brand_price_median.index[:top_n],\n",
    "        y = brand_price_median.values[:top_n],\n",
    "        mode = 'markers'\n",
    "    )\n",
    "\n",
    "    layout= go.Layout(\n",
    "        title= 'Top {} Expensive Brand'.format(top_n),\n",
    "        hovermode= 'closest',\n",
    "        xaxis= dict(\n",
    "            title= 'Brand Name',\n",
    "            ticklen= 5,\n",
    "            zeroline= False,\n",
    "            gridwidth= 2,\n",
    "        ),\n",
    "        yaxis=dict(\n",
    "            title= 'Median Price',\n",
    "            ticklen= 5,\n",
    "            gridwidth= 2,\n",
    "        ),\n",
    "        showlegend= False\n",
    "    )\n",
    "    fig= go.Figure(data=[trace], layout=layout)\n",
    "    return fig"
   ]
  },
  {
   "cell_type": "code",
   "execution_count": 23,
   "metadata": {},
   "outputs": [
    {
     "data": {
      "text/html": [
       "<iframe id=\"igraph\" scrolling=\"no\" style=\"border:none;\" seamless=\"seamless\" src=\"https://plot.ly/~beth_tseng/364.embed\" height=\"525px\" width=\"100%\"></iframe>"
      ],
      "text/plain": [
       "<plotly.tools.PlotlyDisplay object>"
      ]
     },
     "execution_count": 23,
     "metadata": {},
     "output_type": "execute_result"
    }
   ],
   "source": [
    "fig = brand_median_price_plot(brand_price_median, top_n=50)\n",
    "py.iplot(fig)"
   ]
  },
  {
   "cell_type": "markdown",
   "metadata": {
    "collapsed": true
   },
   "source": [
    "### Category Name"
   ]
  },
  {
   "cell_type": "code",
   "execution_count": 24,
   "metadata": {},
   "outputs": [
    {
     "name": "stdout",
     "output_type": "stream",
     "text": [
      "There are 6327 items do not get category name\n"
     ]
    },
    {
     "data": {
      "text/plain": [
       "Women/Athletic Apparel/Pants, Tights, Leggings    60177\n",
       "Women/Tops & Blouses/T-Shirts                     46380\n",
       "Beauty/Makeup/Face                                34335\n",
       "Beauty/Makeup/Lips                                29910\n",
       "Electronics/Video Games & Consoles/Games          26557\n",
       "Name: category_name, dtype: int64"
      ]
     },
     "execution_count": 24,
     "metadata": {},
     "output_type": "execute_result"
    }
   ],
   "source": [
    "print(\"There are {} items do not get category name\".format( train.category_name.isnull().sum() ))\n",
    "train.category_name.value_counts()[:5]"
   ]
  },
  {
   "cell_type": "code",
   "execution_count": 25,
   "metadata": {},
   "outputs": [
    {
     "data": {
      "text/plain": [
       "Counter({0: 6327, 3: 1471819, 4: 1330, 5: 3059})"
      ]
     },
     "execution_count": 25,
     "metadata": {},
     "output_type": "execute_result"
    }
   ],
   "source": [
    "def count_len(s, sep='/'):\n",
    "    try: # if s is not None\n",
    "        return len(s.split(sep))\n",
    "    except: # if s is None\n",
    "        return 0\n",
    "    \n",
    "\n",
    "Counter([count_len(i) for i in train.category_name])"
   ]
  },
  {
   "cell_type": "code",
   "execution_count": 26,
   "metadata": {},
   "outputs": [
    {
     "data": {
      "text/plain": [
       "[3, 3, 3, 3, 3]"
      ]
     },
     "execution_count": 26,
     "metadata": {},
     "output_type": "execute_result"
    }
   ],
   "source": [
    "[count_len(i) for i in train.category_name[:5]]"
   ]
  },
  {
   "cell_type": "code",
   "execution_count": null,
   "metadata": {},
   "outputs": [],
   "source": []
  },
  {
   "cell_type": "code",
   "execution_count": null,
   "metadata": {
    "collapsed": true
   },
   "outputs": [],
   "source": []
  }
 ],
 "metadata": {
  "kernelspec": {
   "display_name": "Python 3",
   "language": "python",
   "name": "python3"
  },
  "language_info": {
   "codemirror_mode": {
    "name": "ipython",
    "version": 3
   },
   "file_extension": ".py",
   "mimetype": "text/x-python",
   "name": "python",
   "nbconvert_exporter": "python",
   "pygments_lexer": "ipython3",
   "version": "3.5.2"
  }
 },
 "nbformat": 4,
 "nbformat_minor": 2
}
