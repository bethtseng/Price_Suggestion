{
 "cells": [
  {
   "cell_type": "markdown",
   "metadata": {},
   "source": [
    "# Mercari Price Suggestion Challenge\n",
    "* url: https://www.kaggle.com/c/mercari-price-suggestion-challenge"
   ]
  },
  {
   "cell_type": "markdown",
   "metadata": {},
   "source": [
    "### import module"
   ]
  },
  {
   "cell_type": "code",
   "execution_count": 1,
   "metadata": {},
   "outputs": [
    {
     "data": {
      "text/html": [
       "<script>requirejs.config({paths: { 'plotly': ['https://cdn.plot.ly/plotly-latest.min']},});if(!window.Plotly) {{require(['plotly'],function(plotly) {window.Plotly=plotly;});}}</script>"
      ],
      "text/vnd.plotly.v1+html": [
       "<script>requirejs.config({paths: { 'plotly': ['https://cdn.plot.ly/plotly-latest.min']},});if(!window.Plotly) {{require(['plotly'],function(plotly) {window.Plotly=plotly;});}}</script>"
      ]
     },
     "metadata": {},
     "output_type": "display_data"
    }
   ],
   "source": [
    "import pandas as pd\n",
    "import numpy as np\n",
    "from pandas import DataFrame, Series\n",
    "from collections import Counter, defaultdict\n",
    "\n",
    "import matplotlib\n",
    "%matplotlib inline\n",
    "import matplotlib.pyplot as plt\n",
    "matplotlib.style.use('ggplot')\n",
    "import seaborn as sns\n",
    "\n",
    "import plotly.graph_objs as go\n",
    "from plotly.offline import init_notebook_mode, iplot\n",
    "init_notebook_mode(connected=True)\n",
    "\n",
    "import helper_function as helper"
   ]
  },
  {
   "cell_type": "markdown",
   "metadata": {},
   "source": [
    "### data exploration"
   ]
  },
  {
   "cell_type": "code",
   "execution_count": 2,
   "metadata": {
    "collapsed": true
   },
   "outputs": [],
   "source": [
    "#train = pd.read_csv('sample_data/train.tsv', sep='\\t')\n",
    "#test = pd.read_csv('sample_data/test.tsv', sep='\\t')\n",
    "submission = pd.read_csv('sample_data/sample_submission.csv', sep=',')"
   ]
  },
  {
   "cell_type": "code",
   "execution_count": 3,
   "metadata": {
    "collapsed": true
   },
   "outputs": [],
   "source": [
    "train = pd.read_csv('data/train.tsv', sep='\\t')\n",
    "#test = pd.read_csv('data/test.tsv', sep='\\t')"
   ]
  },
  {
   "cell_type": "code",
   "execution_count": 4,
   "metadata": {},
   "outputs": [
    {
     "data": {
      "text/html": [
       "<div>\n",
       "<style>\n",
       "    .dataframe thead tr:only-child th {\n",
       "        text-align: right;\n",
       "    }\n",
       "\n",
       "    .dataframe thead th {\n",
       "        text-align: left;\n",
       "    }\n",
       "\n",
       "    .dataframe tbody tr th {\n",
       "        vertical-align: top;\n",
       "    }\n",
       "</style>\n",
       "<table border=\"1\" class=\"dataframe\">\n",
       "  <thead>\n",
       "    <tr style=\"text-align: right;\">\n",
       "      <th></th>\n",
       "      <th>train_id</th>\n",
       "      <th>name</th>\n",
       "      <th>item_condition_id</th>\n",
       "      <th>category_name</th>\n",
       "      <th>brand_name</th>\n",
       "      <th>price</th>\n",
       "      <th>shipping</th>\n",
       "      <th>item_description</th>\n",
       "    </tr>\n",
       "  </thead>\n",
       "  <tbody>\n",
       "    <tr>\n",
       "      <th>0</th>\n",
       "      <td>0</td>\n",
       "      <td>MLB Cincinnati Reds T Shirt Size XL</td>\n",
       "      <td>3</td>\n",
       "      <td>Men/Tops/T-shirts</td>\n",
       "      <td>NaN</td>\n",
       "      <td>10.0</td>\n",
       "      <td>1</td>\n",
       "      <td>No description yet</td>\n",
       "    </tr>\n",
       "    <tr>\n",
       "      <th>1</th>\n",
       "      <td>1</td>\n",
       "      <td>Razer BlackWidow Chroma Keyboard</td>\n",
       "      <td>3</td>\n",
       "      <td>Electronics/Computers &amp; Tablets/Components &amp; P...</td>\n",
       "      <td>Razer</td>\n",
       "      <td>52.0</td>\n",
       "      <td>0</td>\n",
       "      <td>This keyboard is in great condition and works ...</td>\n",
       "    </tr>\n",
       "    <tr>\n",
       "      <th>2</th>\n",
       "      <td>2</td>\n",
       "      <td>AVA-VIV Blouse</td>\n",
       "      <td>1</td>\n",
       "      <td>Women/Tops &amp; Blouses/Blouse</td>\n",
       "      <td>Target</td>\n",
       "      <td>10.0</td>\n",
       "      <td>1</td>\n",
       "      <td>Adorable top with a hint of lace and a key hol...</td>\n",
       "    </tr>\n",
       "  </tbody>\n",
       "</table>\n",
       "</div>"
      ],
      "text/plain": [
       "   train_id                                 name  item_condition_id  \\\n",
       "0         0  MLB Cincinnati Reds T Shirt Size XL                  3   \n",
       "1         1     Razer BlackWidow Chroma Keyboard                  3   \n",
       "2         2                       AVA-VIV Blouse                  1   \n",
       "\n",
       "                                       category_name brand_name  price  \\\n",
       "0                                  Men/Tops/T-shirts        NaN   10.0   \n",
       "1  Electronics/Computers & Tablets/Components & P...      Razer   52.0   \n",
       "2                        Women/Tops & Blouses/Blouse     Target   10.0   \n",
       "\n",
       "   shipping                                   item_description  \n",
       "0         1                                 No description yet  \n",
       "1         0  This keyboard is in great condition and works ...  \n",
       "2         1  Adorable top with a hint of lace and a key hol...  "
      ]
     },
     "execution_count": 4,
     "metadata": {},
     "output_type": "execute_result"
    }
   ],
   "source": [
    "train.head(3)"
   ]
  },
  {
   "cell_type": "code",
   "execution_count": 5,
   "metadata": {},
   "outputs": [
    {
     "data": {
      "text/html": [
       "<div>\n",
       "<style>\n",
       "    .dataframe thead tr:only-child th {\n",
       "        text-align: right;\n",
       "    }\n",
       "\n",
       "    .dataframe thead th {\n",
       "        text-align: left;\n",
       "    }\n",
       "\n",
       "    .dataframe tbody tr th {\n",
       "        vertical-align: top;\n",
       "    }\n",
       "</style>\n",
       "<table border=\"1\" class=\"dataframe\">\n",
       "  <thead>\n",
       "    <tr style=\"text-align: right;\">\n",
       "      <th></th>\n",
       "      <th>test_id</th>\n",
       "      <th>price</th>\n",
       "    </tr>\n",
       "  </thead>\n",
       "  <tbody>\n",
       "    <tr>\n",
       "      <th>0</th>\n",
       "      <td>0</td>\n",
       "      <td>26.738</td>\n",
       "    </tr>\n",
       "    <tr>\n",
       "      <th>1</th>\n",
       "      <td>1</td>\n",
       "      <td>26.738</td>\n",
       "    </tr>\n",
       "    <tr>\n",
       "      <th>2</th>\n",
       "      <td>2</td>\n",
       "      <td>26.738</td>\n",
       "    </tr>\n",
       "  </tbody>\n",
       "</table>\n",
       "</div>"
      ],
      "text/plain": [
       "   test_id   price\n",
       "0        0  26.738\n",
       "1        1  26.738\n",
       "2        2  26.738"
      ]
     },
     "execution_count": 5,
     "metadata": {},
     "output_type": "execute_result"
    }
   ],
   "source": [
    "submission.head(3)"
   ]
  },
  {
   "cell_type": "code",
   "execution_count": 6,
   "metadata": {},
   "outputs": [
    {
     "data": {
      "text/plain": [
       "(1482535, 8)"
      ]
     },
     "execution_count": 6,
     "metadata": {},
     "output_type": "execute_result"
    }
   ],
   "source": [
    "train.shape"
   ]
  },
  {
   "cell_type": "code",
   "execution_count": 7,
   "metadata": {},
   "outputs": [
    {
     "data": {
      "text/html": [
       "<div>\n",
       "<style>\n",
       "    .dataframe thead tr:only-child th {\n",
       "        text-align: right;\n",
       "    }\n",
       "\n",
       "    .dataframe thead th {\n",
       "        text-align: left;\n",
       "    }\n",
       "\n",
       "    .dataframe tbody tr th {\n",
       "        vertical-align: top;\n",
       "    }\n",
       "</style>\n",
       "<table border=\"1\" class=\"dataframe\">\n",
       "  <thead>\n",
       "    <tr style=\"text-align: right;\">\n",
       "      <th></th>\n",
       "      <th>train_id</th>\n",
       "      <th>item_condition_id</th>\n",
       "      <th>price</th>\n",
       "      <th>shipping</th>\n",
       "    </tr>\n",
       "  </thead>\n",
       "  <tbody>\n",
       "    <tr>\n",
       "      <th>count</th>\n",
       "      <td>1.482535e+06</td>\n",
       "      <td>1.482535e+06</td>\n",
       "      <td>1.482535e+06</td>\n",
       "      <td>1.482535e+06</td>\n",
       "    </tr>\n",
       "    <tr>\n",
       "      <th>mean</th>\n",
       "      <td>7.412670e+05</td>\n",
       "      <td>1.907380e+00</td>\n",
       "      <td>2.673752e+01</td>\n",
       "      <td>4.472744e-01</td>\n",
       "    </tr>\n",
       "    <tr>\n",
       "      <th>std</th>\n",
       "      <td>4.279711e+05</td>\n",
       "      <td>9.031586e-01</td>\n",
       "      <td>3.858607e+01</td>\n",
       "      <td>4.972124e-01</td>\n",
       "    </tr>\n",
       "    <tr>\n",
       "      <th>min</th>\n",
       "      <td>0.000000e+00</td>\n",
       "      <td>1.000000e+00</td>\n",
       "      <td>0.000000e+00</td>\n",
       "      <td>0.000000e+00</td>\n",
       "    </tr>\n",
       "    <tr>\n",
       "      <th>25%</th>\n",
       "      <td>3.706335e+05</td>\n",
       "      <td>1.000000e+00</td>\n",
       "      <td>1.000000e+01</td>\n",
       "      <td>0.000000e+00</td>\n",
       "    </tr>\n",
       "    <tr>\n",
       "      <th>50%</th>\n",
       "      <td>7.412670e+05</td>\n",
       "      <td>2.000000e+00</td>\n",
       "      <td>1.700000e+01</td>\n",
       "      <td>0.000000e+00</td>\n",
       "    </tr>\n",
       "    <tr>\n",
       "      <th>75%</th>\n",
       "      <td>1.111900e+06</td>\n",
       "      <td>3.000000e+00</td>\n",
       "      <td>2.900000e+01</td>\n",
       "      <td>1.000000e+00</td>\n",
       "    </tr>\n",
       "    <tr>\n",
       "      <th>max</th>\n",
       "      <td>1.482534e+06</td>\n",
       "      <td>5.000000e+00</td>\n",
       "      <td>2.009000e+03</td>\n",
       "      <td>1.000000e+00</td>\n",
       "    </tr>\n",
       "  </tbody>\n",
       "</table>\n",
       "</div>"
      ],
      "text/plain": [
       "           train_id  item_condition_id         price      shipping\n",
       "count  1.482535e+06       1.482535e+06  1.482535e+06  1.482535e+06\n",
       "mean   7.412670e+05       1.907380e+00  2.673752e+01  4.472744e-01\n",
       "std    4.279711e+05       9.031586e-01  3.858607e+01  4.972124e-01\n",
       "min    0.000000e+00       1.000000e+00  0.000000e+00  0.000000e+00\n",
       "25%    3.706335e+05       1.000000e+00  1.000000e+01  0.000000e+00\n",
       "50%    7.412670e+05       2.000000e+00  1.700000e+01  0.000000e+00\n",
       "75%    1.111900e+06       3.000000e+00  2.900000e+01  1.000000e+00\n",
       "max    1.482534e+06       5.000000e+00  2.009000e+03  1.000000e+00"
      ]
     },
     "execution_count": 7,
     "metadata": {},
     "output_type": "execute_result"
    }
   ],
   "source": [
    "train.describe()"
   ]
  },
  {
   "cell_type": "code",
   "execution_count": 8,
   "metadata": {},
   "outputs": [
    {
     "data": {
      "text/plain": [
       "train_id               int64\n",
       "name                  object\n",
       "item_condition_id      int64\n",
       "category_name         object\n",
       "brand_name            object\n",
       "price                float64\n",
       "shipping               int64\n",
       "item_description      object\n",
       "dtype: object"
      ]
     },
     "execution_count": 8,
     "metadata": {},
     "output_type": "execute_result"
    }
   ],
   "source": [
    "train.dtypes"
   ]
  },
  {
   "cell_type": "markdown",
   "metadata": {},
   "source": [
    "### Price\n",
    "* log_price = <b>Log2( price+1 )</b>\n",
    "* log_price_slot = ceil( <b>Log2( price+1 )</b> )"
   ]
  },
  {
   "cell_type": "code",
   "execution_count": 9,
   "metadata": {
    "collapsed": true
   },
   "outputs": [],
   "source": [
    "log_price = list(helper.log(train.price))\n",
    "log_price_slot = list(helper.log(train.price, slot=True))\n",
    "train['log_price_slot'] = log_price_slot\n",
    "train['log_price'] = log_price"
   ]
  },
  {
   "cell_type": "code",
   "execution_count": 10,
   "metadata": {},
   "outputs": [
    {
     "data": {
      "text/plain": [
       "4     515105\n",
       "5     490311\n",
       "6     223163\n",
       "3     132218\n",
       "7      74964\n",
       "8      21247\n",
       "2      18703\n",
       "9       4924\n",
       "10       881\n",
       "0        874\n",
       "11       145\n",
       "Name: log_price_slot, dtype: int64"
      ]
     },
     "execution_count": 10,
     "metadata": {},
     "output_type": "execute_result"
    }
   ],
   "source": [
    "train['log_price_slot'].value_counts()"
   ]
  },
  {
   "cell_type": "markdown",
   "metadata": {},
   "source": [
    "### Pricing and Item Condition ID"
   ]
  },
  {
   "cell_type": "code",
   "execution_count": 11,
   "metadata": {},
   "outputs": [
    {
     "data": {
      "image/png": "[encoded data removed]",
      "text/plain": [
       "<matplotlib.figure.Figure at 0x13eb78748>"
      ]
     },
     "metadata": {},
     "output_type": "display_data"
    }
   ],
   "source": [
    "f,ax=plt.subplots(2,2,figsize=(20,15))\n",
    "\n",
    "ax[0,0].hist(list(helper.price_scale(train.price, n=350)), bins = 30,label = 'price')\n",
    "ax[0,0].set_title(\"Price\")\n",
    "ax[0,0].set_xlabel(\"Price\")\n",
    "ax[0,0].set_ylabel(\"Counts\")\n",
    "\n",
    "ax[0,1].hist('log_price', bins = 30,label='price', data=train)\n",
    "ax[0,1].set_title(\"Log Price (base=2)\")\n",
    "ax[0,1].set_xlabel(\"Log2(Price+1)\")\n",
    "ax[0,1].set_ylabel(\"Counts\")\n",
    "\n",
    "sns.countplot('log_price_slot', hue='item_condition_id', data=train, ax=ax[1,0])\n",
    "ax[1,0].set_title('Item Condition ID vs Log2 Price')\n",
    "sns.countplot('log_price_slot', hue='shipping',data=train,ax=ax[1,1])\n",
    "ax[1,1].set_title('Shipping vs Log2 Price')\n",
    "plt.show()"
   ]
  },
  {
   "cell_type": "code",
   "execution_count": 12,
   "metadata": {},
   "outputs": [
    {
     "data": {
      "image/png": "[encoded data removed]",
      "text/plain": [
       "<matplotlib.figure.Figure at 0x10a342e80>"
      ]
     },
     "metadata": {},
     "output_type": "display_data"
    }
   ],
   "source": [
    "# sns.factorplot(log_price_slot, 'item_condition_id' ,hue='shipping',col='', data=train)\n",
    "sns.factorplot('item_condition_id', 'log_price_slot' ,hue='shipping', data=train)\n",
    "plt.show()"
   ]
  },
  {
   "cell_type": "code",
   "execution_count": 13,
   "metadata": {},
   "outputs": [
    {
     "name": "stdout",
     "output_type": "stream",
     "text": [
      "Item Condition ID vs Shipping\n"
     ]
    },
    {
     "data": {
      "text/html": [
       "<style  type=\"text/css\" >\n",
       "    #T_0dabf888_ea08_11e7_ab79_8c2937e74684row0_col0 {\n",
       "            background-color:  #ffff66;\n",
       "        }    #T_0dabf888_ea08_11e7_ab79_8c2937e74684row0_col1 {\n",
       "            background-color:  #008066;\n",
       "        }    #T_0dabf888_ea08_11e7_ab79_8c2937e74684row0_col2 {\n",
       "            background-color:  #008066;\n",
       "        }    #T_0dabf888_ea08_11e7_ab79_8c2937e74684row0_col3 {\n",
       "            background-color:  #008066;\n",
       "        }    #T_0dabf888_ea08_11e7_ab79_8c2937e74684row0_col4 {\n",
       "            background-color:  #008066;\n",
       "        }    #T_0dabf888_ea08_11e7_ab79_8c2937e74684row1_col0 {\n",
       "            background-color:  #008066;\n",
       "        }    #T_0dabf888_ea08_11e7_ab79_8c2937e74684row1_col1 {\n",
       "            background-color:  #ffff66;\n",
       "        }    #T_0dabf888_ea08_11e7_ab79_8c2937e74684row1_col2 {\n",
       "            background-color:  #ffff66;\n",
       "        }    #T_0dabf888_ea08_11e7_ab79_8c2937e74684row1_col3 {\n",
       "            background-color:  #ffff66;\n",
       "        }    #T_0dabf888_ea08_11e7_ab79_8c2937e74684row1_col4 {\n",
       "            background-color:  #ffff66;\n",
       "        }</style>  \n",
       "<table id=\"T_0dabf888_ea08_11e7_ab79_8c2937e74684\" > \n",
       "<thead>    <tr> \n",
       "        <th class=\"index_name level0\" >item_condition_id</th> \n",
       "        <th class=\"col_heading level0 col0\" >1</th> \n",
       "        <th class=\"col_heading level0 col1\" >2</th> \n",
       "        <th class=\"col_heading level0 col2\" >3</th> \n",
       "        <th class=\"col_heading level0 col3\" >4</th> \n",
       "        <th class=\"col_heading level0 col4\" >5</th> \n",
       "    </tr>    <tr> \n",
       "        <th class=\"index_name level0\" >shipping</th> \n",
       "        <th class=\"blank\" ></th> \n",
       "        <th class=\"blank\" ></th> \n",
       "        <th class=\"blank\" ></th> \n",
       "        <th class=\"blank\" ></th> \n",
       "        <th class=\"blank\" ></th> \n",
       "    </tr></thead> \n",
       "<tbody>    <tr> \n",
       "        <th id=\"T_0dabf888_ea08_11e7_ab79_8c2937e74684level0_row0\" class=\"row_heading level0 row0\" >0</th> \n",
       "        <td id=\"T_0dabf888_ea08_11e7_ab79_8c2937e74684row0_col0\" class=\"data row0 col0\" >280107</td> \n",
       "        <td id=\"T_0dabf888_ea08_11e7_ab79_8c2937e74684row0_col1\" class=\"data row0 col1\" >232509</td> \n",
       "        <td id=\"T_0dabf888_ea08_11e7_ab79_8c2937e74684row0_col2\" class=\"data row0 col2\" >283691</td> \n",
       "        <td id=\"T_0dabf888_ea08_11e7_ab79_8c2937e74684row0_col3\" class=\"data row0 col3\" >21603</td> \n",
       "        <td id=\"T_0dabf888_ea08_11e7_ab79_8c2937e74684row0_col4\" class=\"data row0 col4\" >1525</td> \n",
       "    </tr>    <tr> \n",
       "        <th id=\"T_0dabf888_ea08_11e7_ab79_8c2937e74684level0_row1\" class=\"row_heading level0 row1\" >1</th> \n",
       "        <td id=\"T_0dabf888_ea08_11e7_ab79_8c2937e74684row1_col0\" class=\"data row1 col0\" >360442</td> \n",
       "        <td id=\"T_0dabf888_ea08_11e7_ab79_8c2937e74684row1_col1\" class=\"data row1 col1\" >142970</td> \n",
       "        <td id=\"T_0dabf888_ea08_11e7_ab79_8c2937e74684row1_col2\" class=\"data row1 col2\" >148470</td> \n",
       "        <td id=\"T_0dabf888_ea08_11e7_ab79_8c2937e74684row1_col3\" class=\"data row1 col3\" >10359</td> \n",
       "        <td id=\"T_0dabf888_ea08_11e7_ab79_8c2937e74684row1_col4\" class=\"data row1 col4\" >859</td> \n",
       "    </tr></tbody> \n",
       "</table> "
      ],
      "text/plain": [
       "<pandas.io.formats.style.Styler at 0x149d5d7b8>"
      ]
     },
     "execution_count": 13,
     "metadata": {},
     "output_type": "execute_result"
    }
   ],
   "source": [
    "print(\"Item Condition ID vs Shipping\")\n",
    "pd.crosstab(train.shipping,train.item_condition_id,margins=False).style.background_gradient(cmap='summer_r')"
   ]
  },
  {
   "cell_type": "code",
   "execution_count": 14,
   "metadata": {},
   "outputs": [
    {
     "data": {
      "image/png": "[encoded data removed]",
      "text/plain": [
       "<matplotlib.figure.Figure at 0x10b2ec6d8>"
      ]
     },
     "metadata": {},
     "output_type": "display_data"
    }
   ],
   "source": [
    "f,ax=plt.subplots(figsize=(18,8))\n",
    "sns.violinplot(train.item_condition_id, log_price, hue=train.shipping, split=True)\n",
    "ax.set_title('item_condition_id and shipping vs log2 price')\n",
    "ax.set_xlabel(\"Log2 Price\")\n",
    "ax.set_ylabel(\"Item Condition ID\")\n",
    "plt.show()"
   ]
  },
  {
   "cell_type": "markdown",
   "metadata": {},
   "source": [
    "### Brand Name"
   ]
  },
  {
   "cell_type": "code",
   "execution_count": 15,
   "metadata": {},
   "outputs": [
    {
     "name": "stdout",
     "output_type": "stream",
     "text": [
      "There are 4809 brand in this dataset\n",
      "There are 632682 null in Brand Names\n"
     ]
    },
    {
     "data": {
      "text/plain": [
       "PINK                 54088\n",
       "Nike                 54043\n",
       "Victoria's Secret    48036\n",
       "LuLaRoe              31024\n",
       "Apple                17322\n",
       "Name: brand_name, dtype: int64"
      ]
     },
     "execution_count": 15,
     "metadata": {},
     "output_type": "execute_result"
    }
   ],
   "source": [
    "brand_num = len(train.brand_name.value_counts())\n",
    "print(\"There are {} brand in this dataset\".format(brand_num))\n",
    "\n",
    "train['brand'] = train.brand_name.apply(helper.brand_None)\n",
    "brand_null_num = (train['brand'] == \"None\").sum()\n",
    "print(\"There are {} null in Brand Names\".format(brand_null_num))\n",
    "\n",
    "train.brand_name.value_counts()[:5]"
   ]
  },
  {
   "cell_type": "markdown",
   "metadata": {},
   "source": [
    "<br>\n",
    "#### brand vs price\n",
    "* there are many outliers\n",
    "    * use <b>median price</b> rather than average price on each brand\n",
    "<br>"
   ]
  },
  {
   "cell_type": "code",
   "execution_count": 16,
   "metadata": {},
   "outputs": [
    {
     "data": {
      "application/vnd.plotly.v1+json": {
       "data": [
        {
         "name": "Banzai",
         "type": "box",
         "y": [
          10,
          11
         ]
        },
        {
         "name": "Guinness",
         "type": "box",
         "y": [
          12,
          92,
          16,
          18,
          10,
          19,
          15
         ]
        },
        {
         "name": "grass",
         "type": "box",
         "y": [
          13,
          6,
          24,
          12,
          8
         ]
        },
        {
         "name": "sandro",
         "type": "box",
         "y": [
          14,
          22,
          12
         ]
        },
        {
         "name": "Big Buddha",
         "type": "box",
         "y": [
          13,
          16,
          39,
          14,
          15,
          30,
          41,
          40,
          8,
          31,
          25,
          59,
          15,
          14,
          24
         ]
        },
        {
         "name": "Electric Visual",
         "type": "box",
         "y": [
          59,
          46
         ]
        },
        {
         "name": "JTB",
         "type": "box",
         "y": [
          13,
          14
         ]
        },
        {
         "name": "PlaSmart",
         "type": "box",
         "y": [
          11
         ]
        },
        {
         "name": "Alcon",
         "type": "box",
         "y": [
          7
         ]
        },
        {
         "name": "Freshly Picked",
         "type": "box",
         "y": [
          29,
          20,
          25,
          22,
          29,
          300,
          34,
          24,
          64,
          13,
          32
         ]
        }
       ],
       "layout": {
        "hovermode": "closest",
        "showlegend": false,
        "title": "Brand vs Price box plot",
        "xaxis": {
         "gridwidth": 2,
         "ticklen": 5,
         "title": "Brand Name",
         "zeroline": false
        },
        "yaxis": {
         "gridwidth": 2,
         "ticklen": 5,
         "title": "Price"
        }
       }
      },
      "text/html": [
       "<div id=\"c7589161-410f-4732-b6e5-265d8a478c3b\" style=\"height: 525px; width: 100%;\" class=\"plotly-graph-div\"></div><script type=\"text/javascript\">require([\"plotly\"], function(Plotly) { window.PLOTLYENV=window.PLOTLYENV || {};window.PLOTLYENV.BASE_URL=\"https://plot.ly\";Plotly.newPlot(\"c7589161-410f-4732-b6e5-265d8a478c3b\", [{\"type\": \"box\", \"name\": \"Banzai\", \"y\": [10.0, 11.0]}, {\"type\": \"box\", \"name\": \"Guinness\", \"y\": [12.0, 92.0, 16.0, 18.0, 10.0, 19.0, 15.0]}, {\"type\": \"box\", \"name\": \"grass\", \"y\": [13.0, 6.0, 24.0, 12.0, 8.0]}, {\"type\": \"box\", \"name\": \"sandro\", \"y\": [14.0, 22.0, 12.0]}, {\"type\": \"box\", \"name\": \"Big Buddha\", \"y\": [13.0, 16.0, 39.0, 14.0, 15.0, 30.0, 41.0, 40.0, 8.0, 31.0, 25.0, 59.0, 15.0, 14.0, 24.0]}, {\"type\": \"box\", \"name\": \"Electric Visual\", \"y\": [59.0, 46.0]}, {\"type\": \"box\", \"name\": \"JTB\", \"y\": [13.0, 14.0]}, {\"type\": \"box\", \"name\": \"PlaSmart\", \"y\": [11.0]}, {\"type\": \"box\", \"name\": \"Alcon\", \"y\": [7.0]}, {\"type\": \"box\", \"name\": \"Freshly Picked\", \"y\": [29.0, 20.0, 25.0, 22.0, 29.0, 300.0, 34.0, 24.0, 64.0, 13.0, 32.0]}], {\"showlegend\": false, \"title\": \"Brand vs Price box plot\", \"xaxis\": {\"title\": \"Brand Name\", \"ticklen\": 5, \"gridwidth\": 2, \"zeroline\": false}, \"hovermode\": \"closest\", \"yaxis\": {\"title\": \"Price\", \"ticklen\": 5, \"gridwidth\": 2}}, {\"showLink\": true, \"linkText\": \"Export to plot.ly\"})});</script>"
      ],
      "text/vnd.plotly.v1+html": [
       "<div id=\"c7589161-410f-4732-b6e5-265d8a478c3b\" style=\"height: 525px; width: 100%;\" class=\"plotly-graph-div\"></div><script type=\"text/javascript\">require([\"plotly\"], function(Plotly) { window.PLOTLYENV=window.PLOTLYENV || {};window.PLOTLYENV.BASE_URL=\"https://plot.ly\";Plotly.newPlot(\"c7589161-410f-4732-b6e5-265d8a478c3b\", [{\"type\": \"box\", \"name\": \"Banzai\", \"y\": [10.0, 11.0]}, {\"type\": \"box\", \"name\": \"Guinness\", \"y\": [12.0, 92.0, 16.0, 18.0, 10.0, 19.0, 15.0]}, {\"type\": \"box\", \"name\": \"grass\", \"y\": [13.0, 6.0, 24.0, 12.0, 8.0]}, {\"type\": \"box\", \"name\": \"sandro\", \"y\": [14.0, 22.0, 12.0]}, {\"type\": \"box\", \"name\": \"Big Buddha\", \"y\": [13.0, 16.0, 39.0, 14.0, 15.0, 30.0, 41.0, 40.0, 8.0, 31.0, 25.0, 59.0, 15.0, 14.0, 24.0]}, {\"type\": \"box\", \"name\": \"Electric Visual\", \"y\": [59.0, 46.0]}, {\"type\": \"box\", \"name\": \"JTB\", \"y\": [13.0, 14.0]}, {\"type\": \"box\", \"name\": \"PlaSmart\", \"y\": [11.0]}, {\"type\": \"box\", \"name\": \"Alcon\", \"y\": [7.0]}, {\"type\": \"box\", \"name\": \"Freshly Picked\", \"y\": [29.0, 20.0, 25.0, 22.0, 29.0, 300.0, 34.0, 24.0, 64.0, 13.0, 32.0]}], {\"showlegend\": false, \"title\": \"Brand vs Price box plot\", \"xaxis\": {\"title\": \"Brand Name\", \"ticklen\": 5, \"gridwidth\": 2, \"zeroline\": false}, \"hovermode\": \"closest\", \"yaxis\": {\"title\": \"Price\", \"ticklen\": 5, \"gridwidth\": 2}}, {\"showLink\": true, \"linkText\": \"Export to plot.ly\"})});</script>"
      ]
     },
     "metadata": {},
     "output_type": "display_data"
    }
   ],
   "source": [
    "brand_price = defaultdict(list)\n",
    "for brand, price in zip(train.brand, train.price):\n",
    "    brand_price[brand].append(price)\n",
    "\n",
    "fig = helper.brand_box_plot(brand_price, show=50)\n",
    "iplot(fig)"
   ]
  },
  {
   "cell_type": "code",
   "execution_count": 17,
   "metadata": {
    "collapsed": true
   },
   "outputs": [],
   "source": [
    "brand_price_median_dict = defaultdict(int)\n",
    "for brand, price in brand_price.items():\n",
    "    brand_price_median_dict[brand] = helper.median(price)\n",
    "    \n",
    "brand_price_median = helper.brand_dict2Series(brand_price_median_dict)"
   ]
  },
  {
   "cell_type": "code",
   "execution_count": 18,
   "metadata": {},
   "outputs": [
    {
     "data": {
      "application/vnd.plotly.v1+json": {
       "data": [
        {
         "mode": "markers",
         "type": "scatter",
         "x": [
          "Demdaco",
          "Auto Meter",
          "Proenza Schouler",
          "Oris",
          "Longines",
          "Blendtec",
          "Dainese",
          "Frédérique Constant",
          "David Yurman",
          "Vitamix",
          "iRobot",
          "Stephen Webster",
          "Contours",
          "Alyce Paris",
          "Alexander Wang",
          "Brioni",
          "Tag Heuer",
          "EVGA",
          "Mackintosh",
          "Tiffany Designs",
          "BrazilRoxx",
          "Thom Browne",
          "Ingersoll-Rand",
          "Balenciaga",
          "Mandalay",
          "Shinola",
          "Canada Goose",
          "Dessy Collection",
          "Filson",
          "Maggie Sottero",
          "Maison Martin Margiela",
          "Tria",
          "Tieks",
          "Christian Louboutin",
          "Céline",
          "Sherri Hill",
          "MZ Wallace",
          "Celine",
          "Breitling",
          "Mikimoto",
          "Rand McNally",
          "Skywalker Trampolines",
          "Jovani",
          "Technics",
          "Nest",
          "Shell",
          "G-III",
          "MICHELE",
          "Go Gear",
          "Escort Radar"
         ],
         "y": [
          429,
          344,
          315.5,
          300,
          254,
          250,
          230,
          224,
          220,
          205,
          204.5,
          200,
          200,
          200,
          200,
          200,
          187.5,
          186,
          185,
          182.5,
          181,
          180,
          176.5,
          176,
          175,
          174,
          171.5,
          166,
          160,
          159.5,
          159,
          159,
          156,
          156,
          153,
          151,
          150,
          149,
          142,
          141,
          140.5,
          140,
          139,
          137,
          135,
          135,
          134.5,
          134,
          132.5,
          130
         ]
        }
       ],
       "layout": {
        "hovermode": "closest",
        "showlegend": false,
        "title": "Top 50 Expensive Brand",
        "xaxis": {
         "gridwidth": 2,
         "ticklen": 5,
         "title": "Brand Name",
         "zeroline": false
        },
        "yaxis": {
         "gridwidth": 2,
         "ticklen": 5,
         "title": "Median Price"
        }
       }
      },
      "text/html": [
       "<div id=\"99159b63-da41-4555-916b-b317618ca214\" style=\"height: 525px; width: 100%;\" class=\"plotly-graph-div\"></div><script type=\"text/javascript\">require([\"plotly\"], function(Plotly) { window.PLOTLYENV=window.PLOTLYENV || {};window.PLOTLYENV.BASE_URL=\"https://plot.ly\";Plotly.newPlot(\"99159b63-da41-4555-916b-b317618ca214\", [{\"mode\": \"markers\", \"type\": \"scatter\", \"y\": [429.0, 344.0, 315.5, 300.0, 254.0, 250.0, 230.0, 224.0, 220.0, 205.0, 204.5, 200.0, 200.0, 200.0, 200.0, 200.0, 187.5, 186.0, 185.0, 182.5, 181.0, 180.0, 176.5, 176.0, 175.0, 174.0, 171.5, 166.0, 160.0, 159.5, 159.0, 159.0, 156.0, 156.0, 153.0, 151.0, 150.0, 149.0, 142.0, 141.0, 140.5, 140.0, 139.0, 137.0, 135.0, 135.0, 134.5, 134.0, 132.5, 130.0], \"x\": [\"Demdaco\", \"Auto Meter\", \"Proenza Schouler\", \"Oris\", \"Longines\", \"Blendtec\", \"Dainese\", \"Fr\\u00e9d\\u00e9rique Constant\", \"David Yurman\", \"Vitamix\", \"iRobot\", \"Stephen Webster\", \"Contours\", \"Alyce Paris\", \"Alexander Wang\", \"Brioni\", \"Tag Heuer\", \"EVGA\", \"Mackintosh\", \"Tiffany Designs\", \"BrazilRoxx\", \"Thom Browne\", \"Ingersoll-Rand\", \"Balenciaga\", \"Mandalay\", \"Shinola\", \"Canada Goose\", \"Dessy Collection\", \"Filson\", \"Maggie Sottero\", \"Maison Martin Margiela\", \"Tria\", \"Tieks\", \"Christian Louboutin\", \"C\\u00e9line\", \"Sherri Hill\", \"MZ Wallace\", \"Celine\", \"Breitling\", \"Mikimoto\", \"Rand McNally\", \"Skywalker Trampolines\", \"Jovani\", \"Technics\", \"Nest\", \"Shell\", \"G-III\", \"MICHELE\", \"Go Gear\", \"Escort Radar\"]}], {\"showlegend\": false, \"title\": \"Top 50 Expensive Brand\", \"xaxis\": {\"title\": \"Brand Name\", \"ticklen\": 5, \"gridwidth\": 2, \"zeroline\": false}, \"hovermode\": \"closest\", \"yaxis\": {\"title\": \"Median Price\", \"ticklen\": 5, \"gridwidth\": 2}}, {\"showLink\": true, \"linkText\": \"Export to plot.ly\"})});</script>"
      ],
      "text/vnd.plotly.v1+html": [
       "<div id=\"99159b63-da41-4555-916b-b317618ca214\" style=\"height: 525px; width: 100%;\" class=\"plotly-graph-div\"></div><script type=\"text/javascript\">require([\"plotly\"], function(Plotly) { window.PLOTLYENV=window.PLOTLYENV || {};window.PLOTLYENV.BASE_URL=\"https://plot.ly\";Plotly.newPlot(\"99159b63-da41-4555-916b-b317618ca214\", [{\"mode\": \"markers\", \"type\": \"scatter\", \"y\": [429.0, 344.0, 315.5, 300.0, 254.0, 250.0, 230.0, 224.0, 220.0, 205.0, 204.5, 200.0, 200.0, 200.0, 200.0, 200.0, 187.5, 186.0, 185.0, 182.5, 181.0, 180.0, 176.5, 176.0, 175.0, 174.0, 171.5, 166.0, 160.0, 159.5, 159.0, 159.0, 156.0, 156.0, 153.0, 151.0, 150.0, 149.0, 142.0, 141.0, 140.5, 140.0, 139.0, 137.0, 135.0, 135.0, 134.5, 134.0, 132.5, 130.0], \"x\": [\"Demdaco\", \"Auto Meter\", \"Proenza Schouler\", \"Oris\", \"Longines\", \"Blendtec\", \"Dainese\", \"Fr\\u00e9d\\u00e9rique Constant\", \"David Yurman\", \"Vitamix\", \"iRobot\", \"Stephen Webster\", \"Contours\", \"Alyce Paris\", \"Alexander Wang\", \"Brioni\", \"Tag Heuer\", \"EVGA\", \"Mackintosh\", \"Tiffany Designs\", \"BrazilRoxx\", \"Thom Browne\", \"Ingersoll-Rand\", \"Balenciaga\", \"Mandalay\", \"Shinola\", \"Canada Goose\", \"Dessy Collection\", \"Filson\", \"Maggie Sottero\", \"Maison Martin Margiela\", \"Tria\", \"Tieks\", \"Christian Louboutin\", \"C\\u00e9line\", \"Sherri Hill\", \"MZ Wallace\", \"Celine\", \"Breitling\", \"Mikimoto\", \"Rand McNally\", \"Skywalker Trampolines\", \"Jovani\", \"Technics\", \"Nest\", \"Shell\", \"G-III\", \"MICHELE\", \"Go Gear\", \"Escort Radar\"]}], {\"showlegend\": false, \"title\": \"Top 50 Expensive Brand\", \"xaxis\": {\"title\": \"Brand Name\", \"ticklen\": 5, \"gridwidth\": 2, \"zeroline\": false}, \"hovermode\": \"closest\", \"yaxis\": {\"title\": \"Median Price\", \"ticklen\": 5, \"gridwidth\": 2}}, {\"showLink\": true, \"linkText\": \"Export to plot.ly\"})});</script>"
      ]
     },
     "metadata": {},
     "output_type": "display_data"
    }
   ],
   "source": [
    "fig = helper.brand_median_price_plot(brand_price_median, top_n=50)\n",
    "iplot(fig)"
   ]
  },
  {
   "cell_type": "markdown",
   "metadata": {
    "collapsed": true
   },
   "source": [
    "### Category Name"
   ]
  },
  {
   "cell_type": "code",
   "execution_count": 19,
   "metadata": {},
   "outputs": [
    {
     "name": "stdout",
     "output_type": "stream",
     "text": [
      "There are 6327 items do not get category name\n"
     ]
    },
    {
     "data": {
      "text/plain": [
       "Women/Athletic Apparel/Pants, Tights, Leggings    60177\n",
       "Women/Tops & Blouses/T-Shirts                     46380\n",
       "Beauty/Makeup/Face                                34335\n",
       "Beauty/Makeup/Lips                                29910\n",
       "Electronics/Video Games & Consoles/Games          26557\n",
       "Name: category_name, dtype: int64"
      ]
     },
     "execution_count": 19,
     "metadata": {},
     "output_type": "execute_result"
    }
   ],
   "source": [
    "print(\"There are {} items do not get category name\".format( train.category_name.isnull().sum() ))\n",
    "train.category_name.value_counts()[:5]"
   ]
  },
  {
   "cell_type": "code",
   "execution_count": 20,
   "metadata": {},
   "outputs": [
    {
     "data": {
      "text/plain": [
       "Counter({0: 6327, 3: 1471819, 4: 1330, 5: 3059})"
      ]
     },
     "execution_count": 20,
     "metadata": {},
     "output_type": "execute_result"
    }
   ],
   "source": [
    "def count_len(s, sep='/'):\n",
    "    try: # if s is not None\n",
    "        return len(s.split(sep))\n",
    "    except: # if s is None\n",
    "        return 0\n",
    "    \n",
    "\n",
    "Counter([count_len(i) for i in train.category_name])"
   ]
  },
  {
   "cell_type": "code",
   "execution_count": 21,
   "metadata": {},
   "outputs": [
    {
     "data": {
      "text/plain": [
       "[3, 3, 3, 3, 3]"
      ]
     },
     "execution_count": 21,
     "metadata": {},
     "output_type": "execute_result"
    }
   ],
   "source": [
    "[count_len(i) for i in train.category_name[:5]]"
   ]
  },
  {
   "cell_type": "markdown",
   "metadata": {
    "collapsed": true
   },
   "source": [
    "<br><br><br><br>\n",
    "## Get Features\n",
    "* `train_id` or `test_id` - the id of the listing <br>\n",
    "* `name` - the title of the listing. \n",
    "Note that we have cleaned the data to remove text that look like prices (e.g. \\$20) to avoid leakage. These removed prices are represented as [rm] <br>\n",
    "* `item_condition_id` - the condition of the items provided by the seller <br>\n",
    "* `category_name` - category of the listing <br>\n",
    "* `brand_name` <br>\n",
    "* `price` - the price that the item was sold for. This is the target variable that you will predict. The unit is USD. This column doesn't exist in test.tsv since that is what you will predict. <br>\n",
    "* `shipping` - 1 if shipping fee is paid by seller and 0 by buyer <br>\n",
    "* `item_description` - the full description of the item. Note that we have cleaned the data to remove text that look like prices (e.g. \\$20) to avoid leakage. These removed prices are represented as [rm]"
   ]
  },
  {
   "cell_type": "code",
   "execution_count": 22,
   "metadata": {},
   "outputs": [
    {
     "data": {
      "text/html": [
       "<div>\n",
       "<style>\n",
       "    .dataframe thead tr:only-child th {\n",
       "        text-align: right;\n",
       "    }\n",
       "\n",
       "    .dataframe thead th {\n",
       "        text-align: left;\n",
       "    }\n",
       "\n",
       "    .dataframe tbody tr th {\n",
       "        vertical-align: top;\n",
       "    }\n",
       "</style>\n",
       "<table border=\"1\" class=\"dataframe\">\n",
       "  <thead>\n",
       "    <tr style=\"text-align: right;\">\n",
       "      <th></th>\n",
       "      <th>train_id</th>\n",
       "      <th>name</th>\n",
       "      <th>item_condition_id</th>\n",
       "      <th>category_name</th>\n",
       "      <th>brand_name</th>\n",
       "      <th>price</th>\n",
       "      <th>shipping</th>\n",
       "      <th>item_description</th>\n",
       "      <th>log_price_slot</th>\n",
       "      <th>log_price</th>\n",
       "      <th>brand</th>\n",
       "    </tr>\n",
       "  </thead>\n",
       "  <tbody>\n",
       "    <tr>\n",
       "      <th>0</th>\n",
       "      <td>0</td>\n",
       "      <td>MLB Cincinnati Reds T Shirt Size XL</td>\n",
       "      <td>3</td>\n",
       "      <td>Men/Tops/T-shirts</td>\n",
       "      <td>NaN</td>\n",
       "      <td>10.0</td>\n",
       "      <td>1</td>\n",
       "      <td>No description yet</td>\n",
       "      <td>4</td>\n",
       "      <td>3.459432</td>\n",
       "      <td>None</td>\n",
       "    </tr>\n",
       "    <tr>\n",
       "      <th>1</th>\n",
       "      <td>1</td>\n",
       "      <td>Razer BlackWidow Chroma Keyboard</td>\n",
       "      <td>3</td>\n",
       "      <td>Electronics/Computers &amp; Tablets/Components &amp; P...</td>\n",
       "      <td>Razer</td>\n",
       "      <td>52.0</td>\n",
       "      <td>0</td>\n",
       "      <td>This keyboard is in great condition and works ...</td>\n",
       "      <td>6</td>\n",
       "      <td>5.727920</td>\n",
       "      <td>Razer</td>\n",
       "    </tr>\n",
       "    <tr>\n",
       "      <th>2</th>\n",
       "      <td>2</td>\n",
       "      <td>AVA-VIV Blouse</td>\n",
       "      <td>1</td>\n",
       "      <td>Women/Tops &amp; Blouses/Blouse</td>\n",
       "      <td>Target</td>\n",
       "      <td>10.0</td>\n",
       "      <td>1</td>\n",
       "      <td>Adorable top with a hint of lace and a key hol...</td>\n",
       "      <td>4</td>\n",
       "      <td>3.459432</td>\n",
       "      <td>Target</td>\n",
       "    </tr>\n",
       "  </tbody>\n",
       "</table>\n",
       "</div>"
      ],
      "text/plain": [
       "   train_id                                 name  item_condition_id  \\\n",
       "0         0  MLB Cincinnati Reds T Shirt Size XL                  3   \n",
       "1         1     Razer BlackWidow Chroma Keyboard                  3   \n",
       "2         2                       AVA-VIV Blouse                  1   \n",
       "\n",
       "                                       category_name brand_name  price  \\\n",
       "0                                  Men/Tops/T-shirts        NaN   10.0   \n",
       "1  Electronics/Computers & Tablets/Components & P...      Razer   52.0   \n",
       "2                        Women/Tops & Blouses/Blouse     Target   10.0   \n",
       "\n",
       "   shipping                                   item_description  \\\n",
       "0         1                                 No description yet   \n",
       "1         0  This keyboard is in great condition and works ...   \n",
       "2         1  Adorable top with a hint of lace and a key hol...   \n",
       "\n",
       "   log_price_slot  log_price   brand  \n",
       "0               4   3.459432    None  \n",
       "1               6   5.727920   Razer  \n",
       "2               4   3.459432  Target  "
      ]
     },
     "execution_count": 22,
     "metadata": {},
     "output_type": "execute_result"
    }
   ],
   "source": [
    "train.head(3)"
   ]
  },
  {
   "cell_type": "code",
   "execution_count": 23,
   "metadata": {
    "collapsed": true
   },
   "outputs": [],
   "source": [
    "def get_brand_median_price(brand, price):\n",
    "    \"\"\"get median price on each brand\n",
    "    input:\n",
    "        brand: list\n",
    "        price: dictionary\n",
    "    return:\n",
    "        list\n",
    "    \"\"\"\n",
    "    return [price[x] for x in brand]"
   ]
  },
  {
   "cell_type": "markdown",
   "metadata": {},
   "source": [
    "### Features\n",
    "* item_condition_id [one hot]\n",
    "* shipping [one hot]\n",
    "* brand [brand_median_price]"
   ]
  },
  {
   "cell_type": "code",
   "execution_count": 27,
   "metadata": {},
   "outputs": [],
   "source": [
    "X_col = ['item_condition_id', 'shipping', 'brand_name']\n",
    "\n",
    "X = train[X_col].copy()\n",
    "X['brand_name'] = get_brand_median_price(X.brand_name, brand_price_median_dict)\n",
    "X = pd.get_dummies(X, columns=[\"item_condition_id\", \"shipping\"], prefix=[\"item_condition\", \"shipping\"])\n",
    "\n",
    "Y = Series(list(helper.log(train['price'], slot=False)))"
   ]
  },
  {
   "cell_type": "code",
   "execution_count": 28,
   "metadata": {},
   "outputs": [
    {
     "name": "stdout",
     "output_type": "stream",
     "text": [
      "X.shape = (1482535, 8)\n"
     ]
    },
    {
     "data": {
      "text/html": [
       "<div>\n",
       "<style>\n",
       "    .dataframe thead tr:only-child th {\n",
       "        text-align: right;\n",
       "    }\n",
       "\n",
       "    .dataframe thead th {\n",
       "        text-align: left;\n",
       "    }\n",
       "\n",
       "    .dataframe tbody tr th {\n",
       "        vertical-align: top;\n",
       "    }\n",
       "</style>\n",
       "<table border=\"1\" class=\"dataframe\">\n",
       "  <thead>\n",
       "    <tr style=\"text-align: right;\">\n",
       "      <th></th>\n",
       "      <th>brand_name</th>\n",
       "      <th>item_condition_1</th>\n",
       "      <th>item_condition_2</th>\n",
       "      <th>item_condition_3</th>\n",
       "      <th>item_condition_4</th>\n",
       "      <th>item_condition_5</th>\n",
       "      <th>shipping_0</th>\n",
       "      <th>shipping_1</th>\n",
       "    </tr>\n",
       "  </thead>\n",
       "  <tbody>\n",
       "    <tr>\n",
       "      <th>0</th>\n",
       "      <td>0.0</td>\n",
       "      <td>0</td>\n",
       "      <td>0</td>\n",
       "      <td>1</td>\n",
       "      <td>0</td>\n",
       "      <td>0</td>\n",
       "      <td>0</td>\n",
       "      <td>1</td>\n",
       "    </tr>\n",
       "    <tr>\n",
       "      <th>1</th>\n",
       "      <td>39.5</td>\n",
       "      <td>0</td>\n",
       "      <td>0</td>\n",
       "      <td>1</td>\n",
       "      <td>0</td>\n",
       "      <td>0</td>\n",
       "      <td>1</td>\n",
       "      <td>0</td>\n",
       "    </tr>\n",
       "    <tr>\n",
       "      <th>2</th>\n",
       "      <td>12.0</td>\n",
       "      <td>1</td>\n",
       "      <td>0</td>\n",
       "      <td>0</td>\n",
       "      <td>0</td>\n",
       "      <td>0</td>\n",
       "      <td>0</td>\n",
       "      <td>1</td>\n",
       "    </tr>\n",
       "  </tbody>\n",
       "</table>\n",
       "</div>"
      ],
      "text/plain": [
       "   brand_name  item_condition_1  item_condition_2  item_condition_3  \\\n",
       "0         0.0                 0                 0                 1   \n",
       "1        39.5                 0                 0                 1   \n",
       "2        12.0                 1                 0                 0   \n",
       "\n",
       "   item_condition_4  item_condition_5  shipping_0  shipping_1  \n",
       "0                 0                 0           0           1  \n",
       "1                 0                 0           1           0  \n",
       "2                 0                 0           0           1  "
      ]
     },
     "execution_count": 28,
     "metadata": {},
     "output_type": "execute_result"
    }
   ],
   "source": [
    "print(\"X.shape = {}\".format(X.shape))\n",
    "X.head(3)"
   ]
  },
  {
   "cell_type": "code",
   "execution_count": 29,
   "metadata": {},
   "outputs": [
    {
     "data": {
      "text/plain": [
       "0    3.459432\n",
       "1    5.727920\n",
       "2    3.459432\n",
       "dtype: float64"
      ]
     },
     "execution_count": 29,
     "metadata": {},
     "output_type": "execute_result"
    }
   ],
   "source": [
    "Y.head(3)"
   ]
  },
  {
   "cell_type": "code",
   "execution_count": 36,
   "metadata": {
    "collapsed": true
   },
   "outputs": [],
   "source": [
    "import tensorflow as tf\n",
    "import numpy as np\n",
    "from sklearn.model_selection import train_test_split"
   ]
  },
  {
   "cell_type": "code",
   "execution_count": 47,
   "metadata": {},
   "outputs": [],
   "source": [
    "X_train, X_test, y_train, y_test = train_test_split(\n",
    "    X, Y, test_size=0.1, random_state=42)"
   ]
  },
  {
   "cell_type": "code",
   "execution_count": 48,
   "metadata": {},
   "outputs": [
    {
     "name": "stdout",
     "output_type": "stream",
     "text": [
      "train length: 1334281\n",
      "test length: 148254\n"
     ]
    }
   ],
   "source": [
    "print(\"train length: {}\".format(X_train.shape[0]))\n",
    "print(\"test length: {}\".format(X_test.shape[0]))"
   ]
  },
  {
   "cell_type": "code",
   "execution_count": 49,
   "metadata": {
    "collapsed": true
   },
   "outputs": [],
   "source": [
    "train_input_fn = tf.estimator.inputs.numpy_input_fn(\n",
    "    x={\"x\": X_train.as_matrix()},\n",
    "    y=np.array(y_train),\n",
    "    num_epochs=None,\n",
    "    shuffle=True)"
   ]
  },
  {
   "cell_type": "code",
   "execution_count": 50,
   "metadata": {},
   "outputs": [],
   "source": [
    "test_input_fn = tf.estimator.inputs.numpy_input_fn(\n",
    "    x={\"x\": X_test.as_matrix()},\n",
    "    y=np.array(y_test),\n",
    "    num_epochs=1,\n",
    "    shuffle=False)"
   ]
  },
  {
   "cell_type": "code",
   "execution_count": 51,
   "metadata": {
    "collapsed": true
   },
   "outputs": [],
   "source": [
    "some_data = X_test.as_matrix()[0:9]\n",
    "\n",
    "predict_input_fn = tf.estimator.inputs.numpy_input_fn(\n",
    "    x={\"x\": some_data},\n",
    "    num_epochs=1,\n",
    "    shuffle=False)"
   ]
  },
  {
   "cell_type": "code",
   "execution_count": 53,
   "metadata": {},
   "outputs": [
    {
     "name": "stdout",
     "output_type": "stream",
     "text": [
      "INFO:tensorflow:Using default config.\n",
      "INFO:tensorflow:Using config: {'_save_checkpoints_steps': None, '_tf_random_seed': 1, '_model_dir': './checkpoints/', '_keep_checkpoint_every_n_hours': 10000, '_save_checkpoints_secs': 600, '_session_config': None, '_save_summary_steps': 100, '_log_step_count_steps': 100, '_keep_checkpoint_max': 5}\n"
     ]
    }
   ],
   "source": [
    "feature_x = tf.feature_column.numeric_column(\"x\", shape=X_train.shape[1])\n",
    "\n",
    "feature_columns = [feature_x]\n",
    "\n",
    "num_hidden_units = [5, 2, 5]\n",
    "\n",
    "model = tf.estimator.DNNRegressor(feature_columns=feature_columns,\n",
    "                                   hidden_units=num_hidden_units,\n",
    "                                   activation_fn=tf.nn.relu,\n",
    "                                   optimizer=tf.train.ProximalAdagradOptimizer(\n",
    "                                             learning_rate=0.1,\n",
    "                                             l1_regularization_strength=0.001),\n",
    "                                   model_dir=\"./checkpoints/\")\n"
   ]
  },
  {
   "cell_type": "code",
   "execution_count": 54,
   "metadata": {},
   "outputs": [
    {
     "name": "stdout",
     "output_type": "stream",
     "text": [
      "INFO:tensorflow:Create CheckpointSaverHook.\n",
      "INFO:tensorflow:Saving checkpoints for 1 into ./checkpoints/model.ckpt.\n",
      "INFO:tensorflow:loss = 2548.04, step = 1\n",
      "INFO:tensorflow:global_step/sec: 423.864\n",
      "INFO:tensorflow:loss = 143.625, step = 101 (0.243 sec)\n",
      "INFO:tensorflow:global_step/sec: 273.68\n",
      "INFO:tensorflow:loss = 102.223, step = 201 (0.357 sec)\n",
      "INFO:tensorflow:global_step/sec: 411.463\n",
      "INFO:tensorflow:loss = 115.478, step = 301 (0.244 sec)\n",
      "INFO:tensorflow:global_step/sec: 491.662\n",
      "INFO:tensorflow:loss = 94.798, step = 401 (0.204 sec)\n",
      "INFO:tensorflow:global_step/sec: 460.352\n",
      "INFO:tensorflow:loss = 100.931, step = 501 (0.217 sec)\n",
      "INFO:tensorflow:global_step/sec: 480.215\n",
      "INFO:tensorflow:loss = 101.156, step = 601 (0.208 sec)\n",
      "INFO:tensorflow:global_step/sec: 476.295\n",
      "INFO:tensorflow:loss = 110.585, step = 701 (0.210 sec)\n",
      "INFO:tensorflow:global_step/sec: 477.541\n",
      "INFO:tensorflow:loss = 129.417, step = 801 (0.211 sec)\n",
      "INFO:tensorflow:global_step/sec: 564.605\n",
      "INFO:tensorflow:loss = 130.126, step = 901 (0.174 sec)\n",
      "INFO:tensorflow:global_step/sec: 550.297\n",
      "INFO:tensorflow:loss = 128.005, step = 1001 (0.183 sec)\n",
      "INFO:tensorflow:global_step/sec: 566.54\n",
      "INFO:tensorflow:loss = 108.026, step = 1101 (0.176 sec)\n",
      "INFO:tensorflow:global_step/sec: 475.283\n",
      "INFO:tensorflow:loss = 118.841, step = 1201 (0.214 sec)\n",
      "INFO:tensorflow:global_step/sec: 552.874\n",
      "INFO:tensorflow:loss = 104.606, step = 1301 (0.177 sec)\n",
      "INFO:tensorflow:global_step/sec: 455.541\n",
      "INFO:tensorflow:loss = 106.51, step = 1401 (0.222 sec)\n",
      "INFO:tensorflow:global_step/sec: 465.341\n",
      "INFO:tensorflow:loss = 139.946, step = 1501 (0.212 sec)\n",
      "INFO:tensorflow:global_step/sec: 477.507\n",
      "INFO:tensorflow:loss = 136.194, step = 1601 (0.209 sec)\n",
      "INFO:tensorflow:global_step/sec: 448.811\n",
      "INFO:tensorflow:loss = 106.984, step = 1701 (0.225 sec)\n",
      "INFO:tensorflow:global_step/sec: 461.348\n",
      "INFO:tensorflow:loss = 88.921, step = 1801 (0.216 sec)\n",
      "INFO:tensorflow:global_step/sec: 449.711\n",
      "INFO:tensorflow:loss = 110.593, step = 1901 (0.224 sec)\n",
      "INFO:tensorflow:Saving checkpoints for 2000 into ./checkpoints/model.ckpt.\n",
      "INFO:tensorflow:Loss for final step: 96.2857.\n"
     ]
    },
    {
     "data": {
      "text/plain": [
       "<tensorflow.python.estimator.canned.dnn.DNNRegressor at 0x10d9449b0>"
      ]
     },
     "execution_count": 54,
     "metadata": {},
     "output_type": "execute_result"
    }
   ],
   "source": [
    "model.train(input_fn=train_input_fn, steps=2000)"
   ]
  },
  {
   "cell_type": "code",
   "execution_count": 55,
   "metadata": {},
   "outputs": [
    {
     "name": "stdout",
     "output_type": "stream",
     "text": [
      "INFO:tensorflow:Starting evaluation at 2017-12-26-07:05:59\n",
      "INFO:tensorflow:Restoring parameters from ./checkpoints/model.ckpt-2000\n",
      "INFO:tensorflow:Finished evaluation at 2017-12-26-07:06:01\n",
      "INFO:tensorflow:Saving dict for global step 2000: average_loss = 0.938309, global_step = 2000, loss = 120.024\n"
     ]
    }
   ],
   "source": [
    "result = model.evaluate(input_fn=test_input_fn)"
   ]
  },
  {
   "cell_type": "code",
   "execution_count": 56,
   "metadata": {},
   "outputs": [
    {
     "data": {
      "text/plain": [
       "{'average_loss': 0.93830878, 'global_step': 2000, 'loss': 120.02419}"
      ]
     },
     "execution_count": 56,
     "metadata": {},
     "output_type": "execute_result"
    }
   ],
   "source": [
    "result"
   ]
  },
  {
   "cell_type": "code",
   "execution_count": 68,
   "metadata": {},
   "outputs": [
    {
     "name": "stdout",
     "output_type": "stream",
     "text": [
      "INFO:tensorflow:Restoring parameters from ./checkpoints/model.ckpt-2000\n"
     ]
    }
   ],
   "source": [
    "predictions = model.predict(input_fn=predict_input_fn)\n",
    "pred = [p['predictions'] for p in predictions]"
   ]
  },
  {
   "cell_type": "code",
   "execution_count": 69,
   "metadata": {},
   "outputs": [
    {
     "data": {
      "text/plain": [
       "array([ 3.75198293,  4.34274292,  3.75198293,  3.75198293,  4.45440865,\n",
       "        4.05431318,  3.95817065,  3.94525266,  3.75198293], dtype=float32)"
      ]
     },
     "execution_count": 69,
     "metadata": {},
     "output_type": "execute_result"
    }
   ],
   "source": [
    "pred = np.array(pred, dtype='float32').squeeze()\n",
    "pred"
   ]
  },
  {
   "cell_type": "code",
   "execution_count": 70,
   "metadata": {},
   "outputs": [
    {
     "data": {
      "text/plain": [
       "777341     3.700440\n",
       "1463629    6.266787\n",
       "350669     3.700440\n",
       "310222     2.000000\n",
       "759257     4.954196\n",
       "288846     7.820179\n",
       "1178450    4.087463\n",
       "726296     3.700440\n",
       "840510     4.000000\n",
       "dtype: float64"
      ]
     },
     "execution_count": 70,
     "metadata": {},
     "output_type": "execute_result"
    }
   ],
   "source": [
    "y_test[0:9]"
   ]
  },
  {
   "cell_type": "code",
   "execution_count": null,
   "metadata": {
    "collapsed": true
   },
   "outputs": [],
   "source": []
  }
 ],
 "metadata": {
  "kernelspec": {
   "display_name": "Python 3",
   "language": "python",
   "name": "python3"
  },
  "language_info": {
   "codemirror_mode": {
    "name": "ipython",
    "version": 3
   },
   "file_extension": ".py",
   "mimetype": "text/x-python",
   "name": "python",
   "nbconvert_exporter": "python",
   "pygments_lexer": "ipython3",
   "version": "3.5.2"
  }
 },
 "nbformat": 4,
 "nbformat_minor": 2
}
