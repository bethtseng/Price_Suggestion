{
 "cells": [
  {
   "cell_type": "markdown",
   "metadata": {},
   "source": [
    "# Mercari Price Suggestion Challenge\n",
    "* url: https://www.kaggle.com/c/mercari-price-suggestion-challenge\n",
    "\n",
    "* tensorflow ref: https://github.com/tensorflow/tensorflow/blob/r1.4/tensorflow/examples/learn/wide_n_deep_tutorial.py"
   ]
  },
  {
   "cell_type": "markdown",
   "metadata": {},
   "source": [
    "### import module"
   ]
  },
  {
   "cell_type": "code",
   "execution_count": 1,
   "metadata": {},
   "outputs": [
    {
     "data": {
      "text/html": [
       "<script>requirejs.config({paths: { 'plotly': ['https://cdn.plot.ly/plotly-latest.min']},});if(!window.Plotly) {{require(['plotly'],function(plotly) {window.Plotly=plotly;});}}</script>"
      ],
      "text/vnd.plotly.v1+html": [
       "<script>requirejs.config({paths: { 'plotly': ['https://cdn.plot.ly/plotly-latest.min']},});if(!window.Plotly) {{require(['plotly'],function(plotly) {window.Plotly=plotly;});}}</script>"
      ]
     },
     "metadata": {},
     "output_type": "display_data"
    }
   ],
   "source": [
    "import pandas as pd\n",
    "import numpy as np\n",
    "from pandas import DataFrame, Series\n",
    "from collections import Counter, defaultdict\n",
    "import tensorflow as tf\n",
    "from sklearn.model_selection import train_test_split, cross_val_score\n",
    "from sklearn.feature_extraction.text import CountVectorizer, TfidfVectorizer\n",
    "from sklearn.preprocessing import LabelBinarizer\n",
    "import scipy\n",
    "from itertools import chain\n",
    "\n",
    "\n",
    "import gc\n",
    "\n",
    "import matplotlib\n",
    "%matplotlib inline\n",
    "import matplotlib.pyplot as plt\n",
    "matplotlib.style.use('ggplot')\n",
    "import seaborn as sns\n",
    "\n",
    "import plotly.graph_objs as go\n",
    "from plotly.offline import init_notebook_mode, iplot\n",
    "init_notebook_mode(connected=True)\n",
    "\n",
    "import helper_function as helper"
   ]
  },
  {
   "cell_type": "code",
   "execution_count": 2,
   "metadata": {
    "collapsed": true
   },
   "outputs": [],
   "source": [
    "# train = pd.read_csv('sample_data/train.tsv', sep='\\t')\n",
    "# test = pd.read_csv('sample_data/test.tsv', sep='\\t')\n",
    "# submission = pd.read_csv('sample_data/sample_submission.csv', sep=',')"
   ]
  },
  {
   "cell_type": "code",
   "execution_count": 3,
   "metadata": {},
   "outputs": [],
   "source": [
    "train = pd.read_csv('data/train.tsv', sep='\\t')\n",
    "test = pd.read_csv('data/test.tsv', sep='\\t')"
   ]
  },
  {
   "cell_type": "markdown",
   "metadata": {},
   "source": [
    "### Data Preprocessing"
   ]
  },
  {
   "cell_type": "code",
   "execution_count": 4,
   "metadata": {
    "collapsed": true
   },
   "outputs": [],
   "source": [
    "BrandMinNum = 2\n",
    "NUM_BRANDS = 250"
   ]
  },
  {
   "cell_type": "code",
   "execution_count": 5,
   "metadata": {},
   "outputs": [
    {
     "name": "stdout",
     "output_type": "stream",
     "text": [
      "Index                 17407152\n",
      "brand_name           112334308\n",
      "category_name        190129667\n",
      "item_condition_id     17407152\n",
      "item_description     491094704\n",
      "name                 181881898\n",
      "price                 17407152\n",
      "shipping              17407152\n",
      "test_id               17407152\n",
      "train_id              17407152\n",
      "dtype: int64\n"
     ]
    }
   ],
   "source": [
    "df = pd.concat([train, test], 0)\n",
    "nrow_train = train.shape[0]\n",
    "Y_train = np.log1p(train[\"price\"])\n",
    "\n",
    "del train\n",
    "gc.collect() # release usage memory (df_train)\n",
    "\n",
    "print(df.memory_usage(deep = True))"
   ]
  },
  {
   "cell_type": "code",
   "execution_count": 6,
   "metadata": {},
   "outputs": [
    {
     "name": "stdout",
     "output_type": "stream",
     "text": [
      "Index                 17407152\n",
      "brand_name           142081528\n",
      "category_name        190636457\n",
      "item_condition_id     17407152\n",
      "item_description     491094820\n",
      "name                 181881898\n",
      "price                 17407152\n",
      "shipping              17407152\n",
      "test_id               17407152\n",
      "train_id              17407152\n",
      "dtype: int64\n"
     ]
    }
   ],
   "source": [
    "df[\"category_name\"] = df[\"category_name\"].fillna(\"Other\")#.astype(\"category\")\n",
    "df[\"brand_name\"] = df[\"brand_name\"].fillna(\"unknown\")\n",
    "\n",
    "# pop_brands = df[\"brand_name\"].value_counts().index[:NUM_BRANDS]\n",
    "brand_count = df[\"brand_name\"].value_counts()\n",
    "pop_brands = brand_count[brand_count > BrandMinNum].index\n",
    "df.loc[~df[\"brand_name\"].isin(pop_brands), \"brand_name\"] = \"Other\"\n",
    "\n",
    "df[\"item_description\"] = df[\"item_description\"].fillna(\"None\")\n",
    "df[\"item_condition_id\"] = df[\"item_condition_id\"]#.astype(\"category\")\n",
    "df[\"brand_name\"] = df[\"brand_name\"]#.astype(\"category\")\n",
    "\n",
    "print(df.memory_usage(deep = True))"
   ]
  },
  {
   "cell_type": "code",
   "execution_count": 7,
   "metadata": {},
   "outputs": [
    {
     "data": {
      "text/html": [
       "<div>\n",
       "<style>\n",
       "    .dataframe thead tr:only-child th {\n",
       "        text-align: right;\n",
       "    }\n",
       "\n",
       "    .dataframe thead th {\n",
       "        text-align: left;\n",
       "    }\n",
       "\n",
       "    .dataframe tbody tr th {\n",
       "        vertical-align: top;\n",
       "    }\n",
       "</style>\n",
       "<table border=\"1\" class=\"dataframe\">\n",
       "  <thead>\n",
       "    <tr style=\"text-align: right;\">\n",
       "      <th></th>\n",
       "      <th>brand_name</th>\n",
       "      <th>category_name</th>\n",
       "      <th>item_condition_id</th>\n",
       "      <th>item_description</th>\n",
       "      <th>name</th>\n",
       "      <th>price</th>\n",
       "      <th>shipping</th>\n",
       "      <th>test_id</th>\n",
       "      <th>train_id</th>\n",
       "    </tr>\n",
       "  </thead>\n",
       "  <tbody>\n",
       "    <tr>\n",
       "      <th>0</th>\n",
       "      <td>unknown</td>\n",
       "      <td>Men/Tops/T-shirts</td>\n",
       "      <td>3</td>\n",
       "      <td>No description yet</td>\n",
       "      <td>MLB Cincinnati Reds T Shirt Size XL</td>\n",
       "      <td>10.0</td>\n",
       "      <td>1</td>\n",
       "      <td>NaN</td>\n",
       "      <td>0.0</td>\n",
       "    </tr>\n",
       "    <tr>\n",
       "      <th>1</th>\n",
       "      <td>Razer</td>\n",
       "      <td>Electronics/Computers &amp; Tablets/Components &amp; P...</td>\n",
       "      <td>3</td>\n",
       "      <td>This keyboard is in great condition and works ...</td>\n",
       "      <td>Razer BlackWidow Chroma Keyboard</td>\n",
       "      <td>52.0</td>\n",
       "      <td>0</td>\n",
       "      <td>NaN</td>\n",
       "      <td>1.0</td>\n",
       "    </tr>\n",
       "    <tr>\n",
       "      <th>2</th>\n",
       "      <td>Target</td>\n",
       "      <td>Women/Tops &amp; Blouses/Blouse</td>\n",
       "      <td>1</td>\n",
       "      <td>Adorable top with a hint of lace and a key hol...</td>\n",
       "      <td>AVA-VIV Blouse</td>\n",
       "      <td>10.0</td>\n",
       "      <td>1</td>\n",
       "      <td>NaN</td>\n",
       "      <td>2.0</td>\n",
       "    </tr>\n",
       "  </tbody>\n",
       "</table>\n",
       "</div>"
      ],
      "text/plain": [
       "  brand_name                                      category_name  \\\n",
       "0    unknown                                  Men/Tops/T-shirts   \n",
       "1      Razer  Electronics/Computers & Tablets/Components & P...   \n",
       "2     Target                        Women/Tops & Blouses/Blouse   \n",
       "\n",
       "   item_condition_id                                   item_description  \\\n",
       "0                  3                                 No description yet   \n",
       "1                  3  This keyboard is in great condition and works ...   \n",
       "2                  1  Adorable top with a hint of lace and a key hol...   \n",
       "\n",
       "                                  name  price  shipping  test_id  train_id  \n",
       "0  MLB Cincinnati Reds T Shirt Size XL   10.0         1      NaN       0.0  \n",
       "1     Razer BlackWidow Chroma Keyboard   52.0         0      NaN       1.0  \n",
       "2                       AVA-VIV Blouse   10.0         1      NaN       2.0  "
      ]
     },
     "execution_count": 7,
     "metadata": {},
     "output_type": "execute_result"
    }
   ],
   "source": [
    "df.head(3)"
   ]
  },
  {
   "cell_type": "markdown",
   "metadata": {},
   "source": [
    "### Tensorflow"
   ]
  },
  {
   "cell_type": "code",
   "execution_count": 8,
   "metadata": {
    "collapsed": true
   },
   "outputs": [],
   "source": [
    "def split_cat(l):\n",
    "    for text in l:\n",
    "        yield text.split(\"/\")"
   ]
  },
  {
   "cell_type": "code",
   "execution_count": 9,
   "metadata": {},
   "outputs": [
    {
     "name": "stdout",
     "output_type": "stream",
     "text": [
      "There are 10 uniq general categories.\n",
      "There are 114 uniq sub1 categories.\n",
      "There are 871 uniq sub2 categories.\n",
      "\n",
      "There are 3441 uniq brand name.\n"
     ]
    }
   ],
   "source": [
    "categories = list(split_cat(df['category_name']))\n",
    "df_categories = DataFrame(categories)\n",
    "df['general_cat'], df['subcat_1'], df['subcat_2'] = \\\n",
    "df_categories[0].fillna(\"No Label\"), df_categories[1].fillna(\"No Label\"), df_categories[2].fillna(\"No Label\")\n",
    "\n",
    "print(\"There are {} uniq general categories.\".format(len(df['general_cat'].unique())))\n",
    "print(\"There are {} uniq sub1 categories.\".format(len(df['subcat_1'].unique())))\n",
    "print(\"There are {} uniq sub2 categories.\".format(len(df['subcat_2'].unique())))\n",
    "print('')\n",
    "print(\"There are {} uniq brand name.\".format(len(df['brand_name'].unique())))"
   ]
  },
  {
   "cell_type": "code",
   "execution_count": 10,
   "metadata": {},
   "outputs": [
    {
     "data": {
      "text/html": [
       "<div>\n",
       "<style>\n",
       "    .dataframe thead tr:only-child th {\n",
       "        text-align: right;\n",
       "    }\n",
       "\n",
       "    .dataframe thead th {\n",
       "        text-align: left;\n",
       "    }\n",
       "\n",
       "    .dataframe tbody tr th {\n",
       "        vertical-align: top;\n",
       "    }\n",
       "</style>\n",
       "<table border=\"1\" class=\"dataframe\">\n",
       "  <thead>\n",
       "    <tr style=\"text-align: right;\">\n",
       "      <th></th>\n",
       "      <th>brand_name</th>\n",
       "      <th>category_name</th>\n",
       "      <th>item_condition_id</th>\n",
       "      <th>item_description</th>\n",
       "      <th>name</th>\n",
       "      <th>price</th>\n",
       "      <th>shipping</th>\n",
       "      <th>test_id</th>\n",
       "      <th>train_id</th>\n",
       "      <th>general_cat</th>\n",
       "      <th>subcat_1</th>\n",
       "      <th>subcat_2</th>\n",
       "    </tr>\n",
       "  </thead>\n",
       "  <tbody>\n",
       "    <tr>\n",
       "      <th>0</th>\n",
       "      <td>unknown</td>\n",
       "      <td>Men/Tops/T-shirts</td>\n",
       "      <td>3</td>\n",
       "      <td>No description yet</td>\n",
       "      <td>MLB Cincinnati Reds T Shirt Size XL</td>\n",
       "      <td>10.0</td>\n",
       "      <td>1</td>\n",
       "      <td>NaN</td>\n",
       "      <td>0.0</td>\n",
       "      <td>Men</td>\n",
       "      <td>Tops</td>\n",
       "      <td>T-shirts</td>\n",
       "    </tr>\n",
       "    <tr>\n",
       "      <th>1</th>\n",
       "      <td>Razer</td>\n",
       "      <td>Electronics/Computers &amp; Tablets/Components &amp; P...</td>\n",
       "      <td>3</td>\n",
       "      <td>This keyboard is in great condition and works ...</td>\n",
       "      <td>Razer BlackWidow Chroma Keyboard</td>\n",
       "      <td>52.0</td>\n",
       "      <td>0</td>\n",
       "      <td>NaN</td>\n",
       "      <td>1.0</td>\n",
       "      <td>Electronics</td>\n",
       "      <td>Computers &amp; Tablets</td>\n",
       "      <td>Components &amp; Parts</td>\n",
       "    </tr>\n",
       "    <tr>\n",
       "      <th>2</th>\n",
       "      <td>Target</td>\n",
       "      <td>Women/Tops &amp; Blouses/Blouse</td>\n",
       "      <td>1</td>\n",
       "      <td>Adorable top with a hint of lace and a key hol...</td>\n",
       "      <td>AVA-VIV Blouse</td>\n",
       "      <td>10.0</td>\n",
       "      <td>1</td>\n",
       "      <td>NaN</td>\n",
       "      <td>2.0</td>\n",
       "      <td>Women</td>\n",
       "      <td>Tops &amp; Blouses</td>\n",
       "      <td>Blouse</td>\n",
       "    </tr>\n",
       "  </tbody>\n",
       "</table>\n",
       "</div>"
      ],
      "text/plain": [
       "  brand_name                                      category_name  \\\n",
       "0    unknown                                  Men/Tops/T-shirts   \n",
       "1      Razer  Electronics/Computers & Tablets/Components & P...   \n",
       "2     Target                        Women/Tops & Blouses/Blouse   \n",
       "\n",
       "   item_condition_id                                   item_description  \\\n",
       "0                  3                                 No description yet   \n",
       "1                  3  This keyboard is in great condition and works ...   \n",
       "2                  1  Adorable top with a hint of lace and a key hol...   \n",
       "\n",
       "                                  name  price  shipping  test_id  train_id  \\\n",
       "0  MLB Cincinnati Reds T Shirt Size XL   10.0         1      NaN       0.0   \n",
       "1     Razer BlackWidow Chroma Keyboard   52.0         0      NaN       1.0   \n",
       "2                       AVA-VIV Blouse   10.0         1      NaN       2.0   \n",
       "\n",
       "   general_cat             subcat_1            subcat_2  \n",
       "0          Men                 Tops            T-shirts  \n",
       "1  Electronics  Computers & Tablets  Components & Parts  \n",
       "2        Women       Tops & Blouses              Blouse  "
      ]
     },
     "execution_count": 10,
     "metadata": {},
     "output_type": "execute_result"
    }
   ],
   "source": [
    "df.head(3)"
   ]
  },
  {
   "cell_type": "code",
   "execution_count": 11,
   "metadata": {},
   "outputs": [],
   "source": [
    "# from sklearn.feature_extraction.text import CountVectorizer, TfidfVectorizer\n",
    "# \n",
    "# tv = TfidfVectorizer(max_features=100,\n",
    "#                          ngram_range=(1, 3),\n",
    "#                          stop_words='english')\n",
    "# X_description = tv.fit_transform(df['item_description'])\n"
   ]
  },
  {
   "cell_type": "code",
   "execution_count": 12,
   "metadata": {},
   "outputs": [],
   "source": [
    "# X_description.toarray().shape"
   ]
  },
  {
   "cell_type": "code",
   "execution_count": 13,
   "metadata": {},
   "outputs": [],
   "source": [
    "X_train = df[:nrow_train]\n",
    "X_test = df[nrow_train:]\n",
    "\n",
    "X_train, X_eval, y_train, y_eval = train_test_split(\n",
    "    X_train, Y_train, test_size=0.1, random_state=42)"
   ]
  },
  {
   "cell_type": "code",
   "execution_count": 14,
   "metadata": {},
   "outputs": [
    {
     "data": {
      "text/html": [
       "<div>\n",
       "<style>\n",
       "    .dataframe thead tr:only-child th {\n",
       "        text-align: right;\n",
       "    }\n",
       "\n",
       "    .dataframe thead th {\n",
       "        text-align: left;\n",
       "    }\n",
       "\n",
       "    .dataframe tbody tr th {\n",
       "        vertical-align: top;\n",
       "    }\n",
       "</style>\n",
       "<table border=\"1\" class=\"dataframe\">\n",
       "  <thead>\n",
       "    <tr style=\"text-align: right;\">\n",
       "      <th></th>\n",
       "      <th>brand_name</th>\n",
       "      <th>category_name</th>\n",
       "      <th>item_condition_id</th>\n",
       "      <th>item_description</th>\n",
       "      <th>name</th>\n",
       "      <th>price</th>\n",
       "      <th>shipping</th>\n",
       "      <th>test_id</th>\n",
       "      <th>train_id</th>\n",
       "      <th>general_cat</th>\n",
       "      <th>subcat_1</th>\n",
       "      <th>subcat_2</th>\n",
       "    </tr>\n",
       "  </thead>\n",
       "  <tbody>\n",
       "    <tr>\n",
       "      <th>44148</th>\n",
       "      <td>Victoria's Secret</td>\n",
       "      <td>Beauty/Makeup/Lips</td>\n",
       "      <td>3</td>\n",
       "      <td>These are new however the tip is cut off the l...</td>\n",
       "      <td>I have 25 vs matte lippys</td>\n",
       "      <td>24.0</td>\n",
       "      <td>0</td>\n",
       "      <td>NaN</td>\n",
       "      <td>44148.0</td>\n",
       "      <td>Beauty</td>\n",
       "      <td>Makeup</td>\n",
       "      <td>Lips</td>\n",
       "    </tr>\n",
       "    <tr>\n",
       "      <th>943660</th>\n",
       "      <td>unknown</td>\n",
       "      <td>Electronics/Cell Phones &amp; Accessories/Cases, C...</td>\n",
       "      <td>1</td>\n",
       "      <td>Black Waterproof Waist Punch Cover For Apple i...</td>\n",
       "      <td>IPhone Case Fanny Pack Waist Carrier New</td>\n",
       "      <td>11.0</td>\n",
       "      <td>1</td>\n",
       "      <td>NaN</td>\n",
       "      <td>943660.0</td>\n",
       "      <td>Electronics</td>\n",
       "      <td>Cell Phones &amp; Accessories</td>\n",
       "      <td>Cases, Covers &amp; Skins</td>\n",
       "    </tr>\n",
       "    <tr>\n",
       "      <th>1312383</th>\n",
       "      <td>American Eagle</td>\n",
       "      <td>Women/Tops &amp; Blouses/Blouse</td>\n",
       "      <td>3</td>\n",
       "      <td>American eagle black mesh and lace blouse. Has...</td>\n",
       "      <td>Mesh/ Lace Blouse</td>\n",
       "      <td>9.0</td>\n",
       "      <td>0</td>\n",
       "      <td>NaN</td>\n",
       "      <td>1312383.0</td>\n",
       "      <td>Women</td>\n",
       "      <td>Tops &amp; Blouses</td>\n",
       "      <td>Blouse</td>\n",
       "    </tr>\n",
       "  </tbody>\n",
       "</table>\n",
       "</div>"
      ],
      "text/plain": [
       "                brand_name                                      category_name  \\\n",
       "44148    Victoria's Secret                                 Beauty/Makeup/Lips   \n",
       "943660             unknown  Electronics/Cell Phones & Accessories/Cases, C...   \n",
       "1312383     American Eagle                        Women/Tops & Blouses/Blouse   \n",
       "\n",
       "         item_condition_id                                   item_description  \\\n",
       "44148                    3  These are new however the tip is cut off the l...   \n",
       "943660                   1  Black Waterproof Waist Punch Cover For Apple i...   \n",
       "1312383                  3  American eagle black mesh and lace blouse. Has...   \n",
       "\n",
       "                                             name  price  shipping  test_id  \\\n",
       "44148                   I have 25 vs matte lippys   24.0         0      NaN   \n",
       "943660   IPhone Case Fanny Pack Waist Carrier New   11.0         1      NaN   \n",
       "1312383                         Mesh/ Lace Blouse    9.0         0      NaN   \n",
       "\n",
       "          train_id  general_cat                   subcat_1  \\\n",
       "44148      44148.0       Beauty                     Makeup   \n",
       "943660    943660.0  Electronics  Cell Phones & Accessories   \n",
       "1312383  1312383.0        Women             Tops & Blouses   \n",
       "\n",
       "                      subcat_2  \n",
       "44148                     Lips  \n",
       "943660   Cases, Covers & Skins  \n",
       "1312383                 Blouse  "
      ]
     },
     "execution_count": 14,
     "metadata": {},
     "output_type": "execute_result"
    }
   ],
   "source": [
    "X_train.head(3)"
   ]
  },
  {
   "cell_type": "code",
   "execution_count": 15,
   "metadata": {},
   "outputs": [],
   "source": [
    "unique_categories = pd.Series(\"/\".join(df[\"category_name\"].unique().astype(\"str\")).split(\"/\")).unique()\n",
    "\n",
    "TRAIN_CSV_COLUMNS = [\n",
    "    \"brand_name\", \"item_condition_id\", \n",
    "    #\"item_description\", \"name\"\n",
    "    #\"price\", \n",
    "    \"general_cat\", \"subcat_1\", \"subcat_2\",\n",
    "    \"shipping\"\n",
    "]\n",
    "\n",
    "brand_name = tf.feature_column.categorical_column_with_vocabulary_list(\n",
    "    \"brand_name\", list(df.brand_name.unique()))\n",
    "item_condition_id = tf.feature_column.categorical_column_with_vocabulary_list(\n",
    "    \"item_condition_id\", list(df.item_condition_id.unique()))\n",
    "shipping = tf.feature_column.categorical_column_with_vocabulary_list(\n",
    "    \"shipping\", list(df.shipping.unique()))\n",
    "category_name = tf.feature_column.categorical_column_with_vocabulary_list(\n",
    "    \"category_name\", unique_categories)\n",
    "\n",
    "general_cat = tf.feature_column.categorical_column_with_vocabulary_list(\n",
    "    \"general_cat\", list(df.general_cat.unique()))\n",
    "subcat_1 = tf.feature_column.categorical_column_with_vocabulary_list(\n",
    "    \"subcat_1\", list(df.subcat_1.unique()))\n",
    "subcat_2 = tf.feature_column.categorical_column_with_vocabulary_list(\n",
    "    \"subcat_2\", list(df.subcat_2.unique()))\n",
    "\n",
    "feature_columns = [\n",
    "    #tf.feature_column.crossed_column(\n",
    "    #    [item_condition_id, shipping], hash_bucket_size=1000),\n",
    "    tf.feature_column.indicator_column(item_condition_id),\n",
    "    tf.feature_column.indicator_column(shipping),\n",
    "    tf.feature_column.embedding_column(brand_name, dimension=50),\n",
    "#     tf.feature_column.crossed_column(\n",
    "#        [general_cat, subcat_1, subcat_2], hash_bucket_size=1000),\n",
    "    tf.feature_column.embedding_column(general_cat, dimension=20),\n",
    "    tf.feature_column.embedding_column(subcat_1, dimension=30),\n",
    "    tf.feature_column.embedding_column(subcat_2, dimension=50),\n",
    "]\n",
    "\n",
    "# num_hidden_units = [500, 150, 50, 10, 50, 150, 300]\n",
    "num_hidden_units = [500, 150, 10, 150, 500]\n"
   ]
  },
  {
   "cell_type": "code",
   "execution_count": 16,
   "metadata": {
    "collapsed": true
   },
   "outputs": [],
   "source": [
    "train_input_fn = tf.estimator.inputs.pandas_input_fn(\n",
    "      x=X_train,\n",
    "      y=y_train,\n",
    "      batch_size=128,\n",
    "      num_epochs=None,\n",
    "      shuffle=False,\n",
    "      num_threads=1)\n",
    "\n",
    "eval_input_fn = tf.estimator.inputs.pandas_input_fn(\n",
    "      x=X_eval,\n",
    "      y=y_eval,\n",
    "      num_epochs=1,\n",
    "      shuffle=False,\n",
    "      num_threads=1)\n"
   ]
  },
  {
   "cell_type": "code",
   "execution_count": 17,
   "metadata": {},
   "outputs": [
    {
     "name": "stdout",
     "output_type": "stream",
     "text": [
      "INFO:tensorflow:Using default config.\n",
      "INFO:tensorflow:Using config: {'_keep_checkpoint_every_n_hours': 10000, '_save_checkpoints_secs': 600, '_keep_checkpoint_max': 5, '_save_checkpoints_steps': None, '_model_dir': './checkpoints/', '_save_summary_steps': 100, '_session_config': None, '_tf_random_seed': 1, '_log_step_count_steps': 100}\n"
     ]
    }
   ],
   "source": [
    "model = tf.estimator.DNNRegressor(feature_columns=feature_columns,\n",
    "                                   hidden_units=num_hidden_units,\n",
    "                                   activation_fn=tf.nn.relu,\n",
    "                                   dropout=0.1,\n",
    "#                                    optimizer=tf.train.AdamOptimizer(\n",
    "#                                              learning_rate=0.1),\n",
    "                                   optimizer=tf.train.ProximalAdagradOptimizer(\n",
    "                                             learning_rate=0.1,\n",
    "                                             l1_regularization_strength=0.001),\n",
    "                                   model_dir=\"./checkpoints/\")"
   ]
  },
  {
   "cell_type": "code",
   "execution_count": 18,
   "metadata": {},
   "outputs": [
    {
     "name": "stdout",
     "output_type": "stream",
     "text": [
      "INFO:tensorflow:Create CheckpointSaverHook.\n",
      "INFO:tensorflow:Restoring parameters from ./checkpoints/model.ckpt-2001\n",
      "INFO:tensorflow:Saving checkpoints for 2002 into ./checkpoints/model.ckpt.\n",
      "INFO:tensorflow:step = 2002, loss = 66.7232\n",
      "INFO:tensorflow:global_step/sec: 47.4611\n",
      "INFO:tensorflow:step = 2102, loss = 92.7131 (2.107 sec)\n",
      "INFO:tensorflow:global_step/sec: 43.4968\n",
      "INFO:tensorflow:step = 2202, loss = 76.558 (2.301 sec)\n",
      "INFO:tensorflow:global_step/sec: 34.8268\n",
      "INFO:tensorflow:step = 2302, loss = 79.9633 (2.869 sec)\n",
      "INFO:tensorflow:global_step/sec: 40.0479\n",
      "INFO:tensorflow:step = 2402, loss = 77.529 (2.496 sec)\n",
      "INFO:tensorflow:global_step/sec: 43.5757\n",
      "INFO:tensorflow:step = 2502, loss = 66.9966 (2.294 sec)\n",
      "INFO:tensorflow:global_step/sec: 40.8758\n",
      "INFO:tensorflow:step = 2602, loss = 91.0421 (2.447 sec)\n",
      "INFO:tensorflow:global_step/sec: 32.6886\n",
      "INFO:tensorflow:step = 2702, loss = 71.4971 (3.061 sec)\n",
      "INFO:tensorflow:global_step/sec: 37.2695\n",
      "INFO:tensorflow:step = 2802, loss = 56.892 (2.685 sec)\n",
      "INFO:tensorflow:global_step/sec: 35.2739\n",
      "INFO:tensorflow:step = 2902, loss = 75.2224 (2.833 sec)\n",
      "INFO:tensorflow:global_step/sec: 37.65\n",
      "INFO:tensorflow:step = 3002, loss = 88.2921 (2.659 sec)\n",
      "INFO:tensorflow:global_step/sec: 41.8673\n",
      "INFO:tensorflow:step = 3102, loss = 79.8648 (2.383 sec)\n",
      "INFO:tensorflow:global_step/sec: 49.0004\n",
      "INFO:tensorflow:step = 3202, loss = 64.0736 (2.041 sec)\n",
      "INFO:tensorflow:global_step/sec: 41.5283\n",
      "INFO:tensorflow:step = 3302, loss = 69.7368 (2.410 sec)\n",
      "INFO:tensorflow:global_step/sec: 44.0486\n",
      "INFO:tensorflow:step = 3402, loss = 78.5317 (2.271 sec)\n",
      "INFO:tensorflow:global_step/sec: 35.7314\n",
      "INFO:tensorflow:step = 3502, loss = 75.456 (2.796 sec)\n",
      "INFO:tensorflow:global_step/sec: 41.4329\n",
      "INFO:tensorflow:step = 3602, loss = 75.5597 (2.416 sec)\n",
      "INFO:tensorflow:global_step/sec: 54.6261\n",
      "INFO:tensorflow:step = 3702, loss = 74.217 (1.828 sec)\n",
      "INFO:tensorflow:global_step/sec: 54.7846\n",
      "INFO:tensorflow:step = 3802, loss = 69.3854 (1.825 sec)\n",
      "INFO:tensorflow:global_step/sec: 51.125\n",
      "INFO:tensorflow:step = 3902, loss = 71.6702 (1.957 sec)\n",
      "INFO:tensorflow:Saving checkpoints for 4001 into ./checkpoints/model.ckpt.\n",
      "INFO:tensorflow:Loss for final step: 72.2993.\n"
     ]
    },
    {
     "data": {
      "text/plain": [
       "<tensorflow.python.estimator.canned.dnn.DNNRegressor at 0x11407ab70>"
      ]
     },
     "execution_count": 18,
     "metadata": {},
     "output_type": "execute_result"
    }
   ],
   "source": [
    "model.train(input_fn=train_input_fn, steps=2000)"
   ]
  },
  {
   "cell_type": "code",
   "execution_count": 19,
   "metadata": {},
   "outputs": [
    {
     "name": "stdout",
     "output_type": "stream",
     "text": [
      "INFO:tensorflow:Starting evaluation at 2017-12-28-03:57:27\n",
      "INFO:tensorflow:Restoring parameters from ./checkpoints/model.ckpt-4001\n",
      "INFO:tensorflow:Finished evaluation at 2017-12-28-03:57:40\n",
      "INFO:tensorflow:Saving dict for global step 4001: average_loss = 0.564098, global_step = 4001, loss = 72.1569\n"
     ]
    }
   ],
   "source": [
    "result = model.evaluate(input_fn=eval_input_fn)"
   ]
  },
  {
   "cell_type": "code",
   "execution_count": 20,
   "metadata": {},
   "outputs": [],
   "source": [
    "some_data = X_eval[:9]\n",
    "\n",
    "predict_input_fn = tf.estimator.inputs.pandas_input_fn(\n",
    "      x=some_data,\n",
    "      num_epochs=1,\n",
    "      shuffle=False,\n",
    "      num_threads=1)"
   ]
  },
  {
   "cell_type": "code",
   "execution_count": 21,
   "metadata": {},
   "outputs": [
    {
     "name": "stdout",
     "output_type": "stream",
     "text": [
      "INFO:tensorflow:Restoring parameters from ./checkpoints/model.ckpt-4001\n",
      "Predict Result: [ 2.97339249  2.97339249  2.97339249  2.97339249  2.97339249  2.97339249\n",
      "  2.97339249  2.97339249  2.97339249]\n",
      "\n",
      "Real: [2.5649493574615367, 4.3438054218536841, 2.5649493574615367, 1.3862943611198906, 3.4339872044851463, 5.4205349992722862, 2.8332133440562162, 2.5649493574615367, 2.7725887222397811]\n"
     ]
    }
   ],
   "source": [
    "predictions = model.predict(input_fn=predict_input_fn)\n",
    "pred = [p['predictions'] for p in predictions]\n",
    "\n",
    "pred = np.array(pred, dtype='float32').squeeze()\n",
    "print(\"Predict Result: {}\\n\".format(pred))\n",
    "print(\"Real: {}\".format(list(y_eval[0:9])))"
   ]
  },
  {
   "cell_type": "markdown",
   "metadata": {},
   "source": [
    "<br>\n",
    "### Test"
   ]
  },
  {
   "cell_type": "code",
   "execution_count": 22,
   "metadata": {},
   "outputs": [],
   "source": [
    "predict_input_fn = tf.estimator.inputs.pandas_input_fn(\n",
    "      x=X_test,\n",
    "      num_epochs=1,\n",
    "      shuffle=False,\n",
    "      num_threads=1)"
   ]
  },
  {
   "cell_type": "code",
   "execution_count": 23,
   "metadata": {},
   "outputs": [
    {
     "name": "stdout",
     "output_type": "stream",
     "text": [
      "INFO:tensorflow:Restoring parameters from ./checkpoints/model.ckpt-4001\n"
     ]
    }
   ],
   "source": [
    "predictions = model.predict(input_fn=predict_input_fn)\n",
    "pred = [p['predictions'] for p in predictions]\n",
    "pred_result = np.array(pred, dtype='float32').squeeze()\n",
    "\n",
    "test[\"price\"] = np.expm1(pred_result)\n",
    "test[[\"test_id\", \"price\"]].to_csv(\"dnn_result.csv\", index = False)"
   ]
  },
  {
   "cell_type": "code",
   "execution_count": 24,
   "metadata": {},
   "outputs": [
    {
     "data": {
      "text/html": [
       "<div>\n",
       "<style>\n",
       "    .dataframe thead tr:only-child th {\n",
       "        text-align: right;\n",
       "    }\n",
       "\n",
       "    .dataframe thead th {\n",
       "        text-align: left;\n",
       "    }\n",
       "\n",
       "    .dataframe tbody tr th {\n",
       "        vertical-align: top;\n",
       "    }\n",
       "</style>\n",
       "<table border=\"1\" class=\"dataframe\">\n",
       "  <thead>\n",
       "    <tr style=\"text-align: right;\">\n",
       "      <th></th>\n",
       "      <th>test_id</th>\n",
       "      <th>price</th>\n",
       "    </tr>\n",
       "  </thead>\n",
       "  <tbody>\n",
       "    <tr>\n",
       "      <th>0</th>\n",
       "      <td>0</td>\n",
       "      <td>18.558159</td>\n",
       "    </tr>\n",
       "    <tr>\n",
       "      <th>1</th>\n",
       "      <td>1</td>\n",
       "      <td>18.558159</td>\n",
       "    </tr>\n",
       "    <tr>\n",
       "      <th>2</th>\n",
       "      <td>2</td>\n",
       "      <td>18.558159</td>\n",
       "    </tr>\n",
       "    <tr>\n",
       "      <th>3</th>\n",
       "      <td>3</td>\n",
       "      <td>18.558159</td>\n",
       "    </tr>\n",
       "    <tr>\n",
       "      <th>4</th>\n",
       "      <td>4</td>\n",
       "      <td>18.558159</td>\n",
       "    </tr>\n",
       "  </tbody>\n",
       "</table>\n",
       "</div>"
      ],
      "text/plain": [
       "   test_id      price\n",
       "0        0  18.558159\n",
       "1        1  18.558159\n",
       "2        2  18.558159\n",
       "3        3  18.558159\n",
       "4        4  18.558159"
      ]
     },
     "execution_count": 24,
     "metadata": {},
     "output_type": "execute_result"
    }
   ],
   "source": [
    "test[[\"test_id\", \"price\"]].head(5)"
   ]
  },
  {
   "cell_type": "code",
   "execution_count": null,
   "metadata": {
    "collapsed": true
   },
   "outputs": [],
   "source": []
  },
  {
   "cell_type": "code",
   "execution_count": null,
   "metadata": {
    "collapsed": true
   },
   "outputs": [],
   "source": []
  }
 ],
 "metadata": {
  "kernelspec": {
   "display_name": "Python 3",
   "language": "python",
   "name": "python3"
  },
  "language_info": {
   "codemirror_mode": {
    "name": "ipython",
    "version": 3
   },
   "file_extension": ".py",
   "mimetype": "text/x-python",
   "name": "python",
   "nbconvert_exporter": "python",
   "pygments_lexer": "ipython3",
   "version": "3.5.2"
  }
 },
 "nbformat": 4,
 "nbformat_minor": 2
}
