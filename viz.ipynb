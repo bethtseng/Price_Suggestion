{
 "cells": [
  {
   "cell_type": "markdown",
   "metadata": {},
   "source": [
    "# Mercari Price Suggestion Challenge\n",
    "* url: https://www.kaggle.com/c/mercari-price-suggestion-challenge"
   ]
  },
  {
   "cell_type": "markdown",
   "metadata": {},
   "source": [
    "### import module"
   ]
  },
  {
   "cell_type": "code",
   "execution_count": 1,
   "metadata": {},
   "outputs": [
    {
     "data": {
      "text/html": [
       "<script>requirejs.config({paths: { 'plotly': ['https://cdn.plot.ly/plotly-latest.min']},});if(!window.Plotly) {{require(['plotly'],function(plotly) {window.Plotly=plotly;});}}</script>"
      ],
      "text/vnd.plotly.v1+html": [
       "<script>requirejs.config({paths: { 'plotly': ['https://cdn.plot.ly/plotly-latest.min']},});if(!window.Plotly) {{require(['plotly'],function(plotly) {window.Plotly=plotly;});}}</script>"
      ]
     },
     "metadata": {},
     "output_type": "display_data"
    }
   ],
   "source": [
    "import pandas as pd\n",
    "import numpy as np\n",
    "from pandas import DataFrame, Series\n",
    "from collections import Counter, defaultdict\n",
    "import tensorflow as tf\n",
    "from sklearn.model_selection import train_test_split, cross_val_score\n",
    "from sklearn.feature_extraction.text import CountVectorizer, TfidfVectorizer\n",
    "from sklearn.preprocessing import LabelBinarizer\n",
    "import scipy\n",
    "\n",
    "import gc\n",
    "\n",
    "import matplotlib\n",
    "%matplotlib inline\n",
    "import matplotlib.pyplot as plt\n",
    "matplotlib.style.use('ggplot')\n",
    "import seaborn as sns\n",
    "\n",
    "import plotly.graph_objs as go\n",
    "from plotly.offline import init_notebook_mode, iplot\n",
    "init_notebook_mode(connected=True)\n",
    "\n",
    "import helper_function as helper"
   ]
  },
  {
   "cell_type": "markdown",
   "metadata": {},
   "source": [
    "### data exploration"
   ]
  },
  {
   "cell_type": "code",
   "execution_count": 2,
   "metadata": {
    "collapsed": true
   },
   "outputs": [],
   "source": [
    "train = pd.read_csv('sample_data/train.tsv', sep='\\t')\n",
    "test = pd.read_csv('sample_data/test.tsv', sep='\\t')\n",
    "submission = pd.read_csv('sample_data/sample_submission.csv', sep=',')"
   ]
  },
  {
   "cell_type": "code",
   "execution_count": 3,
   "metadata": {
    "collapsed": true
   },
   "outputs": [],
   "source": [
    "# train = pd.read_csv('data/train.tsv', sep='\\t')\n",
    "# test = pd.read_csv('data/test.tsv', sep='\\t')"
   ]
  },
  {
   "cell_type": "code",
   "execution_count": 4,
   "metadata": {},
   "outputs": [
    {
     "data": {
      "text/html": [
       "<div>\n",
       "<style>\n",
       "    .dataframe thead tr:only-child th {\n",
       "        text-align: right;\n",
       "    }\n",
       "\n",
       "    .dataframe thead th {\n",
       "        text-align: left;\n",
       "    }\n",
       "\n",
       "    .dataframe tbody tr th {\n",
       "        vertical-align: top;\n",
       "    }\n",
       "</style>\n",
       "<table border=\"1\" class=\"dataframe\">\n",
       "  <thead>\n",
       "    <tr style=\"text-align: right;\">\n",
       "      <th></th>\n",
       "      <th>train_id</th>\n",
       "      <th>name</th>\n",
       "      <th>item_condition_id</th>\n",
       "      <th>category_name</th>\n",
       "      <th>brand_name</th>\n",
       "      <th>price</th>\n",
       "      <th>shipping</th>\n",
       "      <th>item_description</th>\n",
       "    </tr>\n",
       "  </thead>\n",
       "  <tbody>\n",
       "    <tr>\n",
       "      <th>0</th>\n",
       "      <td>0</td>\n",
       "      <td>MLB Cincinnati Reds T Shirt Size XL</td>\n",
       "      <td>3</td>\n",
       "      <td>Men/Tops/T-shirts</td>\n",
       "      <td>NaN</td>\n",
       "      <td>10.0</td>\n",
       "      <td>1</td>\n",
       "      <td>No description yet</td>\n",
       "    </tr>\n",
       "    <tr>\n",
       "      <th>1</th>\n",
       "      <td>1</td>\n",
       "      <td>Razer BlackWidow Chroma Keyboard</td>\n",
       "      <td>3</td>\n",
       "      <td>Electronics/Computers &amp; Tablets/Components &amp; P...</td>\n",
       "      <td>Razer</td>\n",
       "      <td>52.0</td>\n",
       "      <td>0</td>\n",
       "      <td>This keyboard is in great condition and works ...</td>\n",
       "    </tr>\n",
       "    <tr>\n",
       "      <th>2</th>\n",
       "      <td>2</td>\n",
       "      <td>AVA-VIV Blouse</td>\n",
       "      <td>1</td>\n",
       "      <td>Women/Tops &amp; Blouses/Blouse</td>\n",
       "      <td>Target</td>\n",
       "      <td>10.0</td>\n",
       "      <td>1</td>\n",
       "      <td>Adorable top with a hint of lace and a key hol...</td>\n",
       "    </tr>\n",
       "  </tbody>\n",
       "</table>\n",
       "</div>"
      ],
      "text/plain": [
       "   train_id                                 name  item_condition_id  \\\n",
       "0         0  MLB Cincinnati Reds T Shirt Size XL                  3   \n",
       "1         1     Razer BlackWidow Chroma Keyboard                  3   \n",
       "2         2                       AVA-VIV Blouse                  1   \n",
       "\n",
       "                                       category_name brand_name  price  \\\n",
       "0                                  Men/Tops/T-shirts        NaN   10.0   \n",
       "1  Electronics/Computers & Tablets/Components & P...      Razer   52.0   \n",
       "2                        Women/Tops & Blouses/Blouse     Target   10.0   \n",
       "\n",
       "   shipping                                   item_description  \n",
       "0         1                                 No description yet  \n",
       "1         0  This keyboard is in great condition and works ...  \n",
       "2         1  Adorable top with a hint of lace and a key hol...  "
      ]
     },
     "execution_count": 4,
     "metadata": {},
     "output_type": "execute_result"
    }
   ],
   "source": [
    "train.head(3)"
   ]
  },
  {
   "cell_type": "code",
   "execution_count": 5,
   "metadata": {},
   "outputs": [
    {
     "data": {
      "text/html": [
       "<div>\n",
       "<style>\n",
       "    .dataframe thead tr:only-child th {\n",
       "        text-align: right;\n",
       "    }\n",
       "\n",
       "    .dataframe thead th {\n",
       "        text-align: left;\n",
       "    }\n",
       "\n",
       "    .dataframe tbody tr th {\n",
       "        vertical-align: top;\n",
       "    }\n",
       "</style>\n",
       "<table border=\"1\" class=\"dataframe\">\n",
       "  <thead>\n",
       "    <tr style=\"text-align: right;\">\n",
       "      <th></th>\n",
       "      <th>test_id</th>\n",
       "      <th>price</th>\n",
       "    </tr>\n",
       "  </thead>\n",
       "  <tbody>\n",
       "    <tr>\n",
       "      <th>0</th>\n",
       "      <td>0</td>\n",
       "      <td>26.738</td>\n",
       "    </tr>\n",
       "    <tr>\n",
       "      <th>1</th>\n",
       "      <td>1</td>\n",
       "      <td>26.738</td>\n",
       "    </tr>\n",
       "    <tr>\n",
       "      <th>2</th>\n",
       "      <td>2</td>\n",
       "      <td>26.738</td>\n",
       "    </tr>\n",
       "  </tbody>\n",
       "</table>\n",
       "</div>"
      ],
      "text/plain": [
       "   test_id   price\n",
       "0        0  26.738\n",
       "1        1  26.738\n",
       "2        2  26.738"
      ]
     },
     "execution_count": 5,
     "metadata": {},
     "output_type": "execute_result"
    }
   ],
   "source": [
    "submission.head(3)"
   ]
  },
  {
   "cell_type": "code",
   "execution_count": 6,
   "metadata": {},
   "outputs": [
    {
     "data": {
      "text/plain": [
       "(999, 8)"
      ]
     },
     "execution_count": 6,
     "metadata": {},
     "output_type": "execute_result"
    }
   ],
   "source": [
    "train.shape"
   ]
  },
  {
   "cell_type": "code",
   "execution_count": 7,
   "metadata": {},
   "outputs": [
    {
     "data": {
      "text/html": [
       "<div>\n",
       "<style>\n",
       "    .dataframe thead tr:only-child th {\n",
       "        text-align: right;\n",
       "    }\n",
       "\n",
       "    .dataframe thead th {\n",
       "        text-align: left;\n",
       "    }\n",
       "\n",
       "    .dataframe tbody tr th {\n",
       "        vertical-align: top;\n",
       "    }\n",
       "</style>\n",
       "<table border=\"1\" class=\"dataframe\">\n",
       "  <thead>\n",
       "    <tr style=\"text-align: right;\">\n",
       "      <th></th>\n",
       "      <th>train_id</th>\n",
       "      <th>item_condition_id</th>\n",
       "      <th>price</th>\n",
       "      <th>shipping</th>\n",
       "    </tr>\n",
       "  </thead>\n",
       "  <tbody>\n",
       "    <tr>\n",
       "      <th>count</th>\n",
       "      <td>999.000000</td>\n",
       "      <td>999.000000</td>\n",
       "      <td>999.000000</td>\n",
       "      <td>999.000000</td>\n",
       "    </tr>\n",
       "    <tr>\n",
       "      <th>mean</th>\n",
       "      <td>499.000000</td>\n",
       "      <td>1.887888</td>\n",
       "      <td>27.899900</td>\n",
       "      <td>0.450450</td>\n",
       "    </tr>\n",
       "    <tr>\n",
       "      <th>std</th>\n",
       "      <td>288.530761</td>\n",
       "      <td>0.916036</td>\n",
       "      <td>45.887092</td>\n",
       "      <td>0.497788</td>\n",
       "    </tr>\n",
       "    <tr>\n",
       "      <th>min</th>\n",
       "      <td>0.000000</td>\n",
       "      <td>1.000000</td>\n",
       "      <td>3.000000</td>\n",
       "      <td>0.000000</td>\n",
       "    </tr>\n",
       "    <tr>\n",
       "      <th>25%</th>\n",
       "      <td>249.500000</td>\n",
       "      <td>1.000000</td>\n",
       "      <td>10.000000</td>\n",
       "      <td>0.000000</td>\n",
       "    </tr>\n",
       "    <tr>\n",
       "      <th>50%</th>\n",
       "      <td>499.000000</td>\n",
       "      <td>2.000000</td>\n",
       "      <td>16.000000</td>\n",
       "      <td>0.000000</td>\n",
       "    </tr>\n",
       "    <tr>\n",
       "      <th>75%</th>\n",
       "      <td>748.500000</td>\n",
       "      <td>3.000000</td>\n",
       "      <td>29.000000</td>\n",
       "      <td>1.000000</td>\n",
       "    </tr>\n",
       "    <tr>\n",
       "      <th>max</th>\n",
       "      <td>998.000000</td>\n",
       "      <td>5.000000</td>\n",
       "      <td>650.000000</td>\n",
       "      <td>1.000000</td>\n",
       "    </tr>\n",
       "  </tbody>\n",
       "</table>\n",
       "</div>"
      ],
      "text/plain": [
       "         train_id  item_condition_id       price    shipping\n",
       "count  999.000000         999.000000  999.000000  999.000000\n",
       "mean   499.000000           1.887888   27.899900    0.450450\n",
       "std    288.530761           0.916036   45.887092    0.497788\n",
       "min      0.000000           1.000000    3.000000    0.000000\n",
       "25%    249.500000           1.000000   10.000000    0.000000\n",
       "50%    499.000000           2.000000   16.000000    0.000000\n",
       "75%    748.500000           3.000000   29.000000    1.000000\n",
       "max    998.000000           5.000000  650.000000    1.000000"
      ]
     },
     "execution_count": 7,
     "metadata": {},
     "output_type": "execute_result"
    }
   ],
   "source": [
    "train.describe()"
   ]
  },
  {
   "cell_type": "code",
   "execution_count": 8,
   "metadata": {},
   "outputs": [
    {
     "data": {
      "text/plain": [
       "train_id               int64\n",
       "name                  object\n",
       "item_condition_id      int64\n",
       "category_name         object\n",
       "brand_name            object\n",
       "price                float64\n",
       "shipping               int64\n",
       "item_description      object\n",
       "dtype: object"
      ]
     },
     "execution_count": 8,
     "metadata": {},
     "output_type": "execute_result"
    }
   ],
   "source": [
    "train.dtypes"
   ]
  },
  {
   "cell_type": "markdown",
   "metadata": {},
   "source": [
    "### Price\n",
    "* log_price = <b>Log2( price+1 )</b>\n",
    "* log_price_slot = ceil( <b>Log2( price+1 )</b> )"
   ]
  },
  {
   "cell_type": "code",
   "execution_count": 9,
   "metadata": {},
   "outputs": [
    {
     "data": {
      "text/html": [
       "<div>\n",
       "<style>\n",
       "    .dataframe thead tr:only-child th {\n",
       "        text-align: right;\n",
       "    }\n",
       "\n",
       "    .dataframe thead th {\n",
       "        text-align: left;\n",
       "    }\n",
       "\n",
       "    .dataframe tbody tr th {\n",
       "        vertical-align: top;\n",
       "    }\n",
       "</style>\n",
       "<table border=\"1\" class=\"dataframe\">\n",
       "  <thead>\n",
       "    <tr style=\"text-align: right;\">\n",
       "      <th></th>\n",
       "      <th>price</th>\n",
       "      <th>log_price</th>\n",
       "      <th>log_price_slot</th>\n",
       "    </tr>\n",
       "  </thead>\n",
       "  <tbody>\n",
       "    <tr>\n",
       "      <th>0</th>\n",
       "      <td>10.0</td>\n",
       "      <td>3.459432</td>\n",
       "      <td>4</td>\n",
       "    </tr>\n",
       "    <tr>\n",
       "      <th>1</th>\n",
       "      <td>52.0</td>\n",
       "      <td>5.727920</td>\n",
       "      <td>6</td>\n",
       "    </tr>\n",
       "    <tr>\n",
       "      <th>2</th>\n",
       "      <td>10.0</td>\n",
       "      <td>3.459432</td>\n",
       "      <td>4</td>\n",
       "    </tr>\n",
       "  </tbody>\n",
       "</table>\n",
       "</div>"
      ],
      "text/plain": [
       "   price  log_price  log_price_slot\n",
       "0   10.0   3.459432               4\n",
       "1   52.0   5.727920               6\n",
       "2   10.0   3.459432               4"
      ]
     },
     "execution_count": 9,
     "metadata": {},
     "output_type": "execute_result"
    }
   ],
   "source": [
    "price = DataFrame(train['price'])\n",
    "price['log_price'] = list(helper.log(train.price))\n",
    "price['log_price_slot'] = list(helper.log(train.price, slot=True))\n",
    "price.head(3)"
   ]
  },
  {
   "cell_type": "code",
   "execution_count": 10,
   "metadata": {},
   "outputs": [
    {
     "data": {
      "text/plain": [
       "4     372\n",
       "5     314\n",
       "6     152\n",
       "3      81\n",
       "7      45\n",
       "8      14\n",
       "2      14\n",
       "9       5\n",
       "10      2\n",
       "Name: log_price_slot, dtype: int64"
      ]
     },
     "execution_count": 10,
     "metadata": {},
     "output_type": "execute_result"
    }
   ],
   "source": [
    "price['log_price_slot'].value_counts()"
   ]
  },
  {
   "cell_type": "markdown",
   "metadata": {},
   "source": [
    "### Pricing and Item Condition ID"
   ]
  },
  {
   "cell_type": "code",
   "execution_count": 11,
   "metadata": {},
   "outputs": [
    {
     "data": {
      "image/png": "[encoded data removed]",
      "text/plain": [
       "<matplotlib.figure.Figure at 0x114639be0>"
      ]
     },
     "metadata": {},
     "output_type": "display_data"
    }
   ],
   "source": [
    "f,ax=plt.subplots(2,2,figsize=(20,15))\n",
    "\n",
    "ax[0,0].hist(list(helper.price_scale(train.price, n=350)), bins = 30,label = 'price')\n",
    "ax[0,0].set_title(\"Price\")\n",
    "ax[0,0].set_xlabel(\"Price\")\n",
    "ax[0,0].set_ylabel(\"Counts\")\n",
    "\n",
    "ax[0,1].hist('log_price', bins = 30,label='price', data=price)\n",
    "ax[0,1].set_title(\"Log Price (base=2)\")\n",
    "ax[0,1].set_xlabel(\"Log2(Price+1)\")\n",
    "ax[0,1].set_ylabel(\"Counts\")\n",
    "\n",
    "sns.countplot('log_price_slot', hue=train['item_condition_id'], data=price, ax=ax[1,0])\n",
    "ax[1,0].set_title('Item Condition ID vs Log2 Price')\n",
    "sns.countplot('log_price_slot', hue=train['shipping'],data=price,ax=ax[1,1])\n",
    "ax[1,1].set_title('Shipping vs Log2 Price')\n",
    "plt.show()"
   ]
  },
  {
   "cell_type": "code",
   "execution_count": 12,
   "metadata": {
    "collapsed": true
   },
   "outputs": [],
   "source": [
    "# sns.factorplot(log_price_slot, 'item_condition_id' ,hue='shipping',col='', data=train)#\n",
    "#sns.factorplot('item_condition_id', 'log_price_slot' ,hue='shipping', data=train)\n",
    "#plt.show()"
   ]
  },
  {
   "cell_type": "code",
   "execution_count": 13,
   "metadata": {},
   "outputs": [
    {
     "name": "stdout",
     "output_type": "stream",
     "text": [
      "Item Condition ID vs Shipping\n"
     ]
    },
    {
     "data": {
      "text/html": [
       "<style  type=\"text/css\" >\n",
       "    #T_73fbd33a_ead6_11e7_8c37_8c2937e74684row0_col0 {\n",
       "            background-color:  #ffff66;\n",
       "        }    #T_73fbd33a_ead6_11e7_8c37_8c2937e74684row0_col1 {\n",
       "            background-color:  #008066;\n",
       "        }    #T_73fbd33a_ead6_11e7_8c37_8c2937e74684row0_col2 {\n",
       "            background-color:  #008066;\n",
       "        }    #T_73fbd33a_ead6_11e7_8c37_8c2937e74684row0_col3 {\n",
       "            background-color:  #008066;\n",
       "        }    #T_73fbd33a_ead6_11e7_8c37_8c2937e74684row0_col4 {\n",
       "            background-color:  #008066;\n",
       "        }    #T_73fbd33a_ead6_11e7_8c37_8c2937e74684row1_col0 {\n",
       "            background-color:  #008066;\n",
       "        }    #T_73fbd33a_ead6_11e7_8c37_8c2937e74684row1_col1 {\n",
       "            background-color:  #ffff66;\n",
       "        }    #T_73fbd33a_ead6_11e7_8c37_8c2937e74684row1_col2 {\n",
       "            background-color:  #ffff66;\n",
       "        }    #T_73fbd33a_ead6_11e7_8c37_8c2937e74684row1_col3 {\n",
       "            background-color:  #ffff66;\n",
       "        }    #T_73fbd33a_ead6_11e7_8c37_8c2937e74684row1_col4 {\n",
       "            background-color:  #ffff66;\n",
       "        }</style>  \n",
       "<table id=\"T_73fbd33a_ead6_11e7_8c37_8c2937e74684\" > \n",
       "<thead>    <tr> \n",
       "        <th class=\"index_name level0\" >item_condition_id</th> \n",
       "        <th class=\"col_heading level0 col0\" >1</th> \n",
       "        <th class=\"col_heading level0 col1\" >2</th> \n",
       "        <th class=\"col_heading level0 col2\" >3</th> \n",
       "        <th class=\"col_heading level0 col3\" >4</th> \n",
       "        <th class=\"col_heading level0 col4\" >5</th> \n",
       "    </tr>    <tr> \n",
       "        <th class=\"index_name level0\" >shipping</th> \n",
       "        <th class=\"blank\" ></th> \n",
       "        <th class=\"blank\" ></th> \n",
       "        <th class=\"blank\" ></th> \n",
       "        <th class=\"blank\" ></th> \n",
       "        <th class=\"blank\" ></th> \n",
       "    </tr></thead> \n",
       "<tbody>    <tr> \n",
       "        <th id=\"T_73fbd33a_ead6_11e7_8c37_8c2937e74684level0_row0\" class=\"row_heading level0 row0\" >0</th> \n",
       "        <td id=\"T_73fbd33a_ead6_11e7_8c37_8c2937e74684row0_col0\" class=\"data row0 col0\" >195</td> \n",
       "        <td id=\"T_73fbd33a_ead6_11e7_8c37_8c2937e74684row0_col1\" class=\"data row0 col1\" >152</td> \n",
       "        <td id=\"T_73fbd33a_ead6_11e7_8c37_8c2937e74684row0_col2\" class=\"data row0 col2\" >184</td> \n",
       "        <td id=\"T_73fbd33a_ead6_11e7_8c37_8c2937e74684row0_col3\" class=\"data row0 col3\" >16</td> \n",
       "        <td id=\"T_73fbd33a_ead6_11e7_8c37_8c2937e74684row0_col4\" class=\"data row0 col4\" >2</td> \n",
       "    </tr>    <tr> \n",
       "        <th id=\"T_73fbd33a_ead6_11e7_8c37_8c2937e74684level0_row1\" class=\"row_heading level0 row1\" >1</th> \n",
       "        <td id=\"T_73fbd33a_ead6_11e7_8c37_8c2937e74684row1_col0\" class=\"data row1 col0\" >257</td> \n",
       "        <td id=\"T_73fbd33a_ead6_11e7_8c37_8c2937e74684row1_col1\" class=\"data row1 col1\" >82</td> \n",
       "        <td id=\"T_73fbd33a_ead6_11e7_8c37_8c2937e74684row1_col2\" class=\"data row1 col2\" >104</td> \n",
       "        <td id=\"T_73fbd33a_ead6_11e7_8c37_8c2937e74684row1_col3\" class=\"data row1 col3\" >7</td> \n",
       "        <td id=\"T_73fbd33a_ead6_11e7_8c37_8c2937e74684row1_col4\" class=\"data row1 col4\" >0</td> \n",
       "    </tr></tbody> \n",
       "</table> "
      ],
      "text/plain": [
       "<pandas.io.formats.style.Styler at 0x115a74748>"
      ]
     },
     "execution_count": 13,
     "metadata": {},
     "output_type": "execute_result"
    }
   ],
   "source": [
    "print(\"Item Condition ID vs Shipping\")\n",
    "pd.crosstab(train.shipping,train.item_condition_id,margins=False).style.background_gradient(cmap='summer_r')"
   ]
  },
  {
   "cell_type": "code",
   "execution_count": 14,
   "metadata": {},
   "outputs": [
    {
     "data": {
      "image/png": "[encoded data removed]",
      "text/plain": [
       "<matplotlib.figure.Figure at 0x115a85710>"
      ]
     },
     "metadata": {},
     "output_type": "display_data"
    }
   ],
   "source": [
    "f,ax=plt.subplots(figsize=(18,8))\n",
    "sns.violinplot(train.item_condition_id, price.log_price, hue=train.shipping, split=True)\n",
    "ax.set_title('item_condition_id and shipping vs log2 price')\n",
    "ax.set_xlabel(\"Log2 Price\")\n",
    "ax.set_ylabel(\"Item Condition ID\")\n",
    "plt.show()"
   ]
  },
  {
   "cell_type": "markdown",
   "metadata": {},
   "source": [
    "### Data Preprocessing"
   ]
  },
  {
   "cell_type": "code",
   "execution_count": 15,
   "metadata": {
    "collapsed": true
   },
   "outputs": [],
   "source": [
    "BrandMinNum = 2\n",
    "NUM_BRANDS = 250"
   ]
  },
  {
   "cell_type": "code",
   "execution_count": 16,
   "metadata": {},
   "outputs": [
    {
     "name": "stdout",
     "output_type": "stream",
     "text": [
      "Index                 15984\n",
      "brand_name           103607\n",
      "category_name        174313\n",
      "item_condition_id     15984\n",
      "item_description     459804\n",
      "name                 167342\n",
      "price                 15984\n",
      "shipping              15984\n",
      "test_id               15984\n",
      "train_id              15984\n",
      "dtype: int64\n"
     ]
    }
   ],
   "source": [
    "df = pd.concat([train, test], 0)\n",
    "nrow_train = train.shape[0]\n",
    "Y_train = np.log1p(train[\"price\"])\n",
    "\n",
    "del train\n",
    "gc.collect() # release usage memory (df_train)\n",
    "\n",
    "print(df.memory_usage(deep = True))"
   ]
  },
  {
   "cell_type": "code",
   "execution_count": 17,
   "metadata": {},
   "outputs": [
    {
     "name": "stdout",
     "output_type": "stream",
     "text": [
      "Index                 15984\n",
      "brand_name            11178\n",
      "category_name         47794\n",
      "item_condition_id      2198\n",
      "item_description     459804\n",
      "name                 167342\n",
      "price                 15984\n",
      "shipping              15984\n",
      "test_id               15984\n",
      "train_id              15984\n",
      "dtype: int64\n"
     ]
    }
   ],
   "source": [
    "df[\"category_name\"] = df[\"category_name\"].fillna(\"Other\").astype(\"category\")\n",
    "df[\"brand_name\"] = df[\"brand_name\"].fillna(\"unknown\")\n",
    "\n",
    "# pop_brands = df[\"brand_name\"].value_counts().index[:NUM_BRANDS]\n",
    "brand_count = df[\"brand_name\"].value_counts()\n",
    "pop_brands = brand_count[brand_count > BrandMinNum].index\n",
    "df.loc[~df[\"brand_name\"].isin(pop_brands), \"brand_name\"] = \"Other\"\n",
    "\n",
    "df[\"item_description\"] = df[\"item_description\"].fillna(\"None\")\n",
    "df[\"item_condition_id\"] = df[\"item_condition_id\"].astype(\"category\")\n",
    "df[\"brand_name\"] = df[\"brand_name\"].astype(\"category\")\n",
    "\n",
    "print(df.memory_usage(deep = True))"
   ]
  },
  {
   "cell_type": "markdown",
   "metadata": {},
   "source": [
    "### Brand Name"
   ]
  },
  {
   "cell_type": "code",
   "execution_count": 18,
   "metadata": {},
   "outputs": [
    {
     "name": "stdout",
     "output_type": "stream",
     "text": [
      "Brand encoders\n",
      "Convert 'brand_name' to sparse matrix\n",
      "Shape=(1998, 99)\n"
     ]
    }
   ],
   "source": [
    "print(\"Brand encoders\")\n",
    "print(\"Convert 'brand_name' to sparse matrix\")\n",
    "vect_brand = LabelBinarizer(sparse_output=True)\n",
    "X_brand = vect_brand.fit_transform(df[\"brand_name\"])\n",
    "\n",
    "print(\"Shape={}\".format(X_brand.toarray().shape))"
   ]
  },
  {
   "cell_type": "markdown",
   "metadata": {},
   "source": [
    "<br>\n",
    "#### brand vs price\n",
    "* there are many outliers\n",
    "    * use <b>median price</b> rather than average price on each brand\n",
    "<br>"
   ]
  },
  {
   "cell_type": "code",
   "execution_count": 19,
   "metadata": {},
   "outputs": [
    {
     "data": {
      "application/vnd.plotly.v1+json": {
       "data": [
        {
         "name": "Younique",
         "type": "box",
         "y": [
          14,
          16,
          25
         ]
        },
        {
         "name": "Too Faced",
         "type": "box",
         "y": [
          25,
          32,
          10,
          7,
          9,
          17,
          8,
          32,
          18
         ]
        },
        {
         "name": "Charlotte Russe",
         "type": "box",
         "y": [
          9
         ]
        },
        {
         "name": "MAC",
         "type": "box",
         "y": [
          12
         ]
        },
        {
         "name": "Wildfox Couture",
         "type": "box",
         "y": [
          73,
          116
         ]
        },
        {
         "name": "Timberland",
         "type": "box",
         "y": [
          74,
          34
         ]
        },
        {
         "name": "Osh Kosh B'gosh",
         "type": "box",
         "y": [
          6,
          8
         ]
        },
        {
         "name": "Mary Kay",
         "type": "box",
         "y": [
          8,
          8,
          14
         ]
        },
        {
         "name": "Lululemon",
         "type": "box",
         "y": [
          44,
          38,
          42,
          80,
          10,
          71,
          72,
          33
         ]
        },
        {
         "name": "Converse",
         "type": "box",
         "y": [
          18,
          41,
          16,
          22
         ]
        }
       ],
       "layout": {
        "hovermode": "closest",
        "showlegend": false,
        "title": "Brand vs Price box plot",
        "xaxis": {
         "gridwidth": 2,
         "ticklen": 5,
         "title": "Brand Name",
         "zeroline": false
        },
        "yaxis": {
         "gridwidth": 2,
         "ticklen": 5,
         "title": "Price"
        }
       }
      },
      "text/html": [
       "<div id=\"abf3d759-40b5-41c8-9a2b-e093289453f6\" style=\"height: 525px; width: 100%;\" class=\"plotly-graph-div\"></div><script type=\"text/javascript\">require([\"plotly\"], function(Plotly) { window.PLOTLYENV=window.PLOTLYENV || {};window.PLOTLYENV.BASE_URL=\"https://plot.ly\";Plotly.newPlot(\"abf3d759-40b5-41c8-9a2b-e093289453f6\", [{\"name\": \"Younique\", \"y\": [14.0, 16.0, 25.0], \"type\": \"box\"}, {\"name\": \"Too Faced\", \"y\": [25.0, 32.0, 10.0, 7.0, 9.0, 17.0, 8.0, 32.0, 18.0], \"type\": \"box\"}, {\"name\": \"Charlotte Russe\", \"y\": [9.0], \"type\": \"box\"}, {\"name\": \"MAC\", \"y\": [12.0], \"type\": \"box\"}, {\"name\": \"Wildfox Couture\", \"y\": [73.0, 116.0], \"type\": \"box\"}, {\"name\": \"Timberland\", \"y\": [74.0, 34.0], \"type\": \"box\"}, {\"name\": \"Osh Kosh B'gosh\", \"y\": [6.0, 8.0], \"type\": \"box\"}, {\"name\": \"Mary Kay\", \"y\": [8.0, 8.0, 14.0], \"type\": \"box\"}, {\"name\": \"Lululemon\", \"y\": [44.0, 38.0, 42.0, 80.0, 10.0, 71.0, 72.0, 33.0], \"type\": \"box\"}, {\"name\": \"Converse\", \"y\": [18.0, 41.0, 16.0, 22.0], \"type\": \"box\"}], {\"title\": \"Brand vs Price box plot\", \"yaxis\": {\"title\": \"Price\", \"ticklen\": 5, \"gridwidth\": 2}, \"xaxis\": {\"title\": \"Brand Name\", \"zeroline\": false, \"ticklen\": 5, \"gridwidth\": 2}, \"hovermode\": \"closest\", \"showlegend\": false}, {\"linkText\": \"Export to plot.ly\", \"showLink\": true})});</script>"
      ],
      "text/vnd.plotly.v1+html": [
       "<div id=\"abf3d759-40b5-41c8-9a2b-e093289453f6\" style=\"height: 525px; width: 100%;\" class=\"plotly-graph-div\"></div><script type=\"text/javascript\">require([\"plotly\"], function(Plotly) { window.PLOTLYENV=window.PLOTLYENV || {};window.PLOTLYENV.BASE_URL=\"https://plot.ly\";Plotly.newPlot(\"abf3d759-40b5-41c8-9a2b-e093289453f6\", [{\"name\": \"Younique\", \"y\": [14.0, 16.0, 25.0], \"type\": \"box\"}, {\"name\": \"Too Faced\", \"y\": [25.0, 32.0, 10.0, 7.0, 9.0, 17.0, 8.0, 32.0, 18.0], \"type\": \"box\"}, {\"name\": \"Charlotte Russe\", \"y\": [9.0], \"type\": \"box\"}, {\"name\": \"MAC\", \"y\": [12.0], \"type\": \"box\"}, {\"name\": \"Wildfox Couture\", \"y\": [73.0, 116.0], \"type\": \"box\"}, {\"name\": \"Timberland\", \"y\": [74.0, 34.0], \"type\": \"box\"}, {\"name\": \"Osh Kosh B'gosh\", \"y\": [6.0, 8.0], \"type\": \"box\"}, {\"name\": \"Mary Kay\", \"y\": [8.0, 8.0, 14.0], \"type\": \"box\"}, {\"name\": \"Lululemon\", \"y\": [44.0, 38.0, 42.0, 80.0, 10.0, 71.0, 72.0, 33.0], \"type\": \"box\"}, {\"name\": \"Converse\", \"y\": [18.0, 41.0, 16.0, 22.0], \"type\": \"box\"}], {\"title\": \"Brand vs Price box plot\", \"yaxis\": {\"title\": \"Price\", \"ticklen\": 5, \"gridwidth\": 2}, \"xaxis\": {\"title\": \"Brand Name\", \"zeroline\": false, \"ticklen\": 5, \"gridwidth\": 2}, \"hovermode\": \"closest\", \"showlegend\": false}, {\"linkText\": \"Export to plot.ly\", \"showLink\": true})});</script>"
      ]
     },
     "metadata": {},
     "output_type": "display_data"
    }
   ],
   "source": [
    "brand_price = defaultdict(list)\n",
    "for brand, price in zip(df.brand_name[:nrow_train], df.price[:nrow_train]):\n",
    "    brand_price[brand].append(price)\n",
    "\n",
    "fig = helper.brand_box_plot(brand_price, show=50)\n",
    "iplot(fig)"
   ]
  },
  {
   "cell_type": "code",
   "execution_count": 20,
   "metadata": {
    "collapsed": true
   },
   "outputs": [],
   "source": [
    "brand_price_median_dict = defaultdict(int)\n",
    "for brand, price in brand_price.items():\n",
    "    brand_price_median_dict[brand] = helper.median(price)\n",
    "    \n",
    "brand_price_median = helper.brand_dict2Series(brand_price_median_dict)"
   ]
  },
  {
   "cell_type": "code",
   "execution_count": 21,
   "metadata": {},
   "outputs": [
    {
     "data": {
      "application/vnd.plotly.v1+json": {
       "data": [
        {
         "mode": "markers",
         "type": "scatter",
         "x": [
          "Air Jordan",
          "Samsung",
          "Burberry",
          "Tiffany & Co.",
          "Gucci",
          "Tory Burch",
          "Spin Master",
          "Wildfox Couture",
          "Michael Kors",
          "Kendra Scott",
          "UGG Australia",
          "Lilly Pulitzer",
          "Timberland",
          "Kate Spade",
          "patagonia",
          "Lululemon",
          "lululemon athletica",
          "Coach",
          "Fossil",
          "Independent",
          "Fisher-Price",
          "GUESS",
          "Adidas",
          "Bebe",
          "Xbox",
          "The North Face",
          "LuLaRoe",
          "Polo Ralph Lauren",
          "Rae Dunn",
          "PANDORA",
          "Louis Vuitton",
          "Columbia",
          "Carter's",
          "ASICS",
          "Chanel",
          "Steve Madden",
          "Scentsy",
          "Funko",
          "Free People",
          "Vera Bradley",
          "Brandy Melville",
          "SeneGence",
          "Marvel",
          "American Boy & Girl",
          "American Eagle",
          "Apple",
          "Estee Lauder",
          "Miss Me",
          "Converse",
          "Nike"
         ],
         "y": [
          250,
          196.5,
          155,
          129,
          120,
          103.5,
          101,
          94.5,
          67.5,
          59,
          56,
          54,
          54,
          53,
          48,
          43,
          40,
          39.5,
          36,
          35,
          34,
          31.5,
          31.5,
          31,
          29.5,
          29,
          28,
          28,
          27.5,
          27.5,
          27,
          27,
          26.5,
          26,
          25.5,
          25,
          25,
          24.5,
          24,
          22.5,
          22.5,
          22,
          22,
          22,
          21.5,
          21.5,
          21,
          20.5,
          20,
          20
         ]
        }
       ],
       "layout": {
        "hovermode": "closest",
        "showlegend": false,
        "title": "Top 50 Expensive Brand",
        "xaxis": {
         "gridwidth": 2,
         "ticklen": 5,
         "title": "Brand Name",
         "zeroline": false
        },
        "yaxis": {
         "gridwidth": 2,
         "ticklen": 5,
         "title": "Median Price"
        }
       }
      },
      "text/html": [
       "<div id=\"5971f86b-a7e5-4fcd-909c-808d99e6fa9c\" style=\"height: 525px; width: 100%;\" class=\"plotly-graph-div\"></div><script type=\"text/javascript\">require([\"plotly\"], function(Plotly) { window.PLOTLYENV=window.PLOTLYENV || {};window.PLOTLYENV.BASE_URL=\"https://plot.ly\";Plotly.newPlot(\"5971f86b-a7e5-4fcd-909c-808d99e6fa9c\", [{\"mode\": \"markers\", \"y\": [250.0, 196.5, 155.0, 129.0, 120.0, 103.5, 101.0, 94.5, 67.5, 59.0, 56.0, 54.0, 54.0, 53.0, 48.0, 43.0, 40.0, 39.5, 36.0, 35.0, 34.0, 31.5, 31.5, 31.0, 29.5, 29.0, 28.0, 28.0, 27.5, 27.5, 27.0, 27.0, 26.5, 26.0, 25.5, 25.0, 25.0, 24.5, 24.0, 22.5, 22.5, 22.0, 22.0, 22.0, 21.5, 21.5, 21.0, 20.5, 20.0, 20.0], \"x\": [\"Air Jordan\", \"Samsung\", \"Burberry\", \"Tiffany & Co.\", \"Gucci\", \"Tory Burch\", \"Spin Master\", \"Wildfox Couture\", \"Michael Kors\", \"Kendra Scott\", \"UGG Australia\", \"Lilly Pulitzer\", \"Timberland\", \"Kate Spade\", \"patagonia\", \"Lululemon\", \"lululemon athletica\", \"Coach\", \"Fossil\", \"Independent\", \"Fisher-Price\", \"GUESS\", \"Adidas\", \"Bebe\", \"Xbox\", \"The North Face\", \"LuLaRoe\", \"Polo Ralph Lauren\", \"Rae Dunn\", \"PANDORA\", \"Louis Vuitton\", \"Columbia\", \"Carter's\", \"ASICS\", \"Chanel\", \"Steve Madden\", \"Scentsy\", \"Funko\", \"Free People\", \"Vera Bradley\", \"Brandy Melville\", \"SeneGence\", \"Marvel\", \"American Boy & Girl\", \"American Eagle\", \"Apple\", \"Estee Lauder\", \"Miss Me\", \"Converse\", \"Nike\"], \"type\": \"scatter\"}], {\"title\": \"Top 50 Expensive Brand\", \"yaxis\": {\"title\": \"Median Price\", \"ticklen\": 5, \"gridwidth\": 2}, \"xaxis\": {\"title\": \"Brand Name\", \"zeroline\": false, \"ticklen\": 5, \"gridwidth\": 2}, \"hovermode\": \"closest\", \"showlegend\": false}, {\"linkText\": \"Export to plot.ly\", \"showLink\": true})});</script>"
      ],
      "text/vnd.plotly.v1+html": [
       "<div id=\"5971f86b-a7e5-4fcd-909c-808d99e6fa9c\" style=\"height: 525px; width: 100%;\" class=\"plotly-graph-div\"></div><script type=\"text/javascript\">require([\"plotly\"], function(Plotly) { window.PLOTLYENV=window.PLOTLYENV || {};window.PLOTLYENV.BASE_URL=\"https://plot.ly\";Plotly.newPlot(\"5971f86b-a7e5-4fcd-909c-808d99e6fa9c\", [{\"mode\": \"markers\", \"y\": [250.0, 196.5, 155.0, 129.0, 120.0, 103.5, 101.0, 94.5, 67.5, 59.0, 56.0, 54.0, 54.0, 53.0, 48.0, 43.0, 40.0, 39.5, 36.0, 35.0, 34.0, 31.5, 31.5, 31.0, 29.5, 29.0, 28.0, 28.0, 27.5, 27.5, 27.0, 27.0, 26.5, 26.0, 25.5, 25.0, 25.0, 24.5, 24.0, 22.5, 22.5, 22.0, 22.0, 22.0, 21.5, 21.5, 21.0, 20.5, 20.0, 20.0], \"x\": [\"Air Jordan\", \"Samsung\", \"Burberry\", \"Tiffany & Co.\", \"Gucci\", \"Tory Burch\", \"Spin Master\", \"Wildfox Couture\", \"Michael Kors\", \"Kendra Scott\", \"UGG Australia\", \"Lilly Pulitzer\", \"Timberland\", \"Kate Spade\", \"patagonia\", \"Lululemon\", \"lululemon athletica\", \"Coach\", \"Fossil\", \"Independent\", \"Fisher-Price\", \"GUESS\", \"Adidas\", \"Bebe\", \"Xbox\", \"The North Face\", \"LuLaRoe\", \"Polo Ralph Lauren\", \"Rae Dunn\", \"PANDORA\", \"Louis Vuitton\", \"Columbia\", \"Carter's\", \"ASICS\", \"Chanel\", \"Steve Madden\", \"Scentsy\", \"Funko\", \"Free People\", \"Vera Bradley\", \"Brandy Melville\", \"SeneGence\", \"Marvel\", \"American Boy & Girl\", \"American Eagle\", \"Apple\", \"Estee Lauder\", \"Miss Me\", \"Converse\", \"Nike\"], \"type\": \"scatter\"}], {\"title\": \"Top 50 Expensive Brand\", \"yaxis\": {\"title\": \"Median Price\", \"ticklen\": 5, \"gridwidth\": 2}, \"xaxis\": {\"title\": \"Brand Name\", \"zeroline\": false, \"ticklen\": 5, \"gridwidth\": 2}, \"hovermode\": \"closest\", \"showlegend\": false}, {\"linkText\": \"Export to plot.ly\", \"showLink\": true})});</script>"
      ]
     },
     "metadata": {},
     "output_type": "display_data"
    }
   ],
   "source": [
    "fig = helper.brand_median_price_plot(brand_price_median, top_n=50)\n",
    "iplot(fig)"
   ]
  },
  {
   "cell_type": "markdown",
   "metadata": {
    "collapsed": true
   },
   "source": [
    "### Category Name"
   ]
  },
  {
   "cell_type": "code",
   "execution_count": 22,
   "metadata": {},
   "outputs": [
    {
     "name": "stdout",
     "output_type": "stream",
     "text": [
      "Category Encoders\n",
      "Convert 'category_name' to sparse matrix (token frequency)\n",
      "\n",
      "There are 368 uniq categories.\n",
      "Shape=(1998, 437)\n"
     ]
    }
   ],
   "source": [
    "print(\"Category Encoders\")\n",
    "print(\"Convert 'category_name' to sparse matrix (token frequency)\\n\")\n",
    "unique_categories = pd.Series(\"/\".join(df[\"category_name\"].unique().astype(\"str\")).split(\"/\")).unique()\n",
    "count_category = CountVectorizer()\n",
    "X_category = count_category.fit_transform(df[\"category_name\"])\n",
    "X_category_name = count_category.get_feature_names()\n",
    "\n",
    "print(\"There are {} uniq categories.\".format(len(unique_categories)))\n",
    "print(\"Shape={}\".format(X_category.toarray().shape))\n"
   ]
  },
  {
   "cell_type": "code",
   "execution_count": 23,
   "metadata": {},
   "outputs": [
    {
     "data": {
      "text/plain": [
       "women          1017\n",
       "beauty          299\n",
       "accessories     255\n",
       "makeup          243\n",
       "kids            240\n",
       "dtype: int64"
      ]
     },
     "execution_count": 23,
     "metadata": {},
     "output_type": "execute_result"
    }
   ],
   "source": [
    "category_num = Series(np.sum(X_category.toarray(), axis=0), index=X_category_name)\n",
    "category_num.sort_values(ascending=False)[:5]"
   ]
  },
  {
   "cell_type": "markdown",
   "metadata": {
    "collapsed": true
   },
   "source": [
    "<br><br><br><br>\n",
    "## Get Features\n",
    "* `train_id` or `test_id` - the id of the listing <br>\n",
    "* `name` - the title of the listing. \n",
    "Note that we have cleaned the data to remove text that look like prices (e.g. \\$20) to avoid leakage. These removed prices are represented as [rm] <br>\n",
    "* `item_condition_id` - the condition of the items provided by the seller <br>\n",
    "* `category_name` - category of the listing <br>\n",
    "* `brand_name` <br>\n",
    "* `price` - the price that the item was sold for. This is the target variable that you will predict. The unit is USD. This column doesn't exist in test.tsv since that is what you will predict. <br>\n",
    "* `shipping` - 1 if shipping fee is paid by seller and 0 by buyer <br>\n",
    "* `item_description` - the full description of the item. Note that we have cleaned the data to remove text that look like prices (e.g. \\$20) to avoid leakage. These removed prices are represented as [rm]"
   ]
  },
  {
   "cell_type": "code",
   "execution_count": 24,
   "metadata": {},
   "outputs": [
    {
     "data": {
      "text/html": [
       "<div>\n",
       "<style>\n",
       "    .dataframe thead tr:only-child th {\n",
       "        text-align: right;\n",
       "    }\n",
       "\n",
       "    .dataframe thead th {\n",
       "        text-align: left;\n",
       "    }\n",
       "\n",
       "    .dataframe tbody tr th {\n",
       "        vertical-align: top;\n",
       "    }\n",
       "</style>\n",
       "<table border=\"1\" class=\"dataframe\">\n",
       "  <thead>\n",
       "    <tr style=\"text-align: right;\">\n",
       "      <th></th>\n",
       "      <th>brand_name</th>\n",
       "      <th>category_name</th>\n",
       "      <th>item_condition_id</th>\n",
       "      <th>item_description</th>\n",
       "      <th>name</th>\n",
       "      <th>price</th>\n",
       "      <th>shipping</th>\n",
       "      <th>test_id</th>\n",
       "      <th>train_id</th>\n",
       "    </tr>\n",
       "  </thead>\n",
       "  <tbody>\n",
       "    <tr>\n",
       "      <th>0</th>\n",
       "      <td>unknown</td>\n",
       "      <td>Men/Tops/T-shirts</td>\n",
       "      <td>3</td>\n",
       "      <td>No description yet</td>\n",
       "      <td>MLB Cincinnati Reds T Shirt Size XL</td>\n",
       "      <td>10.0</td>\n",
       "      <td>1</td>\n",
       "      <td>NaN</td>\n",
       "      <td>0.0</td>\n",
       "    </tr>\n",
       "    <tr>\n",
       "      <th>1</th>\n",
       "      <td>Other</td>\n",
       "      <td>Electronics/Computers &amp; Tablets/Components &amp; P...</td>\n",
       "      <td>3</td>\n",
       "      <td>This keyboard is in great condition and works ...</td>\n",
       "      <td>Razer BlackWidow Chroma Keyboard</td>\n",
       "      <td>52.0</td>\n",
       "      <td>0</td>\n",
       "      <td>NaN</td>\n",
       "      <td>1.0</td>\n",
       "    </tr>\n",
       "    <tr>\n",
       "      <th>2</th>\n",
       "      <td>Target</td>\n",
       "      <td>Women/Tops &amp; Blouses/Blouse</td>\n",
       "      <td>1</td>\n",
       "      <td>Adorable top with a hint of lace and a key hol...</td>\n",
       "      <td>AVA-VIV Blouse</td>\n",
       "      <td>10.0</td>\n",
       "      <td>1</td>\n",
       "      <td>NaN</td>\n",
       "      <td>2.0</td>\n",
       "    </tr>\n",
       "  </tbody>\n",
       "</table>\n",
       "</div>"
      ],
      "text/plain": [
       "  brand_name                                      category_name  \\\n",
       "0    unknown                                  Men/Tops/T-shirts   \n",
       "1      Other  Electronics/Computers & Tablets/Components & P...   \n",
       "2     Target                        Women/Tops & Blouses/Blouse   \n",
       "\n",
       "  item_condition_id                                   item_description  \\\n",
       "0                 3                                 No description yet   \n",
       "1                 3  This keyboard is in great condition and works ...   \n",
       "2                 1  Adorable top with a hint of lace and a key hol...   \n",
       "\n",
       "                                  name  price  shipping  test_id  train_id  \n",
       "0  MLB Cincinnati Reds T Shirt Size XL   10.0         1      NaN       0.0  \n",
       "1     Razer BlackWidow Chroma Keyboard   52.0         0      NaN       1.0  \n",
       "2                       AVA-VIV Blouse   10.0         1      NaN       2.0  "
      ]
     },
     "execution_count": 24,
     "metadata": {},
     "output_type": "execute_result"
    }
   ],
   "source": [
    "df.head(3)"
   ]
  },
  {
   "cell_type": "code",
   "execution_count": 25,
   "metadata": {},
   "outputs": [
    {
     "name": "stdout",
     "output_type": "stream",
     "text": [
      "Dummy Encoders\n",
      "Convert 'item_condition_id' + 'shipping' to sparse matrix\n",
      "Shape=(1998, 6)\n"
     ]
    }
   ],
   "source": [
    "print(\"Dummy Encoders\")\n",
    "print(\"Convert 'item_condition_id' + 'shipping' to sparse matrix\")\n",
    "X_dummies = scipy.sparse.csr_matrix(pd.get_dummies(df[[\n",
    "    \"item_condition_id\", \"shipping\"]], sparse = True).values)\n",
    "\n",
    "print(\"Shape={}\".format(X_dummies.toarray().shape))"
   ]
  },
  {
   "cell_type": "code",
   "execution_count": 26,
   "metadata": {},
   "outputs": [
    {
     "name": "stdout",
     "output_type": "stream",
     "text": [
      "[(1998, 6), (1998, 437), (1998, 99)]\n",
      "stacked data shape=(1998, 542)\n"
     ]
    }
   ],
   "source": [
    "X = scipy.sparse.hstack((X_dummies, \n",
    "#                          X_descp,\n",
    "                         X_brand,\n",
    "                         X_category,\n",
    "#                          X_name\n",
    "                        )).tocsr()\n",
    "\n",
    "print([X_dummies.shape, X_category.shape, \n",
    "#        X_name.shape, X_descp.shape, \n",
    "       X_brand.shape])\n",
    "print(\"stacked data shape={}\".format(X.shape))"
   ]
  },
  {
   "cell_type": "markdown",
   "metadata": {},
   "source": [
    "### Features\n",
    "* item_condition_id [one hot]\n",
    "* shipping [one hot]\n",
    "* brand [brand_median_price]"
   ]
  },
  {
   "cell_type": "code",
   "execution_count": 27,
   "metadata": {
    "collapsed": true
   },
   "outputs": [],
   "source": [
    "X_train = X[:nrow_train]\n",
    "X_test = X[nrow_train:]\n",
    "\n",
    "X_train, X_eval, y_train, y_eval = train_test_split(\n",
    "    X_train, Y_train, test_size=0.1, random_state=42)"
   ]
  },
  {
   "cell_type": "code",
   "execution_count": 28,
   "metadata": {},
   "outputs": [
    {
     "name": "stdout",
     "output_type": "stream",
     "text": [
      "train length: 899\n",
      "eval length: 100\n",
      "feature num: 542\n"
     ]
    }
   ],
   "source": [
    "print(\"train length: {}\".format(X_train.shape[0]))\n",
    "print(\"eval length: {}\".format(X_eval.shape[0]))\n",
    "print(\"feature num: {}\".format(X_train.shape[1]))"
   ]
  },
  {
   "cell_type": "code",
   "execution_count": 29,
   "metadata": {
    "collapsed": true
   },
   "outputs": [],
   "source": [
    "train_input_fn = tf.estimator.inputs.numpy_input_fn(\n",
    "    x={\"x\": X_train.toarray().astype('float32')},\n",
    "    y=y_train.as_matrix(),\n",
    "    num_epochs=None,\n",
    "    shuffle=True)"
   ]
  },
  {
   "cell_type": "code",
   "execution_count": 30,
   "metadata": {
    "collapsed": true
   },
   "outputs": [],
   "source": [
    "test_input_fn = tf.estimator.inputs.numpy_input_fn(\n",
    "    x={\"x\": X_eval.toarray().astype('float32')},\n",
    "    y=y_eval.as_matrix(),\n",
    "    num_epochs=1,\n",
    "    shuffle=False)"
   ]
  },
  {
   "cell_type": "code",
   "execution_count": 31,
   "metadata": {
    "collapsed": true
   },
   "outputs": [],
   "source": [
    "some_data = X_eval.toarray().astype('float32')[0:9]\n",
    "\n",
    "predict_input_fn = tf.estimator.inputs.numpy_input_fn(\n",
    "    x={\"x\": some_data},\n",
    "    num_epochs=1,\n",
    "    shuffle=False)"
   ]
  },
  {
   "cell_type": "code",
   "execution_count": 32,
   "metadata": {},
   "outputs": [
    {
     "name": "stdout",
     "output_type": "stream",
     "text": [
      "INFO:tensorflow:Using default config.\n",
      "INFO:tensorflow:Using config: {'_save_checkpoints_steps': None, '_keep_checkpoint_every_n_hours': 10000, '_keep_checkpoint_max': 5, '_model_dir': './checkpoints/', '_session_config': None, '_save_checkpoints_secs': 600, '_tf_random_seed': 1, '_log_step_count_steps': 100, '_save_summary_steps': 100}\n"
     ]
    }
   ],
   "source": [
    "feature_x = tf.feature_column.numeric_column(\"x\", shape=X_train.shape[1])\n",
    "\n",
    "feature_columns = [feature_x]\n",
    "\n",
    "num_hidden_units = [500, 150, 30, 150, 500]\n",
    "\n",
    "model = tf.estimator.DNNRegressor(feature_columns=feature_columns,\n",
    "                                   hidden_units=num_hidden_units,\n",
    "                                   activation_fn=tf.nn.relu,\n",
    "                                   optimizer=tf.train.ProximalAdagradOptimizer(\n",
    "                                             learning_rate=0.1,\n",
    "                                             l1_regularization_strength=0.001),\n",
    "                                   model_dir=\"./checkpoints/\")\n"
   ]
  },
  {
   "cell_type": "code",
   "execution_count": 33,
   "metadata": {},
   "outputs": [
    {
     "name": "stdout",
     "output_type": "stream",
     "text": [
      "INFO:tensorflow:Create CheckpointSaverHook.\n",
      "INFO:tensorflow:Restoring parameters from ./checkpoints/model.ckpt-1\n",
      "INFO:tensorflow:Saving checkpoints for 2 into ./checkpoints/model.ckpt.\n",
      "INFO:tensorflow:loss = 1.00464e+08, step = 2\n",
      "INFO:tensorflow:global_step/sec: 42.4881\n",
      "INFO:tensorflow:loss = 40.0438, step = 102 (2.351 sec)\n",
      "INFO:tensorflow:global_step/sec: 50.3466\n",
      "INFO:tensorflow:loss = 46.0241, step = 202 (1.986 sec)\n",
      "INFO:tensorflow:global_step/sec: 51.1009\n",
      "INFO:tensorflow:loss = 39.4094, step = 302 (1.958 sec)\n",
      "INFO:tensorflow:global_step/sec: 51.7713\n",
      "INFO:tensorflow:loss = 27.0036, step = 402 (1.931 sec)\n",
      "INFO:tensorflow:global_step/sec: 49.6123\n",
      "INFO:tensorflow:loss = 27.8458, step = 502 (2.017 sec)\n",
      "INFO:tensorflow:global_step/sec: 42.1102\n",
      "INFO:tensorflow:loss = 37.0075, step = 602 (2.375 sec)\n",
      "INFO:tensorflow:global_step/sec: 48.6181\n",
      "INFO:tensorflow:loss = 28.3169, step = 702 (2.056 sec)\n",
      "INFO:tensorflow:global_step/sec: 50.6124\n",
      "INFO:tensorflow:loss = 30.3081, step = 802 (1.976 sec)\n",
      "INFO:tensorflow:global_step/sec: 51.7812\n",
      "INFO:tensorflow:loss = 16.3293, step = 902 (1.931 sec)\n",
      "INFO:tensorflow:global_step/sec: 51.2921\n",
      "INFO:tensorflow:loss = 16.7851, step = 1002 (1.949 sec)\n",
      "INFO:tensorflow:global_step/sec: 37.7702\n",
      "INFO:tensorflow:loss = 11.0884, step = 1102 (2.653 sec)\n",
      "INFO:tensorflow:global_step/sec: 40.8125\n",
      "INFO:tensorflow:loss = 15.8378, step = 1202 (2.445 sec)\n",
      "INFO:tensorflow:global_step/sec: 43.9272\n",
      "INFO:tensorflow:loss = 17.7998, step = 1302 (2.277 sec)\n",
      "INFO:tensorflow:global_step/sec: 50.9445\n",
      "INFO:tensorflow:loss = 14.568, step = 1402 (1.964 sec)\n",
      "INFO:tensorflow:global_step/sec: 41.6673\n",
      "INFO:tensorflow:loss = 10.9339, step = 1502 (2.399 sec)\n",
      "INFO:tensorflow:global_step/sec: 51.0016\n",
      "INFO:tensorflow:loss = 11.6248, step = 1602 (1.961 sec)\n",
      "INFO:tensorflow:global_step/sec: 50.6206\n",
      "INFO:tensorflow:loss = 16.7755, step = 1702 (1.976 sec)\n",
      "INFO:tensorflow:global_step/sec: 51.4151\n",
      "INFO:tensorflow:loss = 8.0886, step = 1802 (1.947 sec)\n",
      "INFO:tensorflow:global_step/sec: 47.9742\n",
      "INFO:tensorflow:loss = 13.8961, step = 1902 (2.085 sec)\n",
      "INFO:tensorflow:Saving checkpoints for 2001 into ./checkpoints/model.ckpt.\n",
      "INFO:tensorflow:Loss for final step: 11.4107.\n"
     ]
    },
    {
     "data": {
      "text/plain": [
       "<tensorflow.python.estimator.canned.dnn.DNNRegressor at 0x1145142b0>"
      ]
     },
     "execution_count": 33,
     "metadata": {},
     "output_type": "execute_result"
    }
   ],
   "source": [
    "model.train(input_fn=train_input_fn, steps=2000)"
   ]
  },
  {
   "cell_type": "code",
   "execution_count": 34,
   "metadata": {},
   "outputs": [
    {
     "name": "stdout",
     "output_type": "stream",
     "text": [
      "INFO:tensorflow:Starting evaluation at 2017-12-27-07:21:35\n",
      "INFO:tensorflow:Restoring parameters from ./checkpoints/model.ckpt-2001\n",
      "INFO:tensorflow:Finished evaluation at 2017-12-27-07:21:36\n",
      "INFO:tensorflow:Saving dict for global step 2001: average_loss = 0.662033, global_step = 2001, loss = 66.2033\n"
     ]
    }
   ],
   "source": [
    "result = model.evaluate(input_fn=test_input_fn)"
   ]
  },
  {
   "cell_type": "code",
   "execution_count": 35,
   "metadata": {},
   "outputs": [
    {
     "data": {
      "text/plain": [
       "{'average_loss': 0.66203254, 'global_step': 2001, 'loss': 66.203255}"
      ]
     },
     "execution_count": 35,
     "metadata": {},
     "output_type": "execute_result"
    }
   ],
   "source": [
    "result"
   ]
  },
  {
   "cell_type": "code",
   "execution_count": 36,
   "metadata": {},
   "outputs": [
    {
     "name": "stdout",
     "output_type": "stream",
     "text": [
      "INFO:tensorflow:Restoring parameters from ./checkpoints/model.ckpt-2001\n"
     ]
    }
   ],
   "source": [
    "predictions = model.predict(input_fn=predict_input_fn)\n",
    "pred = [p['predictions'] for p in predictions]"
   ]
  },
  {
   "cell_type": "code",
   "execution_count": 37,
   "metadata": {},
   "outputs": [
    {
     "name": "stdout",
     "output_type": "stream",
     "text": [
      "Predict Result: [ 2.36693668  3.45942354  2.07017469  2.91663551  2.17051601  2.57548714\n",
      "  3.26810431  3.04421496  2.21586704]\n",
      "\n",
      "Real: [2.5649493574615367, 2.3978952727983707, 3.1354942159291497, 1.9459101490553132, 2.8903717578961645, 2.3978952727983707, 2.8332133440562162, 3.5553480614894135, 1.9459101490553132]\n"
     ]
    }
   ],
   "source": [
    "pred = np.array(pred, dtype='float32').squeeze()\n",
    "print(\"Predict Result: {}\\n\".format(pred))\n",
    "print(\"Real: {}\".format(list(y_eval[0:9])))"
   ]
  },
  {
   "cell_type": "markdown",
   "metadata": {},
   "source": [
    "<br>\n",
    "### Test"
   ]
  },
  {
   "cell_type": "code",
   "execution_count": 38,
   "metadata": {},
   "outputs": [
    {
     "name": "stdout",
     "output_type": "stream",
     "text": [
      "X_test.shape = (999, 542)\n"
     ]
    },
    {
     "data": {
      "text/plain": [
       "array([[ 1.,  1.,  0., ...,  0.,  0.,  0.],\n",
       "       [ 1.,  1.,  0., ...,  0.,  0.,  0.],\n",
       "       [ 1.,  1.,  0., ...,  0.,  0.,  0.],\n",
       "       ..., \n",
       "       [ 0.,  0.,  1., ...,  0.,  0.,  0.],\n",
       "       [ 0.,  0.,  1., ...,  0.,  0.,  0.],\n",
       "       [ 1.,  1.,  0., ...,  0.,  0.,  0.]], dtype=float32)"
      ]
     },
     "execution_count": 38,
     "metadata": {},
     "output_type": "execute_result"
    }
   ],
   "source": [
    "print(\"X_test.shape = {}\".format(X_test.shape))\n",
    "X_test.toarray().astype('float32')"
   ]
  },
  {
   "cell_type": "code",
   "execution_count": 39,
   "metadata": {
    "collapsed": true
   },
   "outputs": [],
   "source": [
    "predict_input_fn = tf.estimator.inputs.numpy_input_fn(\n",
    "    x={\"x\": X_test.toarray().astype('float32')},\n",
    "    num_epochs=1,\n",
    "    shuffle=False)"
   ]
  },
  {
   "cell_type": "code",
   "execution_count": 40,
   "metadata": {},
   "outputs": [
    {
     "name": "stdout",
     "output_type": "stream",
     "text": [
      "INFO:tensorflow:Restoring parameters from ./checkpoints/model.ckpt-2001\n"
     ]
    }
   ],
   "source": [
    "predictions = model.predict(input_fn=predict_input_fn)\n",
    "pred = [p['predictions'] for p in predictions]\n",
    "pred_result = np.array(pred, dtype='float32').squeeze()"
   ]
  },
  {
   "cell_type": "code",
   "execution_count": 41,
   "metadata": {
    "collapsed": true
   },
   "outputs": [],
   "source": [
    "test[\"price\"] = np.expm1(pred_result)\n",
    "test[[\"test_id\", \"price\"]].to_csv(\"dnn_result.csv\", index = False)"
   ]
  },
  {
   "cell_type": "code",
   "execution_count": 42,
   "metadata": {},
   "outputs": [
    {
     "data": {
      "text/html": [
       "<div>\n",
       "<style>\n",
       "    .dataframe thead tr:only-child th {\n",
       "        text-align: right;\n",
       "    }\n",
       "\n",
       "    .dataframe thead th {\n",
       "        text-align: left;\n",
       "    }\n",
       "\n",
       "    .dataframe tbody tr th {\n",
       "        vertical-align: top;\n",
       "    }\n",
       "</style>\n",
       "<table border=\"1\" class=\"dataframe\">\n",
       "  <thead>\n",
       "    <tr style=\"text-align: right;\">\n",
       "      <th></th>\n",
       "      <th>test_id</th>\n",
       "      <th>price</th>\n",
       "    </tr>\n",
       "  </thead>\n",
       "  <tbody>\n",
       "    <tr>\n",
       "      <th>0</th>\n",
       "      <td>0</td>\n",
       "      <td>8.460262</td>\n",
       "    </tr>\n",
       "    <tr>\n",
       "      <th>1</th>\n",
       "      <td>1</td>\n",
       "      <td>2.238732</td>\n",
       "    </tr>\n",
       "    <tr>\n",
       "      <th>2</th>\n",
       "      <td>2</td>\n",
       "      <td>127.070396</td>\n",
       "    </tr>\n",
       "    <tr>\n",
       "      <th>3</th>\n",
       "      <td>3</td>\n",
       "      <td>17.638468</td>\n",
       "    </tr>\n",
       "    <tr>\n",
       "      <th>4</th>\n",
       "      <td>4</td>\n",
       "      <td>13.075456</td>\n",
       "    </tr>\n",
       "  </tbody>\n",
       "</table>\n",
       "</div>"
      ],
      "text/plain": [
       "   test_id       price\n",
       "0        0    8.460262\n",
       "1        1    2.238732\n",
       "2        2  127.070396\n",
       "3        3   17.638468\n",
       "4        4   13.075456"
      ]
     },
     "execution_count": 42,
     "metadata": {},
     "output_type": "execute_result"
    }
   ],
   "source": [
    "test[[\"test_id\", \"price\"]].head(5)"
   ]
  },
  {
   "cell_type": "code",
   "execution_count": null,
   "metadata": {
    "collapsed": true
   },
   "outputs": [],
   "source": []
  }
 ],
 "metadata": {
  "kernelspec": {
   "display_name": "Python 3",
   "language": "python",
   "name": "python3"
  },
  "language_info": {
   "codemirror_mode": {
    "name": "ipython",
    "version": 3
   },
   "file_extension": ".py",
   "mimetype": "text/x-python",
   "name": "python",
   "nbconvert_exporter": "python",
   "pygments_lexer": "ipython3",
   "version": "3.5.2"
  }
 },
 "nbformat": 4,
 "nbformat_minor": 2
}
