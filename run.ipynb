{
 "cells": [
  {
   "cell_type": "markdown",
   "metadata": {},
   "source": [
    "# Mercari Price Suggestion Challenge\n",
    "* url: https://www.kaggle.com/c/mercari-price-suggestion-challenge\n",
    "\n",
    "* tensorflow ref: https://github.com/tensorflow/tensorflow/blob/r1.4/tensorflow/examples/learn/wide_n_deep_tutorial.py"
   ]
  },
  {
   "cell_type": "markdown",
   "metadata": {},
   "source": [
    "### import module"
   ]
  },
  {
   "cell_type": "code",
   "execution_count": null,
   "metadata": {},
   "outputs": [],
   "source": [
    "import pandas as pd\n",
    "import numpy as np\n",
    "from pandas import DataFrame, Series\n",
    "from collections import Counter, defaultdict\n",
    "import tensorflow as tf\n",
    "from sklearn.model_selection import train_test_split, cross_val_score\n",
    "from sklearn.feature_extraction.text import CountVectorizer, TfidfVectorizer\n",
    "from sklearn.preprocessing import LabelBinarizer\n",
    "import scipy\n",
    "\n",
    "import gc\n",
    "\n",
    "import matplotlib\n",
    "%matplotlib inline\n",
    "import matplotlib.pyplot as plt\n",
    "matplotlib.style.use('ggplot')\n",
    "import seaborn as sns\n",
    "\n",
    "import plotly.graph_objs as go\n",
    "from plotly.offline import init_notebook_mode, iplot\n",
    "init_notebook_mode(connected=True)\n",
    "\n",
    "import helper_function as helper"
   ]
  },
  {
   "cell_type": "code",
   "execution_count": null,
   "metadata": {
    "collapsed": true
   },
   "outputs": [],
   "source": [
    "train = pd.read_csv('sample_data/train.tsv', sep='\\t')\n",
    "test = pd.read_csv('sample_data/test.tsv', sep='\\t')\n",
    "submission = pd.read_csv('sample_data/sample_submission.csv', sep=',')"
   ]
  },
  {
   "cell_type": "code",
   "execution_count": 16,
   "metadata": {},
   "outputs": [],
   "source": [
    "# train = pd.read_csv('data/train.tsv', sep='\\t')\n",
    "# test = pd.read_csv('data/test.tsv', sep='\\t')"
   ]
  },
  {
   "cell_type": "markdown",
   "metadata": {},
   "source": [
    "### Data Preprocessing"
   ]
  },
  {
   "cell_type": "code",
   "execution_count": 4,
   "metadata": {
    "collapsed": true
   },
   "outputs": [],
   "source": [
    "BrandMinNum = 2\n",
    "NUM_BRANDS = 250"
   ]
  },
  {
   "cell_type": "code",
   "execution_count": 5,
   "metadata": {},
   "outputs": [
    {
     "name": "stdout",
     "output_type": "stream",
     "text": [
      "Index                 15984\n",
      "brand_name           103607\n",
      "category_name        174313\n",
      "item_condition_id     15984\n",
      "item_description     459804\n",
      "name                 167342\n",
      "price                 15984\n",
      "shipping              15984\n",
      "test_id               15984\n",
      "train_id              15984\n",
      "dtype: int64\n"
     ]
    }
   ],
   "source": [
    "df = pd.concat([train, test], 0)\n",
    "nrow_train = train.shape[0]\n",
    "Y_train = np.log1p(train[\"price\"])\n",
    "\n",
    "del train\n",
    "gc.collect() # release usage memory (df_train)\n",
    "\n",
    "print(df.memory_usage(deep = True))"
   ]
  },
  {
   "cell_type": "code",
   "execution_count": 6,
   "metadata": {},
   "outputs": [
    {
     "name": "stdout",
     "output_type": "stream",
     "text": [
      "Index                 15984\n",
      "brand_name           135849\n",
      "category_name        174691\n",
      "item_condition_id     15984\n",
      "item_description     459804\n",
      "name                 167342\n",
      "price                 15984\n",
      "shipping              15984\n",
      "test_id               15984\n",
      "train_id              15984\n",
      "dtype: int64\n"
     ]
    }
   ],
   "source": [
    "df[\"category_name\"] = df[\"category_name\"].fillna(\"Other\")#.astype(\"category\")\n",
    "df[\"brand_name\"] = df[\"brand_name\"].fillna(\"unknown\")\n",
    "\n",
    "# pop_brands = df[\"brand_name\"].value_counts().index[:NUM_BRANDS]\n",
    "brand_count = df[\"brand_name\"].value_counts()\n",
    "pop_brands = brand_count[brand_count > BrandMinNum].index\n",
    "df.loc[~df[\"brand_name\"].isin(pop_brands), \"brand_name\"] = \"Other\"\n",
    "\n",
    "df[\"item_description\"] = df[\"item_description\"].fillna(\"None\")\n",
    "df[\"item_condition_id\"] = df[\"item_condition_id\"]#.astype(\"category\")\n",
    "df[\"brand_name\"] = df[\"brand_name\"]#.astype(\"category\")\n",
    "\n",
    "print(df.memory_usage(deep = True))"
   ]
  },
  {
   "cell_type": "markdown",
   "metadata": {},
   "source": [
    "### Tensorflow"
   ]
  },
  {
   "cell_type": "code",
   "execution_count": 7,
   "metadata": {},
   "outputs": [],
   "source": [
    "X_train = df[:nrow_train]\n",
    "X_test = df[nrow_train:]\n",
    "\n",
    "X_train, X_eval, y_train, y_eval = train_test_split(\n",
    "    X_train, Y_train, test_size=0.1, random_state=42)"
   ]
  },
  {
   "cell_type": "code",
   "execution_count": 8,
   "metadata": {},
   "outputs": [
    {
     "data": {
      "text/html": [
       "<div>\n",
       "<style>\n",
       "    .dataframe thead tr:only-child th {\n",
       "        text-align: right;\n",
       "    }\n",
       "\n",
       "    .dataframe thead th {\n",
       "        text-align: left;\n",
       "    }\n",
       "\n",
       "    .dataframe tbody tr th {\n",
       "        vertical-align: top;\n",
       "    }\n",
       "</style>\n",
       "<table border=\"1\" class=\"dataframe\">\n",
       "  <thead>\n",
       "    <tr style=\"text-align: right;\">\n",
       "      <th></th>\n",
       "      <th>brand_name</th>\n",
       "      <th>category_name</th>\n",
       "      <th>item_condition_id</th>\n",
       "      <th>item_description</th>\n",
       "      <th>name</th>\n",
       "      <th>price</th>\n",
       "      <th>shipping</th>\n",
       "      <th>test_id</th>\n",
       "      <th>train_id</th>\n",
       "    </tr>\n",
       "  </thead>\n",
       "  <tbody>\n",
       "    <tr>\n",
       "      <th>599</th>\n",
       "      <td>unknown</td>\n",
       "      <td>Women/Dresses/Full-Length</td>\n",
       "      <td>2</td>\n",
       "      <td>Super cute its long and sexy got online but by...</td>\n",
       "      <td>Striped Sexy Dress</td>\n",
       "      <td>6.0</td>\n",
       "      <td>1</td>\n",
       "      <td>NaN</td>\n",
       "      <td>599.0</td>\n",
       "    </tr>\n",
       "    <tr>\n",
       "      <th>432</th>\n",
       "      <td>unknown</td>\n",
       "      <td>Men/Tops/T-shirts</td>\n",
       "      <td>3</td>\n",
       "      <td>A black tee with white screen print g and garb...</td>\n",
       "      <td>'Garbage\" tee</td>\n",
       "      <td>7.0</td>\n",
       "      <td>1</td>\n",
       "      <td>NaN</td>\n",
       "      <td>432.0</td>\n",
       "    </tr>\n",
       "    <tr>\n",
       "      <th>221</th>\n",
       "      <td>unknown</td>\n",
       "      <td>Women/Shoes/Sandals</td>\n",
       "      <td>3</td>\n",
       "      <td>Brown faux leather with back zipper. Size 7</td>\n",
       "      <td>Faux leather sandals</td>\n",
       "      <td>12.0</td>\n",
       "      <td>1</td>\n",
       "      <td>NaN</td>\n",
       "      <td>221.0</td>\n",
       "    </tr>\n",
       "  </tbody>\n",
       "</table>\n",
       "</div>"
      ],
      "text/plain": [
       "    brand_name              category_name  item_condition_id  \\\n",
       "599    unknown  Women/Dresses/Full-Length                  2   \n",
       "432    unknown          Men/Tops/T-shirts                  3   \n",
       "221    unknown        Women/Shoes/Sandals                  3   \n",
       "\n",
       "                                      item_description                  name  \\\n",
       "599  Super cute its long and sexy got online but by...    Striped Sexy Dress   \n",
       "432  A black tee with white screen print g and garb...         'Garbage\" tee   \n",
       "221        Brown faux leather with back zipper. Size 7  Faux leather sandals   \n",
       "\n",
       "     price  shipping  test_id  train_id  \n",
       "599    6.0         1      NaN     599.0  \n",
       "432    7.0         1      NaN     432.0  \n",
       "221   12.0         1      NaN     221.0  "
      ]
     },
     "execution_count": 8,
     "metadata": {},
     "output_type": "execute_result"
    }
   ],
   "source": [
    "X_train.head(3)"
   ]
  },
  {
   "cell_type": "code",
   "execution_count": 9,
   "metadata": {},
   "outputs": [],
   "source": [
    "\n",
    "TRAIN_CSV_COLUMNS = [\n",
    "    \"brand_name\", \"item_condition_id\", \n",
    "    #\"item_description\", \"name\", \"category_name\"\n",
    "    #\"price\", \n",
    "    \"shipping\"\n",
    "]\n",
    "\n",
    "brand_name = tf.feature_column.categorical_column_with_vocabulary_list(\n",
    "    \"brand_name\", list(df.brand_name.unique()))\n",
    "item_condition_id = tf.feature_column.categorical_column_with_vocabulary_list(\n",
    "    \"item_condition_id\", list(df.item_condition_id.unique()))\n",
    "shipping = tf.feature_column.categorical_column_with_vocabulary_list(\n",
    "    \"shipping\", list(df.shipping.unique()))\n",
    "\n",
    "feature_columns = [\n",
    "    #tf.feature_column.crossed_column(\n",
    "    #    [item_condition_id, shipping], hash_bucket_size=1000),\n",
    "    tf.feature_column.indicator_column(item_condition_id),\n",
    "    tf.feature_column.indicator_column(shipping),\n",
    "    tf.feature_column.embedding_column(brand_name, dimension=50)]\n",
    "\n",
    "num_hidden_units = [500, 150, 30, 150, 500]\n"
   ]
  },
  {
   "cell_type": "code",
   "execution_count": 27,
   "metadata": {
    "collapsed": true
   },
   "outputs": [],
   "source": [
    "train_input_fn = tf.estimator.inputs.pandas_input_fn(\n",
    "      x=X_train,\n",
    "      y=y_train,\n",
    "      batch_size=128,\n",
    "      num_epochs=None,\n",
    "      shuffle=False,\n",
    "      num_threads=1)\n",
    "\n",
    "eval_input_fn = tf.estimator.inputs.pandas_input_fn(\n",
    "      x=X_eval,\n",
    "      y=y_eval,\n",
    "      num_epochs=1,\n",
    "      shuffle=False,\n",
    "      num_threads=1)\n"
   ]
  },
  {
   "cell_type": "code",
   "execution_count": 12,
   "metadata": {},
   "outputs": [
    {
     "name": "stdout",
     "output_type": "stream",
     "text": [
      "INFO:tensorflow:Using default config.\n",
      "INFO:tensorflow:Using config: {'_session_config': None, '_model_dir': './checkpoints/', '_save_summary_steps': 100, '_log_step_count_steps': 100, '_save_checkpoints_secs': 600, '_keep_checkpoint_max': 5, '_save_checkpoints_steps': None, '_keep_checkpoint_every_n_hours': 10000, '_tf_random_seed': 1}\n"
     ]
    }
   ],
   "source": [
    "model = tf.estimator.DNNRegressor(feature_columns=feature_columns,\n",
    "                                   hidden_units=num_hidden_units,\n",
    "                                   activation_fn=tf.nn.relu,\n",
    "                                   optimizer=tf.train.ProximalAdagradOptimizer(\n",
    "                                             learning_rate=0.1,\n",
    "                                             l1_regularization_strength=0.001),\n",
    "                                   model_dir=\"./checkpoints/\")"
   ]
  },
  {
   "cell_type": "code",
   "execution_count": 13,
   "metadata": {},
   "outputs": [
    {
     "name": "stdout",
     "output_type": "stream",
     "text": [
      "INFO:tensorflow:Create CheckpointSaverHook.\n",
      "INFO:tensorflow:Restoring parameters from ./checkpoints/model.ckpt-2000\n",
      "INFO:tensorflow:Saving checkpoints for 2001 into ./checkpoints/model.ckpt.\n",
      "INFO:tensorflow:step = 2001, loss = 39.4737\n",
      "INFO:tensorflow:global_step/sec: 76.7893\n",
      "INFO:tensorflow:step = 2101, loss = 57.1608 (1.303 sec)\n",
      "INFO:tensorflow:global_step/sec: 81.835\n",
      "INFO:tensorflow:step = 2201, loss = 50.0518 (1.223 sec)\n",
      "INFO:tensorflow:global_step/sec: 82.7162\n",
      "INFO:tensorflow:step = 2301, loss = 51.5346 (1.208 sec)\n",
      "INFO:tensorflow:global_step/sec: 72.7011\n",
      "INFO:tensorflow:step = 2401, loss = 46.8756 (1.376 sec)\n",
      "INFO:tensorflow:global_step/sec: 83.0398\n",
      "INFO:tensorflow:step = 2501, loss = 35.6746 (1.204 sec)\n",
      "INFO:tensorflow:global_step/sec: 62.6844\n",
      "INFO:tensorflow:step = 2601, loss = 57.9133 (1.596 sec)\n",
      "INFO:tensorflow:global_step/sec: 82.1677\n",
      "INFO:tensorflow:step = 2701, loss = 50.2511 (1.216 sec)\n",
      "INFO:tensorflow:global_step/sec: 78.7354\n",
      "INFO:tensorflow:step = 2801, loss = 42.7808 (1.276 sec)\n",
      "INFO:tensorflow:global_step/sec: 74.2463\n",
      "INFO:tensorflow:step = 2901, loss = 37.3662 (1.343 sec)\n",
      "INFO:tensorflow:global_step/sec: 72.7411\n",
      "INFO:tensorflow:step = 3001, loss = 53.3107 (1.378 sec)\n",
      "INFO:tensorflow:global_step/sec: 71.3469\n",
      "INFO:tensorflow:step = 3101, loss = 39.3602 (1.397 sec)\n",
      "INFO:tensorflow:global_step/sec: 67.263\n",
      "INFO:tensorflow:step = 3201, loss = 48.2147 (1.491 sec)\n",
      "INFO:tensorflow:global_step/sec: 50.5552\n",
      "INFO:tensorflow:step = 3301, loss = 39.0534 (1.975 sec)\n",
      "INFO:tensorflow:global_step/sec: 81.2404\n",
      "INFO:tensorflow:step = 3401, loss = 67.1725 (1.228 sec)\n",
      "INFO:tensorflow:global_step/sec: 63.1243\n",
      "INFO:tensorflow:step = 3501, loss = 48.3004 (1.585 sec)\n",
      "INFO:tensorflow:global_step/sec: 73.8497\n",
      "INFO:tensorflow:step = 3601, loss = 44.5226 (1.357 sec)\n",
      "INFO:tensorflow:global_step/sec: 72.4177\n",
      "INFO:tensorflow:step = 3701, loss = 42.8736 (1.379 sec)\n",
      "INFO:tensorflow:global_step/sec: 74.9949\n",
      "INFO:tensorflow:step = 3801, loss = 55.9001 (1.333 sec)\n",
      "INFO:tensorflow:global_step/sec: 74.1596\n",
      "INFO:tensorflow:step = 3901, loss = 49.3301 (1.348 sec)\n",
      "INFO:tensorflow:Saving checkpoints for 4000 into ./checkpoints/model.ckpt.\n",
      "INFO:tensorflow:Loss for final step: 39.3391.\n"
     ]
    },
    {
     "data": {
      "text/plain": [
       "<tensorflow.python.estimator.canned.dnn.DNNRegressor at 0x104831828>"
      ]
     },
     "execution_count": 13,
     "metadata": {},
     "output_type": "execute_result"
    }
   ],
   "source": [
    "model.train(input_fn=train_input_fn, steps=2000)"
   ]
  },
  {
   "cell_type": "code",
   "execution_count": 28,
   "metadata": {},
   "outputs": [
    {
     "name": "stdout",
     "output_type": "stream",
     "text": [
      "INFO:tensorflow:Starting evaluation at 2017-12-27-09:39:55\n",
      "INFO:tensorflow:Restoring parameters from ./checkpoints/model.ckpt-4000\n",
      "INFO:tensorflow:Finished evaluation at 2017-12-27-09:39:56\n",
      "INFO:tensorflow:Saving dict for global step 4000: average_loss = 0.494589, global_step = 4000, loss = 49.4589\n"
     ]
    }
   ],
   "source": [
    "result = model.evaluate(input_fn=eval_input_fn)"
   ]
  },
  {
   "cell_type": "code",
   "execution_count": 29,
   "metadata": {},
   "outputs": [
    {
     "data": {
      "text/plain": [
       "{'average_loss': 0.4945893, 'global_step': 4000, 'loss': 49.458931}"
      ]
     },
     "execution_count": 29,
     "metadata": {},
     "output_type": "execute_result"
    }
   ],
   "source": [
    "result"
   ]
  },
  {
   "cell_type": "code",
   "execution_count": 30,
   "metadata": {},
   "outputs": [],
   "source": [
    "some_data = X_eval[:9]\n",
    "\n",
    "predict_input_fn = tf.estimator.inputs.pandas_input_fn(\n",
    "      x=some_data,\n",
    "      num_epochs=1,\n",
    "      shuffle=False,\n",
    "      num_threads=1)"
   ]
  },
  {
   "cell_type": "code",
   "execution_count": 31,
   "metadata": {},
   "outputs": [
    {
     "name": "stdout",
     "output_type": "stream",
     "text": [
      "INFO:tensorflow:Restoring parameters from ./checkpoints/model.ckpt-4000\n"
     ]
    }
   ],
   "source": [
    "predictions = model.predict(input_fn=predict_input_fn)\n",
    "pred = [p['predictions'] for p in predictions]"
   ]
  },
  {
   "cell_type": "code",
   "execution_count": 32,
   "metadata": {},
   "outputs": [
    {
     "name": "stdout",
     "output_type": "stream",
     "text": [
      "Predict Result: [ 2.97574806  4.24902058  2.83420682  1.93588972  2.19689965  2.5487318\n",
      "  2.90255642  2.9406414   2.72847986]\n",
      "\n",
      "Real: [2.5649493574615367, 2.3978952727983707, 3.1354942159291497, 1.9459101490553132, 2.8903717578961645, 2.3978952727983707, 2.8332133440562162, 3.5553480614894135, 1.9459101490553132]\n"
     ]
    }
   ],
   "source": [
    "pred = np.array(pred, dtype='float32').squeeze()\n",
    "print(\"Predict Result: {}\\n\".format(pred))\n",
    "print(\"Real: {}\".format(list(y_eval[0:9])))"
   ]
  },
  {
   "cell_type": "markdown",
   "metadata": {},
   "source": [
    "<br>\n",
    "### Test"
   ]
  },
  {
   "cell_type": "code",
   "execution_count": 36,
   "metadata": {},
   "outputs": [],
   "source": [
    "predict_input_fn = tf.estimator.inputs.pandas_input_fn(\n",
    "      x=X_test,\n",
    "      num_epochs=1,\n",
    "      shuffle=False,\n",
    "      num_threads=1)"
   ]
  },
  {
   "cell_type": "code",
   "execution_count": 37,
   "metadata": {},
   "outputs": [
    {
     "name": "stdout",
     "output_type": "stream",
     "text": [
      "INFO:tensorflow:Restoring parameters from ./checkpoints/model.ckpt-4000\n"
     ]
    }
   ],
   "source": [
    "predictions = model.predict(input_fn=predict_input_fn)\n",
    "pred = [p['predictions'] for p in predictions]\n",
    "pred_result = np.array(pred, dtype='float32').squeeze()"
   ]
  },
  {
   "cell_type": "code",
   "execution_count": 42,
   "metadata": {},
   "outputs": [],
   "source": [
    "test[\"price\"] = np.expm1(pred_result)\n",
    "test[[\"test_id\", \"price\"]].to_csv(\"dnn_result.csv\", index = False)"
   ]
  },
  {
   "cell_type": "code",
   "execution_count": 43,
   "metadata": {},
   "outputs": [
    {
     "data": {
      "text/html": [
       "<div>\n",
       "<style>\n",
       "    .dataframe thead tr:only-child th {\n",
       "        text-align: right;\n",
       "    }\n",
       "\n",
       "    .dataframe thead th {\n",
       "        text-align: left;\n",
       "    }\n",
       "\n",
       "    .dataframe tbody tr th {\n",
       "        vertical-align: top;\n",
       "    }\n",
       "</style>\n",
       "<table border=\"1\" class=\"dataframe\">\n",
       "  <thead>\n",
       "    <tr style=\"text-align: right;\">\n",
       "      <th></th>\n",
       "      <th>test_id</th>\n",
       "      <th>price</th>\n",
       "    </tr>\n",
       "  </thead>\n",
       "  <tbody>\n",
       "    <tr>\n",
       "      <th>0</th>\n",
       "      <td>0</td>\n",
       "      <td>14.309597</td>\n",
       "    </tr>\n",
       "    <tr>\n",
       "      <th>1</th>\n",
       "      <td>1</td>\n",
       "      <td>14.309597</td>\n",
       "    </tr>\n",
       "    <tr>\n",
       "      <th>2</th>\n",
       "      <td>2</td>\n",
       "      <td>58.838428</td>\n",
       "    </tr>\n",
       "    <tr>\n",
       "      <th>3</th>\n",
       "      <td>3</td>\n",
       "      <td>17.220665</td>\n",
       "    </tr>\n",
       "    <tr>\n",
       "      <th>4</th>\n",
       "      <td>4</td>\n",
       "      <td>11.790873</td>\n",
       "    </tr>\n",
       "  </tbody>\n",
       "</table>\n",
       "</div>"
      ],
      "text/plain": [
       "   test_id      price\n",
       "0        0  14.309597\n",
       "1        1  14.309597\n",
       "2        2  58.838428\n",
       "3        3  17.220665\n",
       "4        4  11.790873"
      ]
     },
     "execution_count": 43,
     "metadata": {},
     "output_type": "execute_result"
    }
   ],
   "source": [
    "test[[\"test_id\", \"price\"]].head(5)"
   ]
  },
  {
   "cell_type": "code",
   "execution_count": null,
   "metadata": {
    "collapsed": true
   },
   "outputs": [],
   "source": []
  }
 ],
 "metadata": {
  "kernelspec": {
   "display_name": "Python 3",
   "language": "python",
   "name": "python3"
  },
  "language_info": {
   "codemirror_mode": {
    "name": "ipython",
    "version": 3
   },
   "file_extension": ".py",
   "mimetype": "text/x-python",
   "name": "python",
   "nbconvert_exporter": "python",
   "pygments_lexer": "ipython3",
   "version": "3.5.2"
  }
 },
 "nbformat": 4,
 "nbformat_minor": 2
}
